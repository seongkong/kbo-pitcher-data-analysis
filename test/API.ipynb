{
 "cells": [
  {
   "cell_type": "code",
   "execution_count": 1,
   "id": "ca027b7b-01f8-45a0-90bc-acd68bfc5225",
   "metadata": {},
   "outputs": [],
   "source": [
    "chromedriver_path = \"/Users/unusual/Downloads/chromedriver-mac-arm64/chromedriver\""
   ]
  },
  {
   "cell_type": "markdown",
   "id": "ce79cb62-be63-4e8f-98bb-c101b1b805ce",
   "metadata": {},
   "source": [
    "# 1. 타선 지원이 WHIP, ERA에 영향을 주는가?"
   ]
  },
  {
   "cell_type": "code",
   "execution_count": 3,
   "id": "7e1f8ebe-03a2-4b71-b9d9-a522bc0509ba",
   "metadata": {
    "scrolled": true
   },
   "outputs": [
    {
     "name": "stderr",
     "output_type": "stream",
     "text": [
      "in progress: 100%|████████████████████████████████████████████████████████████████████████████████| 12/12 [00:13<00:00,  1.16s/it]\n"
     ]
    },
    {
     "name": "stdout",
     "output_type": "stream",
     "text": [
      "[ERROR] 2021년 오류: Message: \n",
      "\n"
     ]
    },
    {
     "name": "stderr",
     "output_type": "stream",
     "text": [
      "in progress: 100%|████████████████████████████████████████████████████████████████████████████████| 12/12 [00:09<00:00,  1.27it/s]\n",
      "in progress: 100%|██████████████████████████████████████████████████████████████████████████████| 865/865 [16:51<00:00,  1.17s/it]\n",
      "in progress: 100%|████████████████████████████████████████████████████████████████████████████████| 12/12 [00:09<00:00,  1.26it/s]\n",
      "in progress: 100%|██████████████████████████████████████████████████████████████████████████████| 897/897 [16:34<00:00,  1.11s/it]\n",
      "in progress: 100%|████████████████████████████████████████████████████████████████████████████████| 12/12 [00:08<00:00,  1.50it/s]\n",
      "in progress:  93%|████████████████████████████████████████████████████████████████████████▏     | 802/866 [15:12<01:12,  1.14s/it]\n"
     ]
    },
    {
     "name": "stdout",
     "output_type": "stream",
     "text": [
      "[ERROR] 2024년 오류: '중파'\n"
     ]
    },
    {
     "name": "stderr",
     "output_type": "stream",
     "text": [
      "in progress: 100%|████████████████████████████████████████████████████████████████████████████████| 12/12 [00:09<00:00,  1.24it/s]\n",
      "in progress: 100%|██████████████████████████████████████████████████████████████████████████████| 831/831 [15:47<00:00,  1.14s/it]\n",
      "in progress: 100%|████████████████████████████████████████████████████████████████████████████████| 12/12 [00:09<00:00,  1.28it/s]\n",
      "in progress: 100%|██████████████████████████████████████████████████████████████████████████████| 852/852 [15:13<00:00,  1.07s/it]\n",
      "in progress: 100%|████████████████████████████████████████████████████████████████████████████████| 12/12 [00:08<00:00,  1.37it/s]\n",
      "in progress: 100%|██████████████████████████████████████████████████████████████████████████████| 737/737 [06:25<00:00,  1.91it/s]\n"
     ]
    }
   ],
   "source": [
    "import pandas as pd\n",
    "import kbodata\n",
    "\n",
    "# 경로는 사용자 환경에 맞게 조정\n",
    "chromedriver_path = \"/Users/unusual/Downloads/chromedriver-mac-arm64/chromedriver\"\n",
    "\n",
    "# 1. 연봉 데이터 로딩 및 선수 목록 구성\n",
    "salary_df = pd.read_csv(\"dataset.csv\")\n",
    "target_players = salary_df[['Name', 'Year']].dropna().drop_duplicates()\n",
    "target_players.columns = ['name', 'year']\n",
    "target_players['name'] = target_players['name'].astype(str).str.strip()\n",
    "target_players['year'] = target_players['year'].astype(int)\n",
    "\n",
    "# 2. 선수 기록 수집\n",
    "all_filtered_pitchers = []\n",
    "\n",
    "for y in target_players['year'].unique():\n",
    "    try:\n",
    "        sched = kbodata.get_yearly_schedule(int(y), chromedriver_path)\n",
    "        data = kbodata.get_game_data(sched, chromedriver_path)\n",
    "        pitcher_df = kbodata.pitcher_to_DataFrame(data)\n",
    "        scoreboard_df = kbodata.scoreboard_to_DataFrame(data)\n",
    "        pitcher_df = pitcher_df.merge(scoreboard_df[['idx', 'year']], on='idx', how='left')\n",
    "\n",
    "        pitcher_df['name'] = pitcher_df['name'].astype(str).str.strip()\n",
    "        pitcher_df['year'] = pitcher_df['year'].astype(int)\n",
    "\n",
    "        filtered = pitcher_df.merge(target_players, on=['name', 'year'], how='inner')\n",
    "        all_filtered_pitchers.append(filtered)\n",
    "\n",
    "    except Exception as e:\n",
    "        print(f\"[ERROR] {y}년 오류: {e}\")\n",
    "\n",
    "# 3. 결합 및 저장\n",
    "final_pitcher_df = pd.concat(all_filtered_pitchers, ignore_index=True)\n",
    "final_pitcher_df.to_csv(\"filtered_pitcher_data.csv\", index=False)"
   ]
  },
  {
   "cell_type": "code",
   "execution_count": 7,
   "id": "226b5aac-1c74-4853-ae72-99622b7ed0c6",
   "metadata": {},
   "outputs": [],
   "source": [
    "# 전처리: 연봉 문자열 숫자로 변환\n",
    "salary_df = salary_df.dropna(subset=['Year', 'Name'])\n",
    "salary_df['salary'] = salary_df['연봉'].astype(str).str.replace(',', '').astype(float)\n",
    "salary_df['year'] = salary_df['Year'].astype(int)\n",
    "salary_df['name'] = salary_df['Name'].astype(str).str.strip()\n",
    "\n",
    "# 병합\n",
    "merged_df = final_pitcher_df.merge(salary_df[['name', 'year', 'salary', 'FA']], on=['name', 'year'], how='left')"
   ]
  },
  {
   "cell_type": "code",
   "execution_count": 8,
   "id": "1179483f-7c45-4d86-be40-4900987cd524",
   "metadata": {},
   "outputs": [],
   "source": [
    "# InGameRS 포함 데이터 저장# IP (이닝 소화): 3으로 나눠서 계산\n",
    "merged_df['IP'] = merged_df['inning'].astype(int) // 3 + (merged_df['inning'].astype(int) % 3) / 3\n",
    "\n",
    "# ERA 계산 (earnedrun / IP * 9), 단 IP가 0이면 NaN\n",
    "merged_df['ERA'] = merged_df.apply(lambda row: (row['earnedrun'] / row['IP'] * 9) if row['IP'] > 0 else None, axis=1)\n",
    "pitcher_df.to_csv(f\"pitcher_with_rs_{y}.csv\", index=False)"
   ]
  },
  {
   "cell_type": "code",
   "execution_count": 9,
   "id": "efb11e0a-8c11-4b07-9fce-e66eba794495",
   "metadata": {},
   "outputs": [],
   "source": [
    "# scoreboard_df에서 InGameRS 추출\n",
    "rs_df = scoreboard_df[['idx', 'team', 'r']].rename(columns={'r': 'InGameRS'})\n",
    "\n",
    "# 득점 병합\n",
    "merged_df = merged_df.merge(rs_df, on=['idx', 'team'], how='left')"
   ]
  },
  {
   "cell_type": "code",
   "execution_count": 10,
   "id": "83977166-7396-40eb-a8cc-0a26a85404a6",
   "metadata": {},
   "outputs": [
    {
     "name": "stdout",
     "output_type": "stream",
     "text": [
      "                            OLS Regression Results                            \n",
      "==============================================================================\n",
      "Dep. Variable:                    ERA   R-squared:                       0.048\n",
      "Model:                            OLS   Adj. R-squared:                 -0.164\n",
      "Method:                 Least Squares   F-statistic:                    0.2270\n",
      "Date:                Mon, 26 May 2025   Prob (F-statistic):              0.801\n",
      "Time:                        09:02:54   Log-Likelihood:                -15.333\n",
      "No. Observations:                  12   AIC:                             36.67\n",
      "Df Residuals:                       9   BIC:                             38.12\n",
      "Df Model:                           2                                         \n",
      "Covariance Type:            nonrobust                                         \n",
      "==============================================================================\n",
      "                 coef    std err          t      P>|t|      [0.025      0.975]\n",
      "------------------------------------------------------------------------------\n",
      "const          1.4720      1.022      1.441      0.184      -0.839       3.783\n",
      "InGameRS       0.0140      0.060      0.232      0.822      -0.123       0.151\n",
      "IP            -0.0362      0.056     -0.650      0.532      -0.162       0.090\n",
      "FA                  0          0        nan        nan           0           0\n",
      "==============================================================================\n",
      "Omnibus:                        0.998   Durbin-Watson:                   1.572\n",
      "Prob(Omnibus):                  0.607   Jarque-Bera (JB):                0.681\n",
      "Skew:                           0.123   Prob(JB):                        0.711\n",
      "Kurtosis:                       1.859   Cond. No.                          inf\n",
      "==============================================================================\n",
      "\n",
      "Notes:\n",
      "[1] Standard Errors assume that the covariance matrix of the errors is correctly specified.\n",
      "[2] The smallest eigenvalue is      0. This might indicate that there are\n",
      "strong multicollinearity problems or that the design matrix is singular.\n"
     ]
    },
    {
     "name": "stderr",
     "output_type": "stream",
     "text": [
      "/Users/unusual/miniconda3/envs/capstone/lib/python3.9/site-packages/scipy/stats/_axis_nan_policy.py:531: UserWarning: kurtosistest only valid for n>=20 ... continuing anyway, n=12\n",
      "  res = hypotest_fun_out(*samples, **kwds)\n",
      "/Users/unusual/miniconda3/envs/capstone/lib/python3.9/site-packages/statsmodels/regression/linear_model.py:1966: RuntimeWarning: divide by zero encountered in scalar divide\n",
      "  return np.sqrt(eigvals[0]/eigvals[-1])\n"
     ]
    }
   ],
   "source": [
    "import statsmodels.api as sm\n",
    "\n",
    "# 결측 제거\n",
    "reg_df = merged_df.dropna(subset=['ERA', 'InGameRS', 'IP', 'FA'])\n",
    "\n",
    "X = sm.add_constant(reg_df[['InGameRS', 'IP', 'FA']])\n",
    "y = reg_df['ERA']\n",
    "\n",
    "model = sm.OLS(y, X).fit()\n",
    "print(model.summary())"
   ]
  },
  {
   "cell_type": "markdown",
   "id": "dc418566-5176-4b10-8abd-79c9b89ae1ec",
   "metadata": {},
   "source": [
    "## 타선 지원과 공격성 지표"
   ]
  },
  {
   "cell_type": "code",
   "execution_count": 11,
   "id": "70127fdf-74c5-40c2-878d-18e8fbd8c3dc",
   "metadata": {},
   "outputs": [],
   "source": [
    "# IP 계산 (이닝: 3단위로 기록되어 있음)\n",
    "merged_df['IP'] = merged_df['inning'].astype(int) // 3 + (merged_df['inning'].astype(int) % 3) / 3\n",
    "\n",
    "# K9 계산\n",
    "merged_df['K9'] = merged_df.apply(lambda row: (row['strikeout'] / row['IP'] * 9) if row['IP'] > 0 else None, axis=1)"
   ]
  },
  {
   "cell_type": "code",
   "execution_count": 12,
   "id": "6964aeeb-64c6-4dd4-9417-edc4bc5fc115",
   "metadata": {},
   "outputs": [
    {
     "name": "stdout",
     "output_type": "stream",
     "text": [
      "                            OLS Regression Results                            \n",
      "==============================================================================\n",
      "Dep. Variable:                     K9   R-squared:                       0.410\n",
      "Model:                            OLS   Adj. R-squared:                  0.278\n",
      "Method:                 Least Squares   F-statistic:                     3.122\n",
      "Date:                Mon, 26 May 2025   Prob (F-statistic):             0.0934\n",
      "Time:                        09:07:47   Log-Likelihood:                -13.506\n",
      "No. Observations:                  12   AIC:                             33.01\n",
      "Df Residuals:                       9   BIC:                             34.47\n",
      "Df Model:                           2                                         \n",
      "Covariance Type:            nonrobust                                         \n",
      "==============================================================================\n",
      "                 coef    std err          t      P>|t|      [0.025      0.975]\n",
      "------------------------------------------------------------------------------\n",
      "const          0.3197      0.877      0.364      0.724      -1.665       2.305\n",
      "InGameRS       0.0059      0.052      0.115      0.911      -0.111       0.123\n",
      "IP             0.1187      0.048      2.478      0.035       0.010       0.227\n",
      "==============================================================================\n",
      "Omnibus:                        0.786   Durbin-Watson:                   2.437\n",
      "Prob(Omnibus):                  0.675   Jarque-Bera (JB):                0.671\n",
      "Skew:                           0.472   Prob(JB):                        0.715\n",
      "Kurtosis:                       2.327   Cond. No.                         66.1\n",
      "==============================================================================\n",
      "\n",
      "Notes:\n",
      "[1] Standard Errors assume that the covariance matrix of the errors is correctly specified.\n"
     ]
    },
    {
     "name": "stderr",
     "output_type": "stream",
     "text": [
      "/Users/unusual/miniconda3/envs/capstone/lib/python3.9/site-packages/scipy/stats/_axis_nan_policy.py:531: UserWarning: kurtosistest only valid for n>=20 ... continuing anyway, n=12\n",
      "  res = hypotest_fun_out(*samples, **kwds)\n"
     ]
    }
   ],
   "source": [
    "import statsmodels.api as sm\n",
    "\n",
    "df = merged_df.dropna(subset=['K9', 'InGameRS', 'IP'])\n",
    "\n",
    "X = sm.add_constant(df[['InGameRS', 'IP']])\n",
    "y = df['K9']\n",
    "\n",
    "model = sm.OLS(y, X).fit()\n",
    "print(model.summary())"
   ]
  },
  {
   "cell_type": "code",
   "execution_count": 13,
   "id": "e05e9e2b-a8f2-41e1-95cf-e9c83046038d",
   "metadata": {},
   "outputs": [
    {
     "data": {
      "text/html": [
       "<div>\n",
       "<style scoped>\n",
       "    .dataframe tbody tr th:only-of-type {\n",
       "        vertical-align: middle;\n",
       "    }\n",
       "\n",
       "    .dataframe tbody tr th {\n",
       "        vertical-align: top;\n",
       "    }\n",
       "\n",
       "    .dataframe thead th {\n",
       "        text-align: right;\n",
       "    }\n",
       "</style>\n",
       "<table border=\"1\" class=\"dataframe\">\n",
       "  <thead>\n",
       "    <tr style=\"text-align: right;\">\n",
       "      <th></th>\n",
       "      <th>idx</th>\n",
       "      <th>name</th>\n",
       "      <th>team</th>\n",
       "      <th>mound</th>\n",
       "      <th>inning</th>\n",
       "      <th>result</th>\n",
       "      <th>strikeout</th>\n",
       "      <th>dead4ball</th>\n",
       "      <th>losescore</th>\n",
       "      <th>earnedrun</th>\n",
       "      <th>...</th>\n",
       "      <th>homerun</th>\n",
       "      <th>battednum</th>\n",
       "      <th>batternum</th>\n",
       "      <th>year</th>\n",
       "      <th>salary</th>\n",
       "      <th>FA</th>\n",
       "      <th>IP</th>\n",
       "      <th>ERA</th>\n",
       "      <th>InGameRS</th>\n",
       "      <th>K9</th>\n",
       "    </tr>\n",
       "  </thead>\n",
       "  <tbody>\n",
       "    <tr>\n",
       "      <th>0</th>\n",
       "      <td>20220312004</td>\n",
       "      <td>김도현</td>\n",
       "      <td>한화</td>\n",
       "      <td>0</td>\n",
       "      <td>20</td>\n",
       "      <td>L</td>\n",
       "      <td>1</td>\n",
       "      <td>0</td>\n",
       "      <td>0</td>\n",
       "      <td>0</td>\n",
       "      <td>...</td>\n",
       "      <td>0</td>\n",
       "      <td>7</td>\n",
       "      <td>7</td>\n",
       "      <td>2022</td>\n",
       "      <td>3500.0</td>\n",
       "      <td>0.0</td>\n",
       "      <td>6.666667</td>\n",
       "      <td>0.000000</td>\n",
       "      <td>NaN</td>\n",
       "      <td>1.350000</td>\n",
       "    </tr>\n",
       "    <tr>\n",
       "      <th>1</th>\n",
       "      <td>20220312005</td>\n",
       "      <td>손주영</td>\n",
       "      <td>LG</td>\n",
       "      <td>1</td>\n",
       "      <td>30</td>\n",
       "      <td>L</td>\n",
       "      <td>4</td>\n",
       "      <td>1</td>\n",
       "      <td>0</td>\n",
       "      <td>0</td>\n",
       "      <td>...</td>\n",
       "      <td>0</td>\n",
       "      <td>10</td>\n",
       "      <td>11</td>\n",
       "      <td>2022</td>\n",
       "      <td>3800.0</td>\n",
       "      <td>0.0</td>\n",
       "      <td>10.000000</td>\n",
       "      <td>0.000000</td>\n",
       "      <td>NaN</td>\n",
       "      <td>3.600000</td>\n",
       "    </tr>\n",
       "    <tr>\n",
       "      <th>2</th>\n",
       "      <td>20220315005</td>\n",
       "      <td>임찬규</td>\n",
       "      <td>LG</td>\n",
       "      <td>1</td>\n",
       "      <td>22</td>\n",
       "      <td>L</td>\n",
       "      <td>2</td>\n",
       "      <td>2</td>\n",
       "      <td>0</td>\n",
       "      <td>0</td>\n",
       "      <td>...</td>\n",
       "      <td>0</td>\n",
       "      <td>9</td>\n",
       "      <td>11</td>\n",
       "      <td>2022</td>\n",
       "      <td>20000.0</td>\n",
       "      <td>0.0</td>\n",
       "      <td>7.333333</td>\n",
       "      <td>0.000000</td>\n",
       "      <td>NaN</td>\n",
       "      <td>2.454545</td>\n",
       "    </tr>\n",
       "    <tr>\n",
       "      <th>3</th>\n",
       "      <td>20220317001</td>\n",
       "      <td>최원준</td>\n",
       "      <td>두산</td>\n",
       "      <td>1</td>\n",
       "      <td>22</td>\n",
       "      <td>L</td>\n",
       "      <td>1</td>\n",
       "      <td>1</td>\n",
       "      <td>2</td>\n",
       "      <td>2</td>\n",
       "      <td>...</td>\n",
       "      <td>0</td>\n",
       "      <td>12</td>\n",
       "      <td>13</td>\n",
       "      <td>2022</td>\n",
       "      <td>34000.0</td>\n",
       "      <td>0.0</td>\n",
       "      <td>7.333333</td>\n",
       "      <td>2.454545</td>\n",
       "      <td>NaN</td>\n",
       "      <td>1.227273</td>\n",
       "    </tr>\n",
       "    <tr>\n",
       "      <th>4</th>\n",
       "      <td>20220317004</td>\n",
       "      <td>김도현</td>\n",
       "      <td>한화</td>\n",
       "      <td>0</td>\n",
       "      <td>22</td>\n",
       "      <td>L</td>\n",
       "      <td>0</td>\n",
       "      <td>1</td>\n",
       "      <td>4</td>\n",
       "      <td>4</td>\n",
       "      <td>...</td>\n",
       "      <td>0</td>\n",
       "      <td>13</td>\n",
       "      <td>14</td>\n",
       "      <td>2022</td>\n",
       "      <td>3500.0</td>\n",
       "      <td>0.0</td>\n",
       "      <td>7.333333</td>\n",
       "      <td>4.909091</td>\n",
       "      <td>NaN</td>\n",
       "      <td>0.000000</td>\n",
       "    </tr>\n",
       "    <tr>\n",
       "      <th>...</th>\n",
       "      <td>...</td>\n",
       "      <td>...</td>\n",
       "      <td>...</td>\n",
       "      <td>...</td>\n",
       "      <td>...</td>\n",
       "      <td>...</td>\n",
       "      <td>...</td>\n",
       "      <td>...</td>\n",
       "      <td>...</td>\n",
       "      <td>...</td>\n",
       "      <td>...</td>\n",
       "      <td>...</td>\n",
       "      <td>...</td>\n",
       "      <td>...</td>\n",
       "      <td>...</td>\n",
       "      <td>...</td>\n",
       "      <td>...</td>\n",
       "      <td>...</td>\n",
       "      <td>...</td>\n",
       "      <td>...</td>\n",
       "      <td>...</td>\n",
       "    </tr>\n",
       "    <tr>\n",
       "      <th>922</th>\n",
       "      <td>20250404005</td>\n",
       "      <td>송승기</td>\n",
       "      <td>LG</td>\n",
       "      <td>1</td>\n",
       "      <td>50</td>\n",
       "      <td>W</td>\n",
       "      <td>4</td>\n",
       "      <td>3</td>\n",
       "      <td>2</td>\n",
       "      <td>2</td>\n",
       "      <td>...</td>\n",
       "      <td>0</td>\n",
       "      <td>22</td>\n",
       "      <td>25</td>\n",
       "      <td>2025</td>\n",
       "      <td>3500.0</td>\n",
       "      <td>0.0</td>\n",
       "      <td>16.666667</td>\n",
       "      <td>1.080000</td>\n",
       "      <td>8.0</td>\n",
       "      <td>2.160000</td>\n",
       "    </tr>\n",
       "    <tr>\n",
       "      <th>923</th>\n",
       "      <td>20250411005</td>\n",
       "      <td>송승기</td>\n",
       "      <td>LG</td>\n",
       "      <td>1</td>\n",
       "      <td>60</td>\n",
       "      <td>L</td>\n",
       "      <td>5</td>\n",
       "      <td>3</td>\n",
       "      <td>2</td>\n",
       "      <td>2</td>\n",
       "      <td>...</td>\n",
       "      <td>0</td>\n",
       "      <td>20</td>\n",
       "      <td>25</td>\n",
       "      <td>2025</td>\n",
       "      <td>3500.0</td>\n",
       "      <td>0.0</td>\n",
       "      <td>20.000000</td>\n",
       "      <td>0.900000</td>\n",
       "      <td>5.0</td>\n",
       "      <td>2.250000</td>\n",
       "    </tr>\n",
       "    <tr>\n",
       "      <th>924</th>\n",
       "      <td>20250417005</td>\n",
       "      <td>송승기</td>\n",
       "      <td>LG</td>\n",
       "      <td>1</td>\n",
       "      <td>42</td>\n",
       "      <td>L</td>\n",
       "      <td>4</td>\n",
       "      <td>2</td>\n",
       "      <td>4</td>\n",
       "      <td>4</td>\n",
       "      <td>...</td>\n",
       "      <td>1</td>\n",
       "      <td>20</td>\n",
       "      <td>22</td>\n",
       "      <td>2025</td>\n",
       "      <td>3500.0</td>\n",
       "      <td>0.0</td>\n",
       "      <td>14.000000</td>\n",
       "      <td>2.571429</td>\n",
       "      <td>3.0</td>\n",
       "      <td>2.571429</td>\n",
       "    </tr>\n",
       "    <tr>\n",
       "      <th>925</th>\n",
       "      <td>20250423005</td>\n",
       "      <td>송승기</td>\n",
       "      <td>LG</td>\n",
       "      <td>1</td>\n",
       "      <td>60</td>\n",
       "      <td>W</td>\n",
       "      <td>7</td>\n",
       "      <td>3</td>\n",
       "      <td>0</td>\n",
       "      <td>0</td>\n",
       "      <td>...</td>\n",
       "      <td>0</td>\n",
       "      <td>19</td>\n",
       "      <td>22</td>\n",
       "      <td>2025</td>\n",
       "      <td>3500.0</td>\n",
       "      <td>0.0</td>\n",
       "      <td>20.000000</td>\n",
       "      <td>0.000000</td>\n",
       "      <td>3.0</td>\n",
       "      <td>3.150000</td>\n",
       "    </tr>\n",
       "    <tr>\n",
       "      <th>926</th>\n",
       "      <td>20250514005</td>\n",
       "      <td>송승기</td>\n",
       "      <td>LG</td>\n",
       "      <td>1</td>\n",
       "      <td>60</td>\n",
       "      <td>W</td>\n",
       "      <td>5</td>\n",
       "      <td>2</td>\n",
       "      <td>0</td>\n",
       "      <td>0</td>\n",
       "      <td>...</td>\n",
       "      <td>0</td>\n",
       "      <td>22</td>\n",
       "      <td>24</td>\n",
       "      <td>2025</td>\n",
       "      <td>3500.0</td>\n",
       "      <td>0.0</td>\n",
       "      <td>20.000000</td>\n",
       "      <td>0.000000</td>\n",
       "      <td>12.0</td>\n",
       "      <td>2.250000</td>\n",
       "    </tr>\n",
       "  </tbody>\n",
       "</table>\n",
       "<p>927 rows × 22 columns</p>\n",
       "</div>"
      ],
      "text/plain": [
       "             idx name team mound inning result  strikeout  dead4ball  \\\n",
       "0    20220312004  김도현   한화     0     20      L          1          0   \n",
       "1    20220312005  손주영   LG     1     30      L          4          1   \n",
       "2    20220315005  임찬규   LG     1     22      L          2          2   \n",
       "3    20220317001  최원준   두산     1     22      L          1          1   \n",
       "4    20220317004  김도현   한화     0     22      L          0          1   \n",
       "..           ...  ...  ...   ...    ...    ...        ...        ...   \n",
       "922  20250404005  송승기   LG     1     50      W          4          3   \n",
       "923  20250411005  송승기   LG     1     60      L          5          3   \n",
       "924  20250417005  송승기   LG     1     42      L          4          2   \n",
       "925  20250423005  송승기   LG     1     60      W          7          3   \n",
       "926  20250514005  송승기   LG     1     60      W          5          2   \n",
       "\n",
       "     losescore  earnedrun  ...  homerun  battednum  batternum  year   salary  \\\n",
       "0            0          0  ...        0          7          7  2022   3500.0   \n",
       "1            0          0  ...        0         10         11  2022   3800.0   \n",
       "2            0          0  ...        0          9         11  2022  20000.0   \n",
       "3            2          2  ...        0         12         13  2022  34000.0   \n",
       "4            4          4  ...        0         13         14  2022   3500.0   \n",
       "..         ...        ...  ...      ...        ...        ...   ...      ...   \n",
       "922          2          2  ...        0         22         25  2025   3500.0   \n",
       "923          2          2  ...        0         20         25  2025   3500.0   \n",
       "924          4          4  ...        1         20         22  2025   3500.0   \n",
       "925          0          0  ...        0         19         22  2025   3500.0   \n",
       "926          0          0  ...        0         22         24  2025   3500.0   \n",
       "\n",
       "      FA         IP       ERA  InGameRS        K9  \n",
       "0    0.0   6.666667  0.000000       NaN  1.350000  \n",
       "1    0.0  10.000000  0.000000       NaN  3.600000  \n",
       "2    0.0   7.333333  0.000000       NaN  2.454545  \n",
       "3    0.0   7.333333  2.454545       NaN  1.227273  \n",
       "4    0.0   7.333333  4.909091       NaN  0.000000  \n",
       "..   ...        ...       ...       ...       ...  \n",
       "922  0.0  16.666667  1.080000       8.0  2.160000  \n",
       "923  0.0  20.000000  0.900000       5.0  2.250000  \n",
       "924  0.0  14.000000  2.571429       3.0  2.571429  \n",
       "925  0.0  20.000000  0.000000       3.0  3.150000  \n",
       "926  0.0  20.000000  0.000000      12.0  2.250000  \n",
       "\n",
       "[927 rows x 22 columns]"
      ]
     },
     "execution_count": 13,
     "metadata": {},
     "output_type": "execute_result"
    }
   ],
   "source": [
    "merged_df"
   ]
  },
  {
   "cell_type": "code",
   "execution_count": 14,
   "id": "16f6f40a-3568-48c9-aae9-d2469e696aa6",
   "metadata": {},
   "outputs": [],
   "source": [
    "# 1. 경기별 승리 팀 계산\n",
    "# 예: scoreboard_df → [idx, team, r]\n",
    "scoreboard_result = scoreboard_df[['idx', 'team', 'r']].copy()\n",
    "\n",
    "# 각 경기(idx)에서 r이 가장 높은 팀을 승리팀으로 판단\n",
    "scoreboard_result['r'] = scoreboard_result['r'].astype(float)\n",
    "winner_df = scoreboard_result.loc[scoreboard_result.groupby('idx')['r'].idxmax()]\n",
    "winner_df = winner_df.rename(columns={'team': 'winner_team'})[['idx', 'winner_team']]\n",
    "\n",
    "# 2. pitcher 데이터에 병합\n",
    "merged_df = merged_df.merge(winner_df, on='idx', how='left')\n",
    "\n",
    "# 3. 승리 여부 부여\n",
    "merged_df['W'] = (merged_df['team'] == merged_df['winner_team']).astype(int)"
   ]
  },
  {
   "cell_type": "code",
   "execution_count": 15,
   "id": "5225230a-6712-4333-a489-b427b9781964",
   "metadata": {},
   "outputs": [
    {
     "name": "stdout",
     "output_type": "stream",
     "text": [
      "                            OLS Regression Results                            \n",
      "==============================================================================\n",
      "Dep. Variable:                    ERA   R-squared:                       0.000\n",
      "Model:                            OLS   Adj. R-squared:                 -0.001\n",
      "Method:                 Least Squares   F-statistic:                    0.3513\n",
      "Date:                Mon, 26 May 2025   Prob (F-statistic):              0.553\n",
      "Time:                        09:11:30   Log-Likelihood:                -3072.6\n",
      "No. Observations:                 921   AIC:                             6149.\n",
      "Df Residuals:                     919   BIC:                             6159.\n",
      "Df Model:                           1                                         \n",
      "Covariance Type:            nonrobust                                         \n",
      "==============================================================================\n",
      "                 coef    std err          t      P>|t|      [0.025      0.975]\n",
      "------------------------------------------------------------------------------\n",
      "const          2.1221      0.226      9.396      0.000       1.679       2.565\n",
      "W             -1.1728      1.979     -0.593      0.553      -5.056       2.710\n",
      "==============================================================================\n",
      "Omnibus:                     1456.826   Durbin-Watson:                   1.881\n",
      "Prob(Omnibus):                  0.000   Jarque-Bera (JB):           512629.199\n",
      "Skew:                           9.641   Prob(JB):                         0.00\n",
      "Kurtosis:                     116.959   Cond. No.                         8.82\n",
      "==============================================================================\n",
      "\n",
      "Notes:\n",
      "[1] Standard Errors assume that the covariance matrix of the errors is correctly specified.\n"
     ]
    }
   ],
   "source": [
    "import statsmodels.api as sm\n",
    "\n",
    "df = merged_df.dropna(subset=['ERA', 'W'])\n",
    "\n",
    "X = sm.add_constant(df[['W']])\n",
    "y = df['ERA']\n",
    "\n",
    "model = sm.OLS(y, X).fit()\n",
    "print(model.summary())"
   ]
  },
  {
   "cell_type": "code",
   "execution_count": 16,
   "id": "ea468ce7-23a9-45c7-afd4-9759d9e2828e",
   "metadata": {},
   "outputs": [
    {
     "name": "stdout",
     "output_type": "stream",
     "text": [
      "                            OLS Regression Results                            \n",
      "==============================================================================\n",
      "Dep. Variable:                    ERA   R-squared:                       0.003\n",
      "Model:                            OLS   Adj. R-squared:                 -0.096\n",
      "Method:                 Least Squares   F-statistic:                   0.03393\n",
      "Date:                Mon, 26 May 2025   Prob (F-statistic):              0.858\n",
      "Time:                        09:14:36   Log-Likelihood:                -15.608\n",
      "No. Observations:                  12   AIC:                             35.22\n",
      "Df Residuals:                      10   BIC:                             36.19\n",
      "Df Model:                           1                                         \n",
      "Covariance Type:            nonrobust                                         \n",
      "==============================================================================\n",
      "                 coef    std err          t      P>|t|      [0.025      0.975]\n",
      "------------------------------------------------------------------------------\n",
      "const          0.8829      0.457      1.933      0.082      -0.135       1.901\n",
      "InGameRS       0.0108      0.058      0.184      0.858      -0.119       0.141\n",
      "==============================================================================\n",
      "Omnibus:                        1.851   Durbin-Watson:                   1.685\n",
      "Prob(Omnibus):                  0.396   Jarque-Bera (JB):                0.935\n",
      "Skew:                           0.253   Prob(JB):                        0.627\n",
      "Kurtosis:                       1.730   Cond. No.                         12.8\n",
      "==============================================================================\n",
      "\n",
      "Notes:\n",
      "[1] Standard Errors assume that the covariance matrix of the errors is correctly specified.\n"
     ]
    },
    {
     "name": "stderr",
     "output_type": "stream",
     "text": [
      "/Users/unusual/miniconda3/envs/capstone/lib/python3.9/site-packages/scipy/stats/_axis_nan_policy.py:531: UserWarning: kurtosistest only valid for n>=20 ... continuing anyway, n=12\n",
      "  res = hypotest_fun_out(*samples, **kwds)\n"
     ]
    }
   ],
   "source": [
    "df1 = merged_df.dropna(subset=['ERA', 'InGameRS'])\n",
    "\n",
    "X1 = sm.add_constant(df1[['InGameRS']])\n",
    "y1 = df1['ERA']\n",
    "\n",
    "model1 = sm.OLS(y1, X1).fit()\n",
    "print(model1.summary())"
   ]
  },
  {
   "cell_type": "code",
   "execution_count": 17,
   "id": "45cd7bd5-ca7d-4a65-bbdb-058b39f04edc",
   "metadata": {},
   "outputs": [
    {
     "name": "stdout",
     "output_type": "stream",
     "text": [
      "                            OLS Regression Results                            \n",
      "==============================================================================\n",
      "Dep. Variable:                 salary   R-squared:                        -inf\n",
      "Model:                            OLS   Adj. R-squared:                   -inf\n",
      "Method:                 Least Squares   F-statistic:                    -4.500\n",
      "Date:                Mon, 26 May 2025   Prob (F-statistic):               1.00\n",
      "Time:                        09:14:49   Log-Likelihood:                 278.75\n",
      "No. Observations:                  12   AIC:                            -551.5\n",
      "Df Residuals:                       9   BIC:                            -550.0\n",
      "Df Model:                           2                                         \n",
      "Covariance Type:            nonrobust                                         \n",
      "==============================================================================\n",
      "                 coef    std err          t      P>|t|      [0.025      0.975]\n",
      "------------------------------------------------------------------------------\n",
      "const       3500.0000   1.25e-11   2.79e+14      0.000    3500.000    3500.000\n",
      "InGameRS   -2.402e-12   1.37e-12     -1.752      0.114    -5.5e-12       7e-13\n",
      "ERA         1.626e-11   7.41e-12      2.194      0.056   -5.06e-13     3.3e-11\n",
      "==============================================================================\n",
      "Omnibus:                        0.343   Durbin-Watson:                   1.155\n",
      "Prob(Omnibus):                  0.842   Jarque-Bera (JB):                0.421\n",
      "Skew:                          -0.305   Prob(JB):                        0.810\n",
      "Kurtosis:                       2.315   Cond. No.                         16.0\n",
      "==============================================================================\n",
      "\n",
      "Notes:\n",
      "[1] Standard Errors assume that the covariance matrix of the errors is correctly specified.\n"
     ]
    },
    {
     "name": "stderr",
     "output_type": "stream",
     "text": [
      "/Users/unusual/miniconda3/envs/capstone/lib/python3.9/site-packages/scipy/stats/_axis_nan_policy.py:531: UserWarning: kurtosistest only valid for n>=20 ... continuing anyway, n=12\n",
      "  res = hypotest_fun_out(*samples, **kwds)\n",
      "/Users/unusual/miniconda3/envs/capstone/lib/python3.9/site-packages/statsmodels/regression/linear_model.py:1782: RuntimeWarning: divide by zero encountered in scalar divide\n",
      "  return 1 - self.ssr/self.centered_tss\n"
     ]
    }
   ],
   "source": [
    "df2 = merged_df.dropna(subset=['salary', 'InGameRS', 'ERA'])\n",
    "\n",
    "X2 = sm.add_constant(df2[['InGameRS', 'ERA']])\n",
    "y2 = df2['salary']\n",
    "\n",
    "model2 = sm.OLS(y2, X2).fit()\n",
    "print(model2.summary())"
   ]
  },
  {
   "cell_type": "code",
   "execution_count": 18,
   "id": "7bdd8ace-078f-4b05-a2e5-5ae5d461a9b5",
   "metadata": {},
   "outputs": [
    {
     "name": "stdout",
     "output_type": "stream",
     "text": [
      "                            OLS Regression Results                            \n",
      "==============================================================================\n",
      "Dep. Variable:                     IP   R-squared:                       0.129\n",
      "Model:                            OLS   Adj. R-squared:                  0.126\n",
      "Method:                 Least Squares   F-statistic:                     45.32\n",
      "Date:                Mon, 26 May 2025   Prob (F-statistic):           2.60e-27\n",
      "Time:                        09:16:57   Log-Likelihood:                -3058.0\n",
      "No. Observations:                 921   AIC:                             6124.\n",
      "Df Residuals:                     917   BIC:                             6143.\n",
      "Df Model:                           3                                         \n",
      "Covariance Type:            nonrobust                                         \n",
      "==============================================================================\n",
      "                 coef    std err          t      P>|t|      [0.025      0.975]\n",
      "------------------------------------------------------------------------------\n",
      "const         16.7267      0.296     56.534      0.000      16.146      17.307\n",
      "ERA           -0.2835      0.033     -8.693      0.000      -0.348      -0.220\n",
      "K9            -0.5050      0.073     -6.961      0.000      -0.647      -0.363\n",
      "W              1.5355      1.950      0.787      0.431      -2.291       5.363\n",
      "==============================================================================\n",
      "Omnibus:                       79.108   Durbin-Watson:                   1.636\n",
      "Prob(Omnibus):                  0.000   Jarque-Bera (JB):               65.692\n",
      "Skew:                          -0.570   Prob(JB):                     5.44e-15\n",
      "Kurtosis:                       2.359   Cond. No.                         63.8\n",
      "==============================================================================\n",
      "\n",
      "Notes:\n",
      "[1] Standard Errors assume that the covariance matrix of the errors is correctly specified.\n"
     ]
    }
   ],
   "source": [
    "import statsmodels.api as sm\n",
    "\n",
    "df = merged_df.dropna(subset=['IP', 'ERA', 'K9', 'W'])\n",
    "\n",
    "X = sm.add_constant(df[['ERA', 'K9', 'W']])\n",
    "y = df['IP']\n",
    "\n",
    "model = sm.OLS(y, X).fit()\n",
    "print(model.summary())"
   ]
  },
  {
   "cell_type": "code",
   "execution_count": 19,
   "id": "f8ab2cba-1b7f-4134-959a-190586e4d35d",
   "metadata": {},
   "outputs": [
    {
     "name": "stdout",
     "output_type": "stream",
     "text": [
      "                            OLS Regression Results                            \n",
      "==============================================================================\n",
      "Dep. Variable:                      W   R-squared:                        -inf\n",
      "Model:                            OLS   Adj. R-squared:                   -inf\n",
      "Method:                 Least Squares   F-statistic:                    -10.00\n",
      "Date:                Mon, 26 May 2025   Prob (F-statistic):               1.00\n",
      "Time:                        09:17:54   Log-Likelihood:                 418.73\n",
      "No. Observations:                  12   AIC:                            -833.5\n",
      "Df Residuals:                      10   BIC:                            -832.5\n",
      "Df Model:                           1                                         \n",
      "Covariance Type:            nonrobust                                         \n",
      "==============================================================================\n",
      "                 coef    std err          t      P>|t|      [0.025      0.975]\n",
      "------------------------------------------------------------------------------\n",
      "const          1.0000   8.72e-17   1.15e+16      0.000       1.000       1.000\n",
      "InGameRS   -2.082e-17   1.11e-17     -1.867      0.091   -4.57e-17    4.02e-18\n",
      "==============================================================================\n",
      "Omnibus:                        1.244   Durbin-Watson:                   1.000\n",
      "Prob(Omnibus):                  0.537   Jarque-Bera (JB):                0.764\n",
      "Skew:                           0.184   Prob(JB):                        0.682\n",
      "Kurtosis:                       1.820   Cond. No.                         12.8\n",
      "==============================================================================\n",
      "\n",
      "Notes:\n",
      "[1] Standard Errors assume that the covariance matrix of the errors is correctly specified.\n"
     ]
    },
    {
     "name": "stderr",
     "output_type": "stream",
     "text": [
      "/Users/unusual/miniconda3/envs/capstone/lib/python3.9/site-packages/scipy/stats/_axis_nan_policy.py:531: UserWarning: kurtosistest only valid for n>=20 ... continuing anyway, n=12\n",
      "  res = hypotest_fun_out(*samples, **kwds)\n",
      "/Users/unusual/miniconda3/envs/capstone/lib/python3.9/site-packages/statsmodels/regression/linear_model.py:1782: RuntimeWarning: divide by zero encountered in scalar divide\n",
      "  return 1 - self.ssr/self.centered_tss\n"
     ]
    }
   ],
   "source": [
    "import statsmodels.api as sm\n",
    "\n",
    "df = merged_df.dropna(subset=['W', 'InGameRS'])\n",
    "\n",
    "X = sm.add_constant(df[['InGameRS']])\n",
    "y = df['W']\n",
    "\n",
    "model = sm.OLS(y, X).fit()\n",
    "print(model.summary())"
   ]
  },
  {
   "cell_type": "code",
   "execution_count": 21,
   "id": "88259bb5-a135-405e-953b-2d74582f559e",
   "metadata": {},
   "outputs": [],
   "source": [
    "winner_df = scoreboard_df.loc[scoreboard_df.groupby('idx')['r'].idxmax()]\n",
    "winner_df = winner_df.rename(columns={'team': 'winner_team'})[['idx', 'winner_team']]"
   ]
  },
  {
   "cell_type": "markdown",
   "id": "8d7e949d-4f85-4cb9-a5e7-57c23040d46a",
   "metadata": {},
   "source": [
    "## 6번"
   ]
  },
  {
   "cell_type": "code",
   "execution_count": 29,
   "id": "f4a088b4-6382-49db-9be9-8bb208121978",
   "metadata": {},
   "outputs": [],
   "source": [
    "filtered_pitchers = pd.read_csv(\"filtered_pitcher_data.csv\")"
   ]
  },
  {
   "cell_type": "code",
   "execution_count": 30,
   "id": "189dc015-96a1-4f00-9664-c1a9cacb8f1b",
   "metadata": {},
   "outputs": [
    {
     "name": "stderr",
     "output_type": "stream",
     "text": [
      "in progress: 100%|████████████████████████████████████████████████████████████████████████████████| 12/12 [00:12<00:00,  1.00s/it]\n",
      "in progress: 100%|██████████████████████████████████████████████████████████████████████████████| 865/865 [19:34<00:00,  1.36s/it]\n",
      "in progress: 100%|████████████████████████████████████████████████████████████████████████████████| 12/12 [00:12<00:00,  1.02s/it]\n",
      "in progress: 100%|██████████████████████████████████████████████████████████████████████████████| 897/897 [19:22<00:00,  1.30s/it]\n",
      "in progress: 100%|████████████████████████████████████████████████████████████████████████████████| 12/12 [00:13<00:00,  1.11s/it]\n",
      "in progress: 100%|██████████████████████████████████████████████████████████████████████████████| 831/831 [17:33<00:00,  1.27s/it]\n",
      "in progress: 100%|████████████████████████████████████████████████████████████████████████████████| 12/12 [00:12<00:00,  1.00s/it]\n",
      "in progress: 100%|██████████████████████████████████████████████████████████████████████████████| 852/852 [17:02<00:00,  1.20s/it]\n",
      "in progress: 100%|████████████████████████████████████████████████████████████████████████████████| 12/12 [00:12<00:00,  1.03s/it]\n",
      "in progress: 100%|██████████████████████████████████████████████████████████████████████████████| 737/737 [07:25<00:00,  1.65it/s]\n"
     ]
    }
   ],
   "source": [
    "# 연도별로 scoreboard_df 다시 불러오기\n",
    "all_scoreboards = []\n",
    "\n",
    "for y in filtered_pitchers['year'].unique():\n",
    "    sched = kbodata.get_yearly_schedule(int(y), chromedriver_path)\n",
    "    data = kbodata.get_game_data(sched, chromedriver_path)\n",
    "    scoreboard_df = kbodata.scoreboard_to_DataFrame(data)\n",
    "    all_scoreboards.append(scoreboard_df[['idx', 'team', 'r']])\n",
    "\n",
    "scoreboard_df = pd.concat(all_scoreboards, ignore_index=True)"
   ]
  },
  {
   "cell_type": "code",
   "execution_count": 54,
   "id": "6e1da554-2063-4858-9332-a356a07e1ce3",
   "metadata": {},
   "outputs": [],
   "source": [
    "starting_pitchers['idx'] = starting_pitchers['idx'].astype(str)\n",
    "winner_rows['idx'] = winner_rows['idx'].astype(str)"
   ]
  },
  {
   "cell_type": "code",
   "execution_count": 55,
   "id": "f4cdcbb3-d350-43c6-8f76-f6015383077f",
   "metadata": {},
   "outputs": [],
   "source": [
    "starting_pitchers = starting_pitchers.merge(winner_rows, on='idx', how='left')\n",
    "starting_pitchers['W'] = (starting_pitchers['team'] == starting_pitchers['winner_team']).astype(int)"
   ]
  },
  {
   "cell_type": "code",
   "execution_count": 56,
   "id": "c8f8cacf-9d63-4fc4-a0af-4f37a7ddb458",
   "metadata": {},
   "outputs": [],
   "source": [
    "# 3. 선발투수만 추출\n",
    "starting_pitchers = filtered_pitchers[filtered_pitchers['mound'] == 1].copy()\n",
    "starting_pitchers['idx'] = starting_pitchers['idx'].astype(str)\n",
    "\n",
    "# 승리팀 추출\n",
    "winner_rows = scoreboard_df.loc[scoreboard_df.groupby('idx')['r'].idxmax()].copy()\n",
    "winner_rows.rename(columns={'team': 'winner_team'}, inplace=True)\n",
    "winner_rows = winner_rows[['idx', 'winner_team']]\n",
    "winner_rows['idx'] = winner_rows['idx'].astype(str)  # ← 이거 안 하면 오류\n",
    "\n",
    "# 병합 및 W 생성\n",
    "starting_pitchers = starting_pitchers.merge(winner_rows, on='idx', how='left')\n",
    "starting_pitchers['W'] = (starting_pitchers['team'] == starting_pitchers['winner_team']).astype(int)"
   ]
  },
  {
   "cell_type": "code",
   "execution_count": 57,
   "id": "0b32dc02-b8ea-4da3-b867-b312f6db494a",
   "metadata": {},
   "outputs": [],
   "source": [
    "# 4. 타선 득점 InGameRS 계산\n",
    "ingamers_rows = scoreboard_df[['idx', 'team', 'r']].copy()\n",
    "ingamers_rows.rename(columns={'r': 'InGameRS'}, inplace=True)\n",
    "ingamers_rows['idx'] = ingamers_rows['idx'].astype(str)\n",
    "\n",
    "# 병합\n",
    "starting_pitchers = starting_pitchers.merge(ingamers_rows, on=['idx', 'team'], how='left')"
   ]
  },
  {
   "cell_type": "code",
   "execution_count": 59,
   "id": "8376051c-2daf-4180-ad4c-7d8b4130a727",
   "metadata": {},
   "outputs": [],
   "source": [
    "# scoreboard_df와 starting_pitchers의 team 컬럼 정제\n",
    "scoreboard_df['team'] = scoreboard_df['team'].str.strip()\n",
    "starting_pitchers['team'] = starting_pitchers['team'].str.strip()\n",
    "winner_rows['winner_team'] = winner_rows['winner_team'].str.strip()"
   ]
  },
  {
   "cell_type": "code",
   "execution_count": 60,
   "id": "372a1fb7-f919-4498-b4a2-3968a1a1c814",
   "metadata": {},
   "outputs": [
    {
     "name": "stdout",
     "output_type": "stream",
     "text": [
      "                            OLS Regression Results                            \n",
      "==============================================================================\n",
      "Dep. Variable:                      W   R-squared:                        -inf\n",
      "Model:                            OLS   Adj. R-squared:                   -inf\n",
      "Method:                 Least Squares   F-statistic:                    -519.0\n",
      "Date:                Mon, 26 May 2025   Prob (F-statistic):               1.00\n",
      "Time:                        13:05:16   Log-Likelihood:                 18104.\n",
      "No. Observations:                 521   AIC:                        -3.620e+04\n",
      "Df Residuals:                     519   BIC:                        -3.620e+04\n",
      "Df Model:                           1                                         \n",
      "Covariance Type:            nonrobust                                         \n",
      "==============================================================================\n",
      "                 coef    std err          t      P>|t|      [0.025      0.975]\n",
      "------------------------------------------------------------------------------\n",
      "const          1.0000    1.5e-17   6.68e+16      0.000       1.000       1.000\n",
      "InGameRS   -1.648e-17   2.89e-18     -5.709      0.000   -2.22e-17   -1.08e-17\n",
      "==============================================================================\n",
      "Omnibus:                       99.550   Durbin-Watson:                   0.466\n",
      "Prob(Omnibus):                  0.000   Jarque-Bera (JB):              160.857\n",
      "Skew:                           1.360   Prob(JB):                     1.18e-35\n",
      "Kurtosis:                       2.884   Cond. No.                         9.24\n",
      "==============================================================================\n",
      "\n",
      "Notes:\n",
      "[1] Standard Errors assume that the covariance matrix of the errors is correctly specified.\n"
     ]
    },
    {
     "name": "stderr",
     "output_type": "stream",
     "text": [
      "/Users/unusual/miniconda3/envs/capstone/lib/python3.9/site-packages/statsmodels/regression/linear_model.py:1782: RuntimeWarning: divide by zero encountered in scalar divide\n",
      "  return 1 - self.ssr/self.centered_tss\n"
     ]
    }
   ],
   "source": [
    "# 5. 회귀분석\n",
    "df = starting_pitchers[['W', 'InGameRS']].dropna()\n",
    "X = sm.add_constant(df[['InGameRS']])\n",
    "y = df['W']\n",
    "\n",
    "model = sm.OLS(y, X).fit()\n",
    "print(model.summary())"
   ]
  },
  {
   "cell_type": "code",
   "execution_count": 61,
   "id": "4100552c-dfc8-40ca-ae96-5767d3fbb60c",
   "metadata": {},
   "outputs": [
    {
     "name": "stdout",
     "output_type": "stream",
     "text": [
      "W\n",
      "1    521\n",
      "0    202\n",
      "Name: count, dtype: int64\n"
     ]
    }
   ],
   "source": [
    "print(starting_pitchers['W'].value_counts())"
   ]
  },
  {
   "cell_type": "code",
   "execution_count": null,
   "id": "0b353bcd-3c1c-48c9-903c-727359c95272",
   "metadata": {},
   "outputs": [],
   "source": []
  }
 ],
 "metadata": {
  "kernelspec": {
   "display_name": "Python 3 (ipykernel)",
   "language": "python",
   "name": "python3"
  },
  "language_info": {
   "codemirror_mode": {
    "name": "ipython",
    "version": 3
   },
   "file_extension": ".py",
   "mimetype": "text/x-python",
   "name": "python",
   "nbconvert_exporter": "python",
   "pygments_lexer": "ipython3",
   "version": "3.9.21"
  }
 },
 "nbformat": 4,
 "nbformat_minor": 5
}
