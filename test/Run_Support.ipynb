{
 "cells": [
  {
   "cell_type": "code",
   "execution_count": 10,
   "id": "52b635b4-5e97-4901-be17-16fe6cc2090f",
   "metadata": {},
   "outputs": [
    {
     "ename": "SyntaxError",
     "evalue": "invalid syntax (3098238271.py, line 1)",
     "output_type": "error",
     "traceback": [
      "\u001b[0;36m  Cell \u001b[0;32mIn[10], line 1\u001b[0;36m\u001b[0m\n\u001b[0;31m    xattr -d com.apple.quarantine /Users/unusual/Downloads/chromedriver-mac-arm64/chromedriver\u001b[0m\n\u001b[0m             ^\u001b[0m\n\u001b[0;31mSyntaxError\u001b[0m\u001b[0;31m:\u001b[0m invalid syntax\n"
     ]
    }
   ],
   "source": [
    "xattr -d com.apple.quarantine /Users/unusual/Downloads/chromedriver-mac-arm64/chromedriver"
   ]
  },
  {
   "cell_type": "code",
   "execution_count": null,
   "id": "dc77d12d-8ba4-4070-b198-00e5b99769f6",
   "metadata": {},
   "outputs": [
    {
     "name": "stdout",
     "output_type": "stream",
     "text": [
      "\n",
      "📦 접속 URL: https://www.statiz.co.kr/game.php?m=box&year=2022&date=20220405\n"
     ]
    }
   ],
   "source": [
    "from selenium import webdriver\n",
    "from selenium.webdriver.chrome.service import Service\n",
    "from selenium.webdriver.chrome.options import Options\n",
    "import time\n",
    "import pandas as pd\n",
    "from io import StringIO\n",
    "\n",
    "# ✅ 올바른 실행파일 경로로 수정!\n",
    "CHROME_DRIVER_PATH = \"/Users/unusual/Downloads/chromedriver-mac-arm64/chromedriver\"\n",
    "\n",
    "def get_real_boxscore_innings(date, team='KT'):\n",
    "    url = f'https://www.statiz.co.kr/game.php?m=box&year={date[:4]}&date={date.replace(\"-\", \"\")}'\n",
    "    print(f\"\\n📦 접속 URL: {url}\")\n",
    "\n",
    "    options = Options()\n",
    "    options.add_argument('--window-size=1280x1024')\n",
    "    # options.add_argument('--headless')  # 디버깅용\n",
    "    options.add_argument('--disable-gpu')\n",
    "\n",
    "    service = Service(executable_path=CHROME_DRIVER_PATH)\n",
    "    driver = webdriver.Chrome(service=service, options=options)\n",
    "\n",
    "    driver.set_page_load_timeout(30)\n",
    "    driver.get(url)\n",
    "    time.sleep(5)\n",
    "\n",
    "    tables = pd.read_html(StringIO(driver.page_source))\n",
    "    driver.quit()\n",
    "\n",
    "    print(f\"\\n📄 {date} — 총 {len(tables)}개의 테이블 감지됨\")\n",
    "    for i, table in enumerate(tables):\n",
    "        print(f\"\\n🔢 Table {i}:\")\n",
    "        print(table.head())\n",
    "\n",
    "    return None\n",
    "\n",
    "# 실행\n",
    "get_real_boxscore_innings('2022-04-05')"
   ]
  },
  {
   "cell_type": "code",
   "execution_count": null,
   "id": "083fbb8a-aea8-4b38-a90b-2c22b01aadf8",
   "metadata": {},
   "outputs": [],
   "source": []
  }
 ],
 "metadata": {
  "kernelspec": {
   "display_name": "Python 3 (ipykernel)",
   "language": "python",
   "name": "python3"
  },
  "language_info": {
   "codemirror_mode": {
    "name": "ipython",
    "version": 3
   },
   "file_extension": ".py",
   "mimetype": "text/x-python",
   "name": "python",
   "nbconvert_exporter": "python",
   "pygments_lexer": "ipython3",
   "version": "3.9.21"
  }
 },
 "nbformat": 4,
 "nbformat_minor": 5
}
