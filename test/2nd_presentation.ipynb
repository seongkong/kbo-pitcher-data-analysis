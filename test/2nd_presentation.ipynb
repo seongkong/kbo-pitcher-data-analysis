{
 "cells": [
  {
   "cell_type": "markdown",
   "id": "8f9c065a-56b5-467d-b02f-21e2a9075491",
   "metadata": {},
   "source": [
    "## 2차 발표 RS 우선 분석"
   ]
  },
  {
   "cell_type": "markdown",
   "id": "ae8174c5-040b-4a7c-9cbb-3308d9cb105d",
   "metadata": {},
   "source": [
    "### 데이터 로딩 및 전처리"
   ]
  },
  {
   "cell_type": "code",
   "execution_count": 53,
   "id": "b8bfb3d0-630b-4176-81bf-1bab904500fa",
   "metadata": {},
   "outputs": [],
   "source": [
    "import pandas as pd\n",
    "import numpy as np\n",
    "\n",
    "# 사용자 제공 파일 로딩\n",
    "player_info = pd.read_csv(\"player_info_sample.csv\")\n",
    "\n",
    "# salary_next 쉼표 제거 → 숫자 변환\n",
    "player_info[\"salary_next\"] = (\n",
    "    player_info[\"salary_next\"].astype(str).str.replace(\",\", \"\").astype(float)\n",
    ")\n",
    "\n",
    "# 원화 변환 및 로그 변환\n",
    "player_info[\"salary_next_won\"] = player_info[\"salary_next\"] * 10000\n",
    "player_info[\"log_salary_next\"] = np.log(player_info[\"salary_next_won\"])"
   ]
  },
  {
   "cell_type": "markdown",
   "id": "1efd32b6-ced7-44dd-80e1-36454bbab342",
   "metadata": {},
   "source": [
    "### 성적 데이터 수집 (kbodata 활용)"
   ]
  },
  {
   "cell_type": "code",
   "execution_count": null,
   "id": "d6928896-29e4-45d9-9b4a-d607202cb564",
   "metadata": {},
   "outputs": [
    {
     "name": "stderr",
     "output_type": "stream",
     "text": [
      "in progress: 100%|████████████████████████████████████████████████████████████████████████████████| 12/12 [00:07<00:00,  1.53it/s]\n",
      "in progress:   1%|▍                                                                               | 5/866 [00:06<17:43,  1.24s/it]"
     ]
    }
   ],
   "source": [
    "import kbodata\n",
    "\n",
    "chromedriver_path = \"/Users/unusual/Downloads/chromedriver-mac-arm64/chromedriver\"\n",
    "\n",
    "# 예시: 2019~2023 연도별 경기 일정과 로그 수집\n",
    "years = [2024]\n",
    "\n",
    "all_pitchers = []\n",
    "all_scoreboards = []\n",
    "\n",
    "for year in years:\n",
    "    try:\n",
    "        sched = kbodata.get_yearly_schedule(year, chromedriver_path)\n",
    "        game_data = kbodata.get_game_data(sched, chromedriver_path)\n",
    "\n",
    "        pitcher_df = kbodata.pitcher_to_DataFrame(game_data)\n",
    "        scoreboard_df = kbodata.scoreboard_to_DataFrame(game_data)\n",
    "\n",
    "        # 연도 정보 붙이기\n",
    "        pitcher_df[\"year\"] = year\n",
    "        scoreboard_df[\"year\"] = year\n",
    "\n",
    "        all_pitchers.append(pitcher_df)\n",
    "        all_scoreboards.append(scoreboard_df)\n",
    "\n",
    "    except Exception as e:\n",
    "        print(f\"[ERROR] {year}년 처리 실패: {e}\")"
   ]
  },
  {
   "cell_type": "code",
   "execution_count": 188,
   "id": "8cffe90c-3b38-4dc4-a08d-ca6d445d6b4c",
   "metadata": {},
   "outputs": [],
   "source": [
    "pitcher_df = pd.concat(all_pitchers, ignore_index=True)\n",
    "scoreboard_df = pd.concat(all_scoreboards, ignore_index=True)"
   ]
  },
  {
   "cell_type": "code",
   "execution_count": 189,
   "id": "733b6d6e-e0ae-4004-8c71-c62d203f5e5c",
   "metadata": {},
   "outputs": [
    {
     "name": "stdout",
     "output_type": "stream",
     "text": [
      "🎯 pitcher_df 타입:\n",
      "idx           object\n",
      "name          object\n",
      "team          object\n",
      "mound         object\n",
      "inning        object\n",
      "result        object\n",
      "strikeout      int64\n",
      "dead4ball      int64\n",
      "losescore      int64\n",
      "earnedrun      int64\n",
      "pitchnum       int64\n",
      "hitted         int64\n",
      "homerun        int64\n",
      "battednum      int64\n",
      "batternum      int64\n",
      "year           int64\n",
      "IP           float64\n",
      "WHIP         float64\n",
      "dtype: object\n",
      "\n",
      "🎯 scoreboard_df 타입:\n",
      "idx          object\n",
      "team         object\n",
      "result        int64\n",
      "i_1           int64\n",
      "i_2           int64\n",
      "i_3           int64\n",
      "i_4           int64\n",
      "i_5           int64\n",
      "i_6          object\n",
      "i_7          object\n",
      "i_8          object\n",
      "i_9          object\n",
      "i_10         object\n",
      "i_11         object\n",
      "i_12         object\n",
      "i_13         object\n",
      "i_14         object\n",
      "i_15         object\n",
      "i_16         object\n",
      "i_17         object\n",
      "i_18         object\n",
      "r             int64\n",
      "h             int64\n",
      "e             int64\n",
      "b             int64\n",
      "year          int64\n",
      "month         int64\n",
      "day           int64\n",
      "week          int64\n",
      "home         object\n",
      "away         object\n",
      "dbheader      int64\n",
      "place        object\n",
      "audience      int64\n",
      "starttime    object\n",
      "endtime      object\n",
      "gametime     object\n",
      "dtype: object\n"
     ]
    }
   ],
   "source": [
    "print(\"🎯 pitcher_df 타입:\")\n",
    "print(pitcher_df.dtypes)\n",
    "\n",
    "print(\"\\n🎯 scoreboard_df 타입:\")\n",
    "print(scoreboard_df.dtypes)"
   ]
  },
  {
   "cell_type": "code",
   "execution_count": 190,
   "id": "1f22f7d8-b6d8-415c-9181-3713bcb5613f",
   "metadata": {},
   "outputs": [],
   "source": [
    "def convert_inning_str_to_float(s):\n",
    "    try:\n",
    "        s = str(s).zfill(2)\n",
    "        full = int(s[:-1])\n",
    "        partial = int(s[-1])\n",
    "        return full + {0: 0.0, 1: 1/3, 2: 2/3}.get(partial, 0)\n",
    "    except:\n",
    "        return 0\n",
    "\n",
    "pitcher_df[\"IP\"] = pitcher_df[\"inning\"].apply(convert_inning_str_to_float)"
   ]
  },
  {
   "cell_type": "code",
   "execution_count": 191,
   "id": "d851b807-45f1-4630-a123-0f16602bd208",
   "metadata": {},
   "outputs": [],
   "source": [
    "season_stats = pitcher_df.groupby([\"name\", \"year\"]).agg({\n",
    "    \"result\": lambda x: (x == \"W\").sum(),   # 승수\n",
    "    \"IP\": \"sum\",\n",
    "    \"strikeout\": \"sum\",\n",
    "    \"dead4ball\": \"sum\",\n",
    "    \"earnedrun\": \"sum\"\n",
    "}).reset_index()\n",
    "\n",
    "# 변수명 정리\n",
    "season_stats = season_stats.rename(columns={\"result\": \"W\"})\n",
    "\n",
    "# 파생 변수 계산\n",
    "season_stats[\"ERA\"] = season_stats[\"earnedrun\"] * 9 / season_stats[\"IP\"]\n",
    "season_stats[\"K9\"] = season_stats[\"strikeout\"] * 9 / season_stats[\"IP\"]\n",
    "season_stats[\"BB9\"] = season_stats[\"dead4ball\"] * 9 / season_stats[\"IP\"]"
   ]
  },
  {
   "cell_type": "code",
   "execution_count": 192,
   "id": "c0dd94ca-8a95-4526-9ee9-baf00854a68c",
   "metadata": {},
   "outputs": [],
   "source": [
    "def get_inning_range(ip_float):\n",
    "    full = int(ip_float)\n",
    "    partial = ip_float - full\n",
    "    innings = list(range(1, full + 1))\n",
    "    if partial >= 1/3:\n",
    "        innings.append(full + 1)\n",
    "    return innings\n",
    "\n",
    "def calculate_rs(pitcher_df, scoreboard_df):\n",
    "    rs_list = []\n",
    "\n",
    "    for _, row in pitcher_df.iterrows():\n",
    "        idx = row[\"idx\"]\n",
    "        team = row[\"team\"]\n",
    "        ip = row[\"IP\"]\n",
    "\n",
    "        innings = get_inning_range(ip)\n",
    "        sb_row = scoreboard_df[scoreboard_df[\"idx\"] == idx]\n",
    "        if sb_row.empty:\n",
    "            rs_list.append(None)\n",
    "            continue\n",
    "\n",
    "        sb = sb_row.iloc[0]\n",
    "        team_name = team.strip()\n",
    "        home = sb[\"home\"].strip()\n",
    "        away = sb[\"away\"].strip()\n",
    "\n",
    "        # 이 투수가 홈인지 원정인지 판단\n",
    "        if team_name == home:\n",
    "            score_prefix = \"i_\"\n",
    "        elif team_name == away:\n",
    "            score_prefix = \"i_\"\n",
    "        else:\n",
    "            rs_list.append(None)\n",
    "            continue\n",
    "\n",
    "        # 해당 팀의 이닝 점수 가져오기\n",
    "        scores = []\n",
    "        for i in innings:\n",
    "            col = f\"i_{i}\"\n",
    "            try:\n",
    "                val = int(sb[col]) if sb[col] != \"-\" else 0\n",
    "            except:\n",
    "                val = 0\n",
    "            scores.append(val)\n",
    "\n",
    "        rs_list.append(sum(scores))\n",
    "\n",
    "    pitcher_df[\"RS\"] = rs_list\n",
    "    return pitcher_df"
   ]
  },
  {
   "cell_type": "code",
   "execution_count": 193,
   "id": "914a0200-3fcd-447f-b11a-23c13e0ffb4d",
   "metadata": {},
   "outputs": [
    {
     "name": "stderr",
     "output_type": "stream",
     "text": [
      "/var/folders/48/s46fmd9166lflhx4v40_hps80000gn/T/ipykernel_67732/1824055328.py:49: SettingWithCopyWarning: \n",
      "A value is trying to be set on a copy of a slice from a DataFrame.\n",
      "Try using .loc[row_indexer,col_indexer] = value instead\n",
      "\n",
      "See the caveats in the documentation: https://pandas.pydata.org/pandas-docs/stable/user_guide/indexing.html#returning-a-view-versus-a-copy\n",
      "  pitcher_df[\"RS\"] = rs_list\n"
     ]
    }
   ],
   "source": [
    "pitcher_with_ip = pitcher_df[pitcher_df[\"IP\"] > 0]  # 등판 기록 있는 투수만\n",
    "\n",
    "pitcher_with_rs = calculate_rs(pitcher_with_ip, scoreboard_df)\n",
    "\n",
    "# 시즌별 RS 총합 요약\n",
    "rs_stats = pitcher_with_rs.groupby([\"name\", \"year\"]).agg({\n",
    "    \"RS\": \"sum\"\n",
    "}).reset_index()"
   ]
  },
  {
   "cell_type": "code",
   "execution_count": 195,
   "id": "15d42438-4dfa-40c0-ae83-711a49a439eb",
   "metadata": {},
   "outputs": [],
   "source": [
    "season_stats = pd.merge(season_stats, rs_stats, on=[\"name\", \"year\"], how=\"left\")"
   ]
  },
  {
   "cell_type": "code",
   "execution_count": 196,
   "id": "9cd688a8-a9b1-4cad-b144-6061386cd396",
   "metadata": {},
   "outputs": [],
   "source": [
    "player_info = pd.read_csv(\"player_info_sample.csv\")\n",
    "player_info = player_info.dropna()\n",
    "\n",
    "# 컬럼명 정리 (name, year 기준 통일)\n",
    "player_info = player_info.rename(columns={\n",
    "    \"player_name\": \"name\",\n",
    "    \"season\": \"year\"\n",
    "})\n",
    "\n",
    "# 연도 타입 정리\n",
    "player_info[\"year\"] = player_info[\"year\"].astype(int)\n",
    "\n",
    "# 연봉 전처리\n",
    "player_info[\"salary_next\"] = (\n",
    "    player_info[\"salary_next\"].astype(str).str.replace(\",\", \"\").astype(float)\n",
    ")\n",
    "player_info[\"salary_next_won\"] = player_info[\"salary_next\"] * 10000\n",
    "player_info[\"log_salary_next\"] = np.log(player_info[\"salary_next_won\"])"
   ]
  },
  {
   "cell_type": "code",
   "execution_count": 197,
   "id": "75660125-2a76-486c-ae40-50877d00e24d",
   "metadata": {},
   "outputs": [],
   "source": [
    "df = pd.merge(season_stats, player_info, on=[\"name\", \"year\"], how=\"inner\")"
   ]
  },
  {
   "cell_type": "code",
   "execution_count": 198,
   "id": "2e7d10dd-fdff-48ff-94aa-64ea8088b876",
   "metadata": {},
   "outputs": [
    {
     "name": "stdout",
     "output_type": "stream",
     "text": [
      "                            OLS Regression Results                            \n",
      "==============================================================================\n",
      "Dep. Variable:                      W   R-squared:                       0.829\n",
      "Model:                            OLS   Adj. R-squared:                  0.790\n",
      "Method:                 Least Squares   F-statistic:                     21.21\n",
      "Date:                Mon, 02 Jun 2025   Prob (F-statistic):           2.74e-11\n",
      "Time:                        02:03:44   Log-Likelihood:                -120.13\n",
      "No. Observations:                  44   AIC:                             258.3\n",
      "Df Residuals:                      35   BIC:                             274.3\n",
      "Df Model:                           8                                         \n",
      "Covariance Type:            nonrobust                                         \n",
      "==============================================================================\n",
      "                 coef    std err          t      P>|t|      [0.025      0.975]\n",
      "------------------------------------------------------------------------------\n",
      "const         -4.0298      4.128     -0.976      0.336     -12.410       4.350\n",
      "RS             0.0607      0.021      2.878      0.007       0.018       0.104\n",
      "IP             0.0380      0.015      2.541      0.016       0.008       0.068\n",
      "K9             0.7480      0.395      1.893      0.067      -0.054       1.550\n",
      "BB9           -0.3519      0.609     -0.578      0.567      -1.588       0.885\n",
      "year_2020     -3.1934      2.214     -1.442      0.158      -7.688       1.301\n",
      "year_2021     -1.7799      2.063     -0.863      0.394      -5.969       2.409\n",
      "year_2022     -2.6553      2.207     -1.203      0.237      -7.136       1.825\n",
      "year_2023     -1.9966      2.247     -0.889      0.380      -6.557       2.564\n",
      "==============================================================================\n",
      "Omnibus:                        2.230   Durbin-Watson:                   2.028\n",
      "Prob(Omnibus):                  0.328   Jarque-Bera (JB):                1.277\n",
      "Skew:                           0.345   Prob(JB):                        0.528\n",
      "Kurtosis:                       3.469   Cond. No.                     2.12e+03\n",
      "==============================================================================\n",
      "\n",
      "Notes:\n",
      "[1] Standard Errors assume that the covariance matrix of the errors is correctly specified.\n",
      "[2] The condition number is large, 2.12e+03. This might indicate that there are\n",
      "strong multicollinearity or other numerical problems.\n"
     ]
    }
   ],
   "source": [
    "import statsmodels.api as sm\n",
    "\n",
    "# 연도 더미 추가\n",
    "df = pd.get_dummies(df, columns=[\"year\"], prefix=\"year\", drop_first=True)\n",
    "\n",
    "# 회귀 변수 목록\n",
    "features = [\"RS\", \"IP\", \"K9\", \"BB9\"] + [c for c in df.columns if c.startswith(\"year_\")]\n",
    "X = df[features]\n",
    "X = sm.add_constant(X)\n",
    "y = df[\"W\"]\n",
    "\n",
    "# 결측 제거\n",
    "valid_idx = X.notnull().all(axis=1) & y.notnull()\n",
    "X_valid = X[valid_idx].astype(float)\n",
    "y_valid = y[valid_idx].astype(float)\n",
    "\n",
    "# 회귀 실행\n",
    "model = sm.OLS(y_valid, X_valid).fit()\n",
    "print(model.summary())"
   ]
  },
  {
   "cell_type": "code",
   "execution_count": 176,
   "id": "bcd893f2-e960-4e64-ac53-58ce041a7a66",
   "metadata": {},
   "outputs": [
    {
     "name": "stdout",
     "output_type": "stream",
     "text": [
      "                            OLS Regression Results                            \n",
      "==============================================================================\n",
      "Dep. Variable:        log_salary_next   R-squared:                       0.437\n",
      "Model:                            OLS   Adj. R-squared:                  0.424\n",
      "Method:                 Least Squares   F-statistic:                     32.61\n",
      "Date:                Mon, 02 Jun 2025   Prob (F-statistic):           1.04e-06\n",
      "Time:                        01:15:59   Log-Likelihood:                -54.907\n",
      "No. Observations:                  44   AIC:                             113.8\n",
      "Df Residuals:                      42   BIC:                             117.4\n",
      "Df Model:                           1                                         \n",
      "Covariance Type:            nonrobust                                         \n",
      "==============================================================================\n",
      "                 coef    std err          t      P>|t|      [0.025      0.975]\n",
      "------------------------------------------------------------------------------\n",
      "const          8.3000      0.308     26.909      0.000       7.678       8.922\n",
      "RS             0.0117      0.002      5.710      0.000       0.008       0.016\n",
      "==============================================================================\n",
      "Omnibus:                        1.956   Durbin-Watson:                   1.608\n",
      "Prob(Omnibus):                  0.376   Jarque-Bera (JB):                1.724\n",
      "Skew:                           0.473   Prob(JB):                        0.422\n",
      "Kurtosis:                       2.785   Cond. No.                         357.\n",
      "==============================================================================\n",
      "\n",
      "Notes:\n",
      "[1] Standard Errors assume that the covariance matrix of the errors is correctly specified.\n"
     ]
    }
   ],
   "source": [
    "import statsmodels.api as sm\n",
    "\n",
    "# 설명변수와 종속변수\n",
    "X_rs = sm.add_constant(merged_df[[\"RS\"]])  # 상수항 추가\n",
    "y_salary = merged_df[\"log_salary_next\"]\n",
    "\n",
    "# 유효 데이터 필터링\n",
    "valid_idx = X_rs.notnull().all(axis=1) & y_salary.notnull()\n",
    "X_valid_rs = X_rs[valid_idx]\n",
    "y_valid_salary = y_salary[valid_idx]\n",
    "\n",
    "# 회귀 실행\n",
    "model_rs = sm.OLS(y_valid_salary, X_valid_rs).fit()\n",
    "print(model_rs.summary())"
   ]
  },
  {
   "cell_type": "markdown",
   "id": "e89602b4-d891-443c-9330-a9630f7723e7",
   "metadata": {},
   "source": [
    "# 여기까지 1차 회귀식 완료"
   ]
  },
  {
   "cell_type": "code",
   "execution_count": 167,
   "id": "36a885e5-6013-490a-8279-6758342fa3bb",
   "metadata": {},
   "outputs": [],
   "source": [
    "# 'year' → 'season' 으로 컬럼명 변경\n",
    "season_stats = season_stats.rename(columns={\"year\": \"season\"})"
   ]
  },
  {
   "cell_type": "code",
   "execution_count": 168,
   "id": "27f196d7-e233-4b2b-b5d8-5db473770e08",
   "metadata": {},
   "outputs": [],
   "source": [
    "season_stats = season_stats.rename(columns={\"name\": \"player_name\"})"
   ]
  },
  {
   "cell_type": "code",
   "execution_count": 169,
   "id": "f295a2a0-cbbf-4cfc-8a30-90762dd32aac",
   "metadata": {},
   "outputs": [
    {
     "ename": "KeyError",
     "evalue": "'player_name'",
     "output_type": "error",
     "traceback": [
      "\u001b[0;31m---------------------------------------------------------------------------\u001b[0m",
      "\u001b[0;31mKeyError\u001b[0m                                  Traceback (most recent call last)",
      "\u001b[0;32m/var/folders/48/s46fmd9166lflhx4v40_hps80000gn/T/ipykernel_67732/4013934274.py\u001b[0m in \u001b[0;36m?\u001b[0;34m()\u001b[0m\n\u001b[0;32m----> 1\u001b[0;31m \u001b[0mmerged_df\u001b[0m \u001b[0;34m=\u001b[0m \u001b[0mpd\u001b[0m\u001b[0;34m.\u001b[0m\u001b[0mmerge\u001b[0m\u001b[0;34m(\u001b[0m\u001b[0mseason_stats\u001b[0m\u001b[0;34m,\u001b[0m \u001b[0mplayer_info\u001b[0m\u001b[0;34m,\u001b[0m \u001b[0mhow\u001b[0m\u001b[0;34m=\u001b[0m\u001b[0;34m\"inner\"\u001b[0m\u001b[0;34m,\u001b[0m \u001b[0mon\u001b[0m\u001b[0;34m=\u001b[0m\u001b[0;34m[\u001b[0m\u001b[0;34m\"player_name\"\u001b[0m\u001b[0;34m,\u001b[0m \u001b[0;34m\"season\"\u001b[0m\u001b[0;34m]\u001b[0m\u001b[0;34m)\u001b[0m\u001b[0;34m\u001b[0m\u001b[0;34m\u001b[0m\u001b[0m\n\u001b[0m",
      "\u001b[0;32m~/miniconda3/envs/capstone/lib/python3.9/site-packages/pandas/core/reshape/merge.py\u001b[0m in \u001b[0;36m?\u001b[0;34m(left, right, how, on, left_on, right_on, left_index, right_index, sort, suffixes, copy, indicator, validate)\u001b[0m\n\u001b[1;32m    166\u001b[0m             \u001b[0mvalidate\u001b[0m\u001b[0;34m=\u001b[0m\u001b[0mvalidate\u001b[0m\u001b[0;34m,\u001b[0m\u001b[0;34m\u001b[0m\u001b[0;34m\u001b[0m\u001b[0m\n\u001b[1;32m    167\u001b[0m             \u001b[0mcopy\u001b[0m\u001b[0;34m=\u001b[0m\u001b[0mcopy\u001b[0m\u001b[0;34m,\u001b[0m\u001b[0;34m\u001b[0m\u001b[0;34m\u001b[0m\u001b[0m\n\u001b[1;32m    168\u001b[0m         )\n\u001b[1;32m    169\u001b[0m     \u001b[0;32melse\u001b[0m\u001b[0;34m:\u001b[0m\u001b[0;34m\u001b[0m\u001b[0;34m\u001b[0m\u001b[0m\n\u001b[0;32m--> 170\u001b[0;31m         op = _MergeOperation(\n\u001b[0m\u001b[1;32m    171\u001b[0m             \u001b[0mleft_df\u001b[0m\u001b[0;34m,\u001b[0m\u001b[0;34m\u001b[0m\u001b[0;34m\u001b[0m\u001b[0m\n\u001b[1;32m    172\u001b[0m             \u001b[0mright_df\u001b[0m\u001b[0;34m,\u001b[0m\u001b[0;34m\u001b[0m\u001b[0;34m\u001b[0m\u001b[0m\n\u001b[1;32m    173\u001b[0m             \u001b[0mhow\u001b[0m\u001b[0;34m=\u001b[0m\u001b[0mhow\u001b[0m\u001b[0;34m,\u001b[0m\u001b[0;34m\u001b[0m\u001b[0;34m\u001b[0m\u001b[0m\n",
      "\u001b[0;32m~/miniconda3/envs/capstone/lib/python3.9/site-packages/pandas/core/reshape/merge.py\u001b[0m in \u001b[0;36m?\u001b[0;34m(self, left, right, how, on, left_on, right_on, left_index, right_index, sort, suffixes, indicator, validate)\u001b[0m\n\u001b[1;32m    790\u001b[0m             \u001b[0mself\u001b[0m\u001b[0;34m.\u001b[0m\u001b[0mright_join_keys\u001b[0m\u001b[0;34m,\u001b[0m\u001b[0;34m\u001b[0m\u001b[0;34m\u001b[0m\u001b[0m\n\u001b[1;32m    791\u001b[0m             \u001b[0mself\u001b[0m\u001b[0;34m.\u001b[0m\u001b[0mjoin_names\u001b[0m\u001b[0;34m,\u001b[0m\u001b[0;34m\u001b[0m\u001b[0;34m\u001b[0m\u001b[0m\n\u001b[1;32m    792\u001b[0m             \u001b[0mleft_drop\u001b[0m\u001b[0;34m,\u001b[0m\u001b[0;34m\u001b[0m\u001b[0;34m\u001b[0m\u001b[0m\n\u001b[1;32m    793\u001b[0m             \u001b[0mright_drop\u001b[0m\u001b[0;34m,\u001b[0m\u001b[0;34m\u001b[0m\u001b[0;34m\u001b[0m\u001b[0m\n\u001b[0;32m--> 794\u001b[0;31m         ) = self._get_merge_keys()\n\u001b[0m\u001b[1;32m    795\u001b[0m \u001b[0;34m\u001b[0m\u001b[0m\n\u001b[1;32m    796\u001b[0m         \u001b[0;32mif\u001b[0m \u001b[0mleft_drop\u001b[0m\u001b[0;34m:\u001b[0m\u001b[0;34m\u001b[0m\u001b[0;34m\u001b[0m\u001b[0m\n\u001b[1;32m    797\u001b[0m             \u001b[0mself\u001b[0m\u001b[0;34m.\u001b[0m\u001b[0mleft\u001b[0m \u001b[0;34m=\u001b[0m \u001b[0mself\u001b[0m\u001b[0;34m.\u001b[0m\u001b[0mleft\u001b[0m\u001b[0;34m.\u001b[0m\u001b[0m_drop_labels_or_levels\u001b[0m\u001b[0;34m(\u001b[0m\u001b[0mleft_drop\u001b[0m\u001b[0;34m)\u001b[0m\u001b[0;34m\u001b[0m\u001b[0;34m\u001b[0m\u001b[0m\n",
      "\u001b[0;32m~/miniconda3/envs/capstone/lib/python3.9/site-packages/pandas/core/reshape/merge.py\u001b[0m in \u001b[0;36m?\u001b[0;34m(self)\u001b[0m\n\u001b[1;32m   1293\u001b[0m                         \u001b[0;31m# Then we're either Hashable or a wrong-length arraylike,\u001b[0m\u001b[0;34m\u001b[0m\u001b[0;34m\u001b[0m\u001b[0m\n\u001b[1;32m   1294\u001b[0m                         \u001b[0;31m#  the latter of which will raise\u001b[0m\u001b[0;34m\u001b[0m\u001b[0;34m\u001b[0m\u001b[0m\n\u001b[1;32m   1295\u001b[0m                         \u001b[0mrk\u001b[0m \u001b[0;34m=\u001b[0m \u001b[0mcast\u001b[0m\u001b[0;34m(\u001b[0m\u001b[0mHashable\u001b[0m\u001b[0;34m,\u001b[0m \u001b[0mrk\u001b[0m\u001b[0;34m)\u001b[0m\u001b[0;34m\u001b[0m\u001b[0;34m\u001b[0m\u001b[0m\n\u001b[1;32m   1296\u001b[0m                         \u001b[0;32mif\u001b[0m \u001b[0mrk\u001b[0m \u001b[0;32mis\u001b[0m \u001b[0;32mnot\u001b[0m \u001b[0;32mNone\u001b[0m\u001b[0;34m:\u001b[0m\u001b[0;34m\u001b[0m\u001b[0;34m\u001b[0m\u001b[0m\n\u001b[0;32m-> 1297\u001b[0;31m                             \u001b[0mright_keys\u001b[0m\u001b[0;34m.\u001b[0m\u001b[0mappend\u001b[0m\u001b[0;34m(\u001b[0m\u001b[0mright\u001b[0m\u001b[0;34m.\u001b[0m\u001b[0m_get_label_or_level_values\u001b[0m\u001b[0;34m(\u001b[0m\u001b[0mrk\u001b[0m\u001b[0;34m)\u001b[0m\u001b[0;34m)\u001b[0m\u001b[0;34m\u001b[0m\u001b[0;34m\u001b[0m\u001b[0m\n\u001b[0m\u001b[1;32m   1298\u001b[0m                         \u001b[0;32melse\u001b[0m\u001b[0;34m:\u001b[0m\u001b[0;34m\u001b[0m\u001b[0;34m\u001b[0m\u001b[0m\n\u001b[1;32m   1299\u001b[0m                             \u001b[0;31m# work-around for merge_asof(right_index=True)\u001b[0m\u001b[0;34m\u001b[0m\u001b[0;34m\u001b[0m\u001b[0m\n\u001b[1;32m   1300\u001b[0m                             \u001b[0mright_keys\u001b[0m\u001b[0;34m.\u001b[0m\u001b[0mappend\u001b[0m\u001b[0;34m(\u001b[0m\u001b[0mright\u001b[0m\u001b[0;34m.\u001b[0m\u001b[0mindex\u001b[0m\u001b[0;34m.\u001b[0m\u001b[0m_values\u001b[0m\u001b[0;34m)\u001b[0m\u001b[0;34m\u001b[0m\u001b[0;34m\u001b[0m\u001b[0m\n",
      "\u001b[0;32m~/miniconda3/envs/capstone/lib/python3.9/site-packages/pandas/core/generic.py\u001b[0m in \u001b[0;36m?\u001b[0;34m(self, key, axis)\u001b[0m\n\u001b[1;32m   1907\u001b[0m             \u001b[0mvalues\u001b[0m \u001b[0;34m=\u001b[0m \u001b[0mself\u001b[0m\u001b[0;34m.\u001b[0m\u001b[0mxs\u001b[0m\u001b[0;34m(\u001b[0m\u001b[0mkey\u001b[0m\u001b[0;34m,\u001b[0m \u001b[0maxis\u001b[0m\u001b[0;34m=\u001b[0m\u001b[0mother_axes\u001b[0m\u001b[0;34m[\u001b[0m\u001b[0;36m0\u001b[0m\u001b[0;34m]\u001b[0m\u001b[0;34m)\u001b[0m\u001b[0;34m.\u001b[0m\u001b[0m_values\u001b[0m\u001b[0;34m\u001b[0m\u001b[0;34m\u001b[0m\u001b[0m\n\u001b[1;32m   1908\u001b[0m         \u001b[0;32melif\u001b[0m \u001b[0mself\u001b[0m\u001b[0;34m.\u001b[0m\u001b[0m_is_level_reference\u001b[0m\u001b[0;34m(\u001b[0m\u001b[0mkey\u001b[0m\u001b[0;34m,\u001b[0m \u001b[0maxis\u001b[0m\u001b[0;34m=\u001b[0m\u001b[0maxis\u001b[0m\u001b[0;34m)\u001b[0m\u001b[0;34m:\u001b[0m\u001b[0;34m\u001b[0m\u001b[0;34m\u001b[0m\u001b[0m\n\u001b[1;32m   1909\u001b[0m             \u001b[0mvalues\u001b[0m \u001b[0;34m=\u001b[0m \u001b[0mself\u001b[0m\u001b[0;34m.\u001b[0m\u001b[0maxes\u001b[0m\u001b[0;34m[\u001b[0m\u001b[0maxis\u001b[0m\u001b[0;34m]\u001b[0m\u001b[0;34m.\u001b[0m\u001b[0mget_level_values\u001b[0m\u001b[0;34m(\u001b[0m\u001b[0mkey\u001b[0m\u001b[0;34m)\u001b[0m\u001b[0;34m.\u001b[0m\u001b[0m_values\u001b[0m\u001b[0;34m\u001b[0m\u001b[0;34m\u001b[0m\u001b[0m\n\u001b[1;32m   1910\u001b[0m         \u001b[0;32melse\u001b[0m\u001b[0;34m:\u001b[0m\u001b[0;34m\u001b[0m\u001b[0;34m\u001b[0m\u001b[0m\n\u001b[0;32m-> 1911\u001b[0;31m             \u001b[0;32mraise\u001b[0m \u001b[0mKeyError\u001b[0m\u001b[0;34m(\u001b[0m\u001b[0mkey\u001b[0m\u001b[0;34m)\u001b[0m\u001b[0;34m\u001b[0m\u001b[0;34m\u001b[0m\u001b[0m\n\u001b[0m\u001b[1;32m   1912\u001b[0m \u001b[0;34m\u001b[0m\u001b[0m\n\u001b[1;32m   1913\u001b[0m         \u001b[0;31m# Check for duplicates\u001b[0m\u001b[0;34m\u001b[0m\u001b[0;34m\u001b[0m\u001b[0m\n\u001b[1;32m   1914\u001b[0m         \u001b[0;32mif\u001b[0m \u001b[0mvalues\u001b[0m\u001b[0;34m.\u001b[0m\u001b[0mndim\u001b[0m \u001b[0;34m>\u001b[0m \u001b[0;36m1\u001b[0m\u001b[0;34m:\u001b[0m\u001b[0;34m\u001b[0m\u001b[0;34m\u001b[0m\u001b[0m\n",
      "\u001b[0;31mKeyError\u001b[0m: 'player_name'"
     ]
    }
   ],
   "source": [
    "merged_df = pd.merge(season_stats, player_info, how=\"inner\", on=[\"player_name\", \"season\"])"
   ]
  },
  {
   "cell_type": "code",
   "execution_count": 170,
   "id": "5d1f9d65-0233-4f38-829a-1aebba1982d0",
   "metadata": {},
   "outputs": [],
   "source": [
    "# CSV 불러오기\n",
    "player_info = pd.read_csv(\"player_info_sample.csv\")\n",
    "\n",
    "# 혹시 첫 행이 NaN이면 제거\n",
    "player_info = player_info.dropna(subset=[\"player_name\"])\n",
    "\n",
    "# 컬럼명 통일 (병합을 위해)\n",
    "player_info[\"season\"] = player_info[\"season\"].astype(int)\n",
    "season_stats[\"season\"] = season_stats[\"season\"].astype(int)\n",
    "\n",
    "# 병합\n",
    "merged_df = pd.merge(season_stats, player_info, how=\"inner\", on=[\"player_name\", \"season\"])\n",
    "\n",
    "# 연봉 문자열 -> 숫자\n",
    "merged_df[\"salary_next_won\"] = (\n",
    "    merged_df[\"salary_next\"].astype(str).str.replace(\",\", \"\").astype(float)\n",
    ")\n",
    "\n",
    "# 로그 연봉\n",
    "merged_df[\"log_salary_next\"] = np.log1p(merged_df[\"salary_next_won\"])"
   ]
  },
  {
   "cell_type": "code",
   "execution_count": 171,
   "id": "e7f91317-6638-4e5d-8d5c-67e4279c27c8",
   "metadata": {},
   "outputs": [
    {
     "name": "stdout",
     "output_type": "stream",
     "text": [
      "Index(['player_name', 'season', 'salary_next', 'fa', 'age'], dtype='object')\n",
      "Index(['player_name', 'season', 'W', 'IP', 'strikeout', 'dead4ball',\n",
      "       'earnedrun', 'ERA', 'K9', 'BB9', 'RS'],\n",
      "      dtype='object')\n"
     ]
    }
   ],
   "source": [
    "print(player_info.columns)\n",
    "print(season_stats.columns)"
   ]
  },
  {
   "cell_type": "code",
   "execution_count": 177,
   "id": "450a2049-c577-4963-a9f6-ea5867bc655a",
   "metadata": {},
   "outputs": [],
   "source": [
    "# 연도 더미 변수 추가\n",
    "df = pd.get_dummies(merged_df, columns=[\"season\"], prefix=\"year\", drop_first=True)\n",
    "\n",
    "# 설명 변수 + 상수항\n",
    "features = [\"W\", \"IP\", \"K9\", \"BB9\", \"fa\", \"age\"] + [c for c in df.columns if c.startswith(\"year_\")]\n",
    "X = sm.add_constant(df[features])\n",
    "y = df[\"log_salary_next\"]\n",
    "\n",
    "# NaN 제거 (혹시 있을 경우)\n",
    "valid_idx = X.notnull().all(axis=1) & y.notnull()\n",
    "X_valid = X[valid_idx]\n",
    "y_valid = y[valid_idx]"
   ]
  },
  {
   "cell_type": "code",
   "execution_count": 173,
   "id": "052e3b70-f3f0-4565-b80e-d3809b82da9e",
   "metadata": {},
   "outputs": [
    {
     "ename": "ValueError",
     "evalue": "Pandas data cast to numpy dtype of object. Check input data with np.asarray(data).",
     "output_type": "error",
     "traceback": [
      "\u001b[0;31m---------------------------------------------------------------------------\u001b[0m",
      "\u001b[0;31mValueError\u001b[0m                                Traceback (most recent call last)",
      "Cell \u001b[0;32mIn[173], line 1\u001b[0m\n\u001b[0;32m----> 1\u001b[0m model \u001b[38;5;241m=\u001b[39m \u001b[43msm\u001b[49m\u001b[38;5;241;43m.\u001b[39;49m\u001b[43mOLS\u001b[49m\u001b[43m(\u001b[49m\u001b[43my_valid\u001b[49m\u001b[43m,\u001b[49m\u001b[43m \u001b[49m\u001b[43mX_valid\u001b[49m\u001b[43m)\u001b[49m\u001b[38;5;241m.\u001b[39mfit()\n\u001b[1;32m      2\u001b[0m \u001b[38;5;28mprint\u001b[39m(model\u001b[38;5;241m.\u001b[39msummary())\n",
      "File \u001b[0;32m~/miniconda3/envs/capstone/lib/python3.9/site-packages/statsmodels/regression/linear_model.py:921\u001b[0m, in \u001b[0;36mOLS.__init__\u001b[0;34m(self, endog, exog, missing, hasconst, **kwargs)\u001b[0m\n\u001b[1;32m    918\u001b[0m     msg \u001b[38;5;241m=\u001b[39m (\u001b[38;5;124m\"\u001b[39m\u001b[38;5;124mWeights are not supported in OLS and will be ignored\u001b[39m\u001b[38;5;124m\"\u001b[39m\n\u001b[1;32m    919\u001b[0m            \u001b[38;5;124m\"\u001b[39m\u001b[38;5;124mAn exception will be raised in the next version.\u001b[39m\u001b[38;5;124m\"\u001b[39m)\n\u001b[1;32m    920\u001b[0m     warnings\u001b[38;5;241m.\u001b[39mwarn(msg, ValueWarning)\n\u001b[0;32m--> 921\u001b[0m \u001b[38;5;28;43msuper\u001b[39;49m\u001b[43m(\u001b[49m\u001b[43m)\u001b[49m\u001b[38;5;241;43m.\u001b[39;49m\u001b[38;5;21;43m__init__\u001b[39;49m\u001b[43m(\u001b[49m\u001b[43mendog\u001b[49m\u001b[43m,\u001b[49m\u001b[43m \u001b[49m\u001b[43mexog\u001b[49m\u001b[43m,\u001b[49m\u001b[43m \u001b[49m\u001b[43mmissing\u001b[49m\u001b[38;5;241;43m=\u001b[39;49m\u001b[43mmissing\u001b[49m\u001b[43m,\u001b[49m\n\u001b[1;32m    922\u001b[0m \u001b[43m                          \u001b[49m\u001b[43mhasconst\u001b[49m\u001b[38;5;241;43m=\u001b[39;49m\u001b[43mhasconst\u001b[49m\u001b[43m,\u001b[49m\u001b[43m \u001b[49m\u001b[38;5;241;43m*\u001b[39;49m\u001b[38;5;241;43m*\u001b[39;49m\u001b[43mkwargs\u001b[49m\u001b[43m)\u001b[49m\n\u001b[1;32m    923\u001b[0m \u001b[38;5;28;01mif\u001b[39;00m \u001b[38;5;124m\"\u001b[39m\u001b[38;5;124mweights\u001b[39m\u001b[38;5;124m\"\u001b[39m \u001b[38;5;129;01min\u001b[39;00m \u001b[38;5;28mself\u001b[39m\u001b[38;5;241m.\u001b[39m_init_keys:\n\u001b[1;32m    924\u001b[0m     \u001b[38;5;28mself\u001b[39m\u001b[38;5;241m.\u001b[39m_init_keys\u001b[38;5;241m.\u001b[39mremove(\u001b[38;5;124m\"\u001b[39m\u001b[38;5;124mweights\u001b[39m\u001b[38;5;124m\"\u001b[39m)\n",
      "File \u001b[0;32m~/miniconda3/envs/capstone/lib/python3.9/site-packages/statsmodels/regression/linear_model.py:746\u001b[0m, in \u001b[0;36mWLS.__init__\u001b[0;34m(self, endog, exog, weights, missing, hasconst, **kwargs)\u001b[0m\n\u001b[1;32m    744\u001b[0m \u001b[38;5;28;01melse\u001b[39;00m:\n\u001b[1;32m    745\u001b[0m     weights \u001b[38;5;241m=\u001b[39m weights\u001b[38;5;241m.\u001b[39msqueeze()\n\u001b[0;32m--> 746\u001b[0m \u001b[38;5;28;43msuper\u001b[39;49m\u001b[43m(\u001b[49m\u001b[43m)\u001b[49m\u001b[38;5;241;43m.\u001b[39;49m\u001b[38;5;21;43m__init__\u001b[39;49m\u001b[43m(\u001b[49m\u001b[43mendog\u001b[49m\u001b[43m,\u001b[49m\u001b[43m \u001b[49m\u001b[43mexog\u001b[49m\u001b[43m,\u001b[49m\u001b[43m \u001b[49m\u001b[43mmissing\u001b[49m\u001b[38;5;241;43m=\u001b[39;49m\u001b[43mmissing\u001b[49m\u001b[43m,\u001b[49m\n\u001b[1;32m    747\u001b[0m \u001b[43m                          \u001b[49m\u001b[43mweights\u001b[49m\u001b[38;5;241;43m=\u001b[39;49m\u001b[43mweights\u001b[49m\u001b[43m,\u001b[49m\u001b[43m \u001b[49m\u001b[43mhasconst\u001b[49m\u001b[38;5;241;43m=\u001b[39;49m\u001b[43mhasconst\u001b[49m\u001b[43m,\u001b[49m\u001b[43m \u001b[49m\u001b[38;5;241;43m*\u001b[39;49m\u001b[38;5;241;43m*\u001b[39;49m\u001b[43mkwargs\u001b[49m\u001b[43m)\u001b[49m\n\u001b[1;32m    748\u001b[0m nobs \u001b[38;5;241m=\u001b[39m \u001b[38;5;28mself\u001b[39m\u001b[38;5;241m.\u001b[39mexog\u001b[38;5;241m.\u001b[39mshape[\u001b[38;5;241m0\u001b[39m]\n\u001b[1;32m    749\u001b[0m weights \u001b[38;5;241m=\u001b[39m \u001b[38;5;28mself\u001b[39m\u001b[38;5;241m.\u001b[39mweights\n",
      "File \u001b[0;32m~/miniconda3/envs/capstone/lib/python3.9/site-packages/statsmodels/regression/linear_model.py:200\u001b[0m, in \u001b[0;36mRegressionModel.__init__\u001b[0;34m(self, endog, exog, **kwargs)\u001b[0m\n\u001b[1;32m    199\u001b[0m \u001b[38;5;28;01mdef\u001b[39;00m \u001b[38;5;21m__init__\u001b[39m(\u001b[38;5;28mself\u001b[39m, endog, exog, \u001b[38;5;241m*\u001b[39m\u001b[38;5;241m*\u001b[39mkwargs):\n\u001b[0;32m--> 200\u001b[0m     \u001b[38;5;28;43msuper\u001b[39;49m\u001b[43m(\u001b[49m\u001b[43m)\u001b[49m\u001b[38;5;241;43m.\u001b[39;49m\u001b[38;5;21;43m__init__\u001b[39;49m\u001b[43m(\u001b[49m\u001b[43mendog\u001b[49m\u001b[43m,\u001b[49m\u001b[43m \u001b[49m\u001b[43mexog\u001b[49m\u001b[43m,\u001b[49m\u001b[43m \u001b[49m\u001b[38;5;241;43m*\u001b[39;49m\u001b[38;5;241;43m*\u001b[39;49m\u001b[43mkwargs\u001b[49m\u001b[43m)\u001b[49m\n\u001b[1;32m    201\u001b[0m     \u001b[38;5;28mself\u001b[39m\u001b[38;5;241m.\u001b[39mpinv_wexog: Float64Array \u001b[38;5;241m|\u001b[39m \u001b[38;5;28;01mNone\u001b[39;00m \u001b[38;5;241m=\u001b[39m \u001b[38;5;28;01mNone\u001b[39;00m\n\u001b[1;32m    202\u001b[0m     \u001b[38;5;28mself\u001b[39m\u001b[38;5;241m.\u001b[39m_data_attr\u001b[38;5;241m.\u001b[39mextend([\u001b[38;5;124m'\u001b[39m\u001b[38;5;124mpinv_wexog\u001b[39m\u001b[38;5;124m'\u001b[39m, \u001b[38;5;124m'\u001b[39m\u001b[38;5;124mwendog\u001b[39m\u001b[38;5;124m'\u001b[39m, \u001b[38;5;124m'\u001b[39m\u001b[38;5;124mwexog\u001b[39m\u001b[38;5;124m'\u001b[39m, \u001b[38;5;124m'\u001b[39m\u001b[38;5;124mweights\u001b[39m\u001b[38;5;124m'\u001b[39m])\n",
      "File \u001b[0;32m~/miniconda3/envs/capstone/lib/python3.9/site-packages/statsmodels/base/model.py:270\u001b[0m, in \u001b[0;36mLikelihoodModel.__init__\u001b[0;34m(self, endog, exog, **kwargs)\u001b[0m\n\u001b[1;32m    269\u001b[0m \u001b[38;5;28;01mdef\u001b[39;00m \u001b[38;5;21m__init__\u001b[39m(\u001b[38;5;28mself\u001b[39m, endog, exog\u001b[38;5;241m=\u001b[39m\u001b[38;5;28;01mNone\u001b[39;00m, \u001b[38;5;241m*\u001b[39m\u001b[38;5;241m*\u001b[39mkwargs):\n\u001b[0;32m--> 270\u001b[0m     \u001b[38;5;28;43msuper\u001b[39;49m\u001b[43m(\u001b[49m\u001b[43m)\u001b[49m\u001b[38;5;241;43m.\u001b[39;49m\u001b[38;5;21;43m__init__\u001b[39;49m\u001b[43m(\u001b[49m\u001b[43mendog\u001b[49m\u001b[43m,\u001b[49m\u001b[43m \u001b[49m\u001b[43mexog\u001b[49m\u001b[43m,\u001b[49m\u001b[43m \u001b[49m\u001b[38;5;241;43m*\u001b[39;49m\u001b[38;5;241;43m*\u001b[39;49m\u001b[43mkwargs\u001b[49m\u001b[43m)\u001b[49m\n\u001b[1;32m    271\u001b[0m     \u001b[38;5;28mself\u001b[39m\u001b[38;5;241m.\u001b[39minitialize()\n",
      "File \u001b[0;32m~/miniconda3/envs/capstone/lib/python3.9/site-packages/statsmodels/base/model.py:95\u001b[0m, in \u001b[0;36mModel.__init__\u001b[0;34m(self, endog, exog, **kwargs)\u001b[0m\n\u001b[1;32m     93\u001b[0m missing \u001b[38;5;241m=\u001b[39m kwargs\u001b[38;5;241m.\u001b[39mpop(\u001b[38;5;124m'\u001b[39m\u001b[38;5;124mmissing\u001b[39m\u001b[38;5;124m'\u001b[39m, \u001b[38;5;124m'\u001b[39m\u001b[38;5;124mnone\u001b[39m\u001b[38;5;124m'\u001b[39m)\n\u001b[1;32m     94\u001b[0m hasconst \u001b[38;5;241m=\u001b[39m kwargs\u001b[38;5;241m.\u001b[39mpop(\u001b[38;5;124m'\u001b[39m\u001b[38;5;124mhasconst\u001b[39m\u001b[38;5;124m'\u001b[39m, \u001b[38;5;28;01mNone\u001b[39;00m)\n\u001b[0;32m---> 95\u001b[0m \u001b[38;5;28mself\u001b[39m\u001b[38;5;241m.\u001b[39mdata \u001b[38;5;241m=\u001b[39m \u001b[38;5;28;43mself\u001b[39;49m\u001b[38;5;241;43m.\u001b[39;49m\u001b[43m_handle_data\u001b[49m\u001b[43m(\u001b[49m\u001b[43mendog\u001b[49m\u001b[43m,\u001b[49m\u001b[43m \u001b[49m\u001b[43mexog\u001b[49m\u001b[43m,\u001b[49m\u001b[43m \u001b[49m\u001b[43mmissing\u001b[49m\u001b[43m,\u001b[49m\u001b[43m \u001b[49m\u001b[43mhasconst\u001b[49m\u001b[43m,\u001b[49m\n\u001b[1;32m     96\u001b[0m \u001b[43m                              \u001b[49m\u001b[38;5;241;43m*\u001b[39;49m\u001b[38;5;241;43m*\u001b[39;49m\u001b[43mkwargs\u001b[49m\u001b[43m)\u001b[49m\n\u001b[1;32m     97\u001b[0m \u001b[38;5;28mself\u001b[39m\u001b[38;5;241m.\u001b[39mk_constant \u001b[38;5;241m=\u001b[39m \u001b[38;5;28mself\u001b[39m\u001b[38;5;241m.\u001b[39mdata\u001b[38;5;241m.\u001b[39mk_constant\n\u001b[1;32m     98\u001b[0m \u001b[38;5;28mself\u001b[39m\u001b[38;5;241m.\u001b[39mexog \u001b[38;5;241m=\u001b[39m \u001b[38;5;28mself\u001b[39m\u001b[38;5;241m.\u001b[39mdata\u001b[38;5;241m.\u001b[39mexog\n",
      "File \u001b[0;32m~/miniconda3/envs/capstone/lib/python3.9/site-packages/statsmodels/base/model.py:135\u001b[0m, in \u001b[0;36mModel._handle_data\u001b[0;34m(self, endog, exog, missing, hasconst, **kwargs)\u001b[0m\n\u001b[1;32m    134\u001b[0m \u001b[38;5;28;01mdef\u001b[39;00m \u001b[38;5;21m_handle_data\u001b[39m(\u001b[38;5;28mself\u001b[39m, endog, exog, missing, hasconst, \u001b[38;5;241m*\u001b[39m\u001b[38;5;241m*\u001b[39mkwargs):\n\u001b[0;32m--> 135\u001b[0m     data \u001b[38;5;241m=\u001b[39m \u001b[43mhandle_data\u001b[49m\u001b[43m(\u001b[49m\u001b[43mendog\u001b[49m\u001b[43m,\u001b[49m\u001b[43m \u001b[49m\u001b[43mexog\u001b[49m\u001b[43m,\u001b[49m\u001b[43m \u001b[49m\u001b[43mmissing\u001b[49m\u001b[43m,\u001b[49m\u001b[43m \u001b[49m\u001b[43mhasconst\u001b[49m\u001b[43m,\u001b[49m\u001b[43m \u001b[49m\u001b[38;5;241;43m*\u001b[39;49m\u001b[38;5;241;43m*\u001b[39;49m\u001b[43mkwargs\u001b[49m\u001b[43m)\u001b[49m\n\u001b[1;32m    136\u001b[0m     \u001b[38;5;66;03m# kwargs arrays could have changed, easier to just attach here\u001b[39;00m\n\u001b[1;32m    137\u001b[0m     \u001b[38;5;28;01mfor\u001b[39;00m key \u001b[38;5;129;01min\u001b[39;00m kwargs:\n",
      "File \u001b[0;32m~/miniconda3/envs/capstone/lib/python3.9/site-packages/statsmodels/base/data.py:675\u001b[0m, in \u001b[0;36mhandle_data\u001b[0;34m(endog, exog, missing, hasconst, **kwargs)\u001b[0m\n\u001b[1;32m    672\u001b[0m     exog \u001b[38;5;241m=\u001b[39m np\u001b[38;5;241m.\u001b[39masarray(exog)\n\u001b[1;32m    674\u001b[0m klass \u001b[38;5;241m=\u001b[39m handle_data_class_factory(endog, exog)\n\u001b[0;32m--> 675\u001b[0m \u001b[38;5;28;01mreturn\u001b[39;00m \u001b[43mklass\u001b[49m\u001b[43m(\u001b[49m\u001b[43mendog\u001b[49m\u001b[43m,\u001b[49m\u001b[43m \u001b[49m\u001b[43mexog\u001b[49m\u001b[38;5;241;43m=\u001b[39;49m\u001b[43mexog\u001b[49m\u001b[43m,\u001b[49m\u001b[43m \u001b[49m\u001b[43mmissing\u001b[49m\u001b[38;5;241;43m=\u001b[39;49m\u001b[43mmissing\u001b[49m\u001b[43m,\u001b[49m\u001b[43m \u001b[49m\u001b[43mhasconst\u001b[49m\u001b[38;5;241;43m=\u001b[39;49m\u001b[43mhasconst\u001b[49m\u001b[43m,\u001b[49m\n\u001b[1;32m    676\u001b[0m \u001b[43m             \u001b[49m\u001b[38;5;241;43m*\u001b[39;49m\u001b[38;5;241;43m*\u001b[39;49m\u001b[43mkwargs\u001b[49m\u001b[43m)\u001b[49m\n",
      "File \u001b[0;32m~/miniconda3/envs/capstone/lib/python3.9/site-packages/statsmodels/base/data.py:84\u001b[0m, in \u001b[0;36mModelData.__init__\u001b[0;34m(self, endog, exog, missing, hasconst, **kwargs)\u001b[0m\n\u001b[1;32m     82\u001b[0m     \u001b[38;5;28mself\u001b[39m\u001b[38;5;241m.\u001b[39morig_endog \u001b[38;5;241m=\u001b[39m endog\n\u001b[1;32m     83\u001b[0m     \u001b[38;5;28mself\u001b[39m\u001b[38;5;241m.\u001b[39morig_exog \u001b[38;5;241m=\u001b[39m exog\n\u001b[0;32m---> 84\u001b[0m     \u001b[38;5;28mself\u001b[39m\u001b[38;5;241m.\u001b[39mendog, \u001b[38;5;28mself\u001b[39m\u001b[38;5;241m.\u001b[39mexog \u001b[38;5;241m=\u001b[39m \u001b[38;5;28;43mself\u001b[39;49m\u001b[38;5;241;43m.\u001b[39;49m\u001b[43m_convert_endog_exog\u001b[49m\u001b[43m(\u001b[49m\u001b[43mendog\u001b[49m\u001b[43m,\u001b[49m\u001b[43m \u001b[49m\u001b[43mexog\u001b[49m\u001b[43m)\u001b[49m\n\u001b[1;32m     86\u001b[0m \u001b[38;5;28mself\u001b[39m\u001b[38;5;241m.\u001b[39mconst_idx \u001b[38;5;241m=\u001b[39m \u001b[38;5;28;01mNone\u001b[39;00m\n\u001b[1;32m     87\u001b[0m \u001b[38;5;28mself\u001b[39m\u001b[38;5;241m.\u001b[39mk_constant \u001b[38;5;241m=\u001b[39m \u001b[38;5;241m0\u001b[39m\n",
      "File \u001b[0;32m~/miniconda3/envs/capstone/lib/python3.9/site-packages/statsmodels/base/data.py:509\u001b[0m, in \u001b[0;36mPandasData._convert_endog_exog\u001b[0;34m(self, endog, exog)\u001b[0m\n\u001b[1;32m    507\u001b[0m exog \u001b[38;5;241m=\u001b[39m exog \u001b[38;5;28;01mif\u001b[39;00m exog \u001b[38;5;129;01mis\u001b[39;00m \u001b[38;5;28;01mNone\u001b[39;00m \u001b[38;5;28;01melse\u001b[39;00m np\u001b[38;5;241m.\u001b[39masarray(exog)\n\u001b[1;32m    508\u001b[0m \u001b[38;5;28;01mif\u001b[39;00m endog\u001b[38;5;241m.\u001b[39mdtype \u001b[38;5;241m==\u001b[39m \u001b[38;5;28mobject\u001b[39m \u001b[38;5;129;01mor\u001b[39;00m exog \u001b[38;5;129;01mis\u001b[39;00m \u001b[38;5;129;01mnot\u001b[39;00m \u001b[38;5;28;01mNone\u001b[39;00m \u001b[38;5;129;01mand\u001b[39;00m exog\u001b[38;5;241m.\u001b[39mdtype \u001b[38;5;241m==\u001b[39m \u001b[38;5;28mobject\u001b[39m:\n\u001b[0;32m--> 509\u001b[0m     \u001b[38;5;28;01mraise\u001b[39;00m \u001b[38;5;167;01mValueError\u001b[39;00m(\u001b[38;5;124m\"\u001b[39m\u001b[38;5;124mPandas data cast to numpy dtype of object. \u001b[39m\u001b[38;5;124m\"\u001b[39m\n\u001b[1;32m    510\u001b[0m                      \u001b[38;5;124m\"\u001b[39m\u001b[38;5;124mCheck input data with np.asarray(data).\u001b[39m\u001b[38;5;124m\"\u001b[39m)\n\u001b[1;32m    511\u001b[0m \u001b[38;5;28;01mreturn\u001b[39;00m \u001b[38;5;28msuper\u001b[39m()\u001b[38;5;241m.\u001b[39m_convert_endog_exog(endog, exog)\n",
      "\u001b[0;31mValueError\u001b[0m: Pandas data cast to numpy dtype of object. Check input data with np.asarray(data)."
     ]
    }
   ],
   "source": [
    "model = sm.OLS(y_valid, X_valid).fit()\n",
    "print(model.summary())"
   ]
  },
  {
   "cell_type": "code",
   "execution_count": 178,
   "id": "22dba3db-be17-4750-b9cd-d271b6f3c18a",
   "metadata": {},
   "outputs": [
    {
     "name": "stdout",
     "output_type": "stream",
     "text": [
      "const        float64\n",
      "W              int64\n",
      "IP           float64\n",
      "K9           float64\n",
      "BB9          float64\n",
      "fa           float64\n",
      "age          float64\n",
      "year_2020       bool\n",
      "year_2021       bool\n",
      "year_2022       bool\n",
      "year_2023       bool\n",
      "dtype: object\n",
      "float64\n"
     ]
    }
   ],
   "source": [
    "print(X_valid.dtypes)\n",
    "print(y_valid.dtypes)"
   ]
  },
  {
   "cell_type": "code",
   "execution_count": 179,
   "id": "6bde16bd-1ed4-404a-9dae-86dfeb418136",
   "metadata": {},
   "outputs": [
    {
     "name": "stdout",
     "output_type": "stream",
     "text": [
      "                            OLS Regression Results                            \n",
      "==============================================================================\n",
      "Dep. Variable:        log_salary_next   R-squared:                       0.798\n",
      "Model:                            OLS   Adj. R-squared:                  0.737\n",
      "Method:                 Least Squares   F-statistic:                     13.05\n",
      "Date:                Mon, 02 Jun 2025   Prob (F-statistic):           7.91e-09\n",
      "Time:                        01:38:36   Log-Likelihood:                -32.340\n",
      "No. Observations:                  44   AIC:                             86.68\n",
      "Df Residuals:                      33   BIC:                             106.3\n",
      "Df Model:                          10                                         \n",
      "Covariance Type:            nonrobust                                         \n",
      "==============================================================================\n",
      "                 coef    std err          t      P>|t|      [0.025      0.975]\n",
      "------------------------------------------------------------------------------\n",
      "const          6.4728      1.084      5.974      0.000       4.268       8.677\n",
      "W             -0.0016      0.022     -0.074      0.942      -0.046       0.042\n",
      "IP             0.0046      0.002      2.325      0.026       0.001       0.009\n",
      "K9             0.0782      0.061      1.277      0.210      -0.046       0.203\n",
      "BB9           -0.2015      0.096     -2.106      0.043      -0.396      -0.007\n",
      "fa            -0.6862      0.642     -1.068      0.293      -1.993       0.621\n",
      "age            0.0945      0.025      3.718      0.001       0.043       0.146\n",
      "year_2020      0.0690      0.314      0.219      0.828      -0.571       0.709\n",
      "year_2021      0.0375      0.296      0.127      0.900      -0.564       0.639\n",
      "year_2022     -0.1435      0.315     -0.455      0.652      -0.785       0.498\n",
      "year_2023      0.3271      0.335      0.977      0.336      -0.354       1.008\n",
      "==============================================================================\n",
      "Omnibus:                        1.682   Durbin-Watson:                   1.688\n",
      "Prob(Omnibus):                  0.431   Jarque-Bera (JB):                0.816\n",
      "Skew:                           0.048   Prob(JB):                        0.665\n",
      "Kurtosis:                       3.660   Cond. No.                     3.49e+03\n",
      "==============================================================================\n",
      "\n",
      "Notes:\n",
      "[1] Standard Errors assume that the covariance matrix of the errors is correctly specified.\n",
      "[2] The condition number is large, 3.49e+03. This might indicate that there are\n",
      "strong multicollinearity or other numerical problems.\n"
     ]
    },
    {
     "name": "stderr",
     "output_type": "stream",
     "text": [
      "/var/folders/48/s46fmd9166lflhx4v40_hps80000gn/T/ipykernel_67732/850691817.py:2: FutureWarning: Setting an item of incompatible dtype is deprecated and will raise in a future error of pandas. Value '[0 0 0 0 1 0 0 0 1 0 0 0 0 1 0 0 0 1 0 0 0 1 0 0 0 0 1 0 0 0 0 1 0 0 0 0 0\n",
      " 1 0 0 0 0 0 0]' has dtype incompatible with bool, please explicitly cast to a compatible dtype first.\n",
      "  X_valid.loc[:, [\"year_2020\", \"year_2021\", \"year_2022\", \"year_2023\"]] = \\\n",
      "/var/folders/48/s46fmd9166lflhx4v40_hps80000gn/T/ipykernel_67732/850691817.py:2: FutureWarning: Setting an item of incompatible dtype is deprecated and will raise in a future error of pandas. Value '[1 0 0 0 0 1 0 0 0 1 0 0 0 0 1 0 0 0 1 0 0 0 1 0 0 0 0 1 0 0 0 0 1 1 0 0 0\n",
      " 0 1 0 0 1 0 0]' has dtype incompatible with bool, please explicitly cast to a compatible dtype first.\n",
      "  X_valid.loc[:, [\"year_2020\", \"year_2021\", \"year_2022\", \"year_2023\"]] = \\\n",
      "/var/folders/48/s46fmd9166lflhx4v40_hps80000gn/T/ipykernel_67732/850691817.py:2: FutureWarning: Setting an item of incompatible dtype is deprecated and will raise in a future error of pandas. Value '[0 1 0 0 0 0 1 0 0 0 1 0 0 0 0 1 0 0 0 1 0 0 0 1 0 0 0 0 1 0 0 0 0 0 1 0 0\n",
      " 0 0 1 0 0 1 0]' has dtype incompatible with bool, please explicitly cast to a compatible dtype first.\n",
      "  X_valid.loc[:, [\"year_2020\", \"year_2021\", \"year_2022\", \"year_2023\"]] = \\\n",
      "/var/folders/48/s46fmd9166lflhx4v40_hps80000gn/T/ipykernel_67732/850691817.py:2: FutureWarning: Setting an item of incompatible dtype is deprecated and will raise in a future error of pandas. Value '[0 0 1 0 0 0 0 0 0 0 0 1 0 0 0 0 0 0 0 0 1 0 0 0 1 0 0 0 0 1 0 0 0 0 0 1 0\n",
      " 0 0 0 1 0 0 1]' has dtype incompatible with bool, please explicitly cast to a compatible dtype first.\n",
      "  X_valid.loc[:, [\"year_2020\", \"year_2021\", \"year_2022\", \"year_2023\"]] = \\\n"
     ]
    }
   ],
   "source": [
    "# year 더미 컬럼들을 int로 변환\n",
    "X_valid.loc[:, [\"year_2020\", \"year_2021\", \"year_2022\", \"year_2023\"]] = \\\n",
    "    X_valid[[\"year_2020\", \"year_2021\", \"year_2022\", \"year_2023\"]].astype(int)\n",
    "\n",
    "# 회귀 실행\n",
    "model = sm.OLS(y_valid, X_valid).fit()\n",
    "print(model.summary())"
   ]
  },
  {
   "cell_type": "code",
   "execution_count": 199,
   "id": "76aafe46-d1a6-4050-9f09-eb0e9c7e7d0a",
   "metadata": {},
   "outputs": [
    {
     "name": "stdout",
     "output_type": "stream",
     "text": [
      "                            OLS Regression Results                            \n",
      "==============================================================================\n",
      "Dep. Variable:        log_salary_next   R-squared:                       0.765\n",
      "Model:                            OLS   Adj. R-squared:                  0.703\n",
      "Method:                 Least Squares   F-statistic:                     12.31\n",
      "Date:                Mon, 02 Jun 2025   Prob (F-statistic):           2.25e-08\n",
      "Time:                        02:05:00   Log-Likelihood:                -35.679\n",
      "No. Observations:                  44   AIC:                             91.36\n",
      "Df Residuals:                      34   BIC:                             109.2\n",
      "Df Model:                           9                                         \n",
      "Covariance Type:            nonrobust                                         \n",
      "==============================================================================\n",
      "                 coef    std err          t      P>|t|      [0.025      0.975]\n",
      "------------------------------------------------------------------------------\n",
      "const         16.5672      1.078     15.364      0.000      14.376      18.759\n",
      "W              0.0377      0.014      2.631      0.013       0.009       0.067\n",
      "K9             0.0715      0.065      1.100      0.279      -0.061       0.204\n",
      "BB9           -0.2822      0.095     -2.978      0.005      -0.475      -0.090\n",
      "fa            -0.8275      0.680     -1.217      0.232      -2.209       0.554\n",
      "age            0.0907      0.027      3.363      0.002       0.036       0.145\n",
      "year_2020      0.1846      0.330      0.559      0.580      -0.486       0.855\n",
      "year_2021      0.1693      0.308      0.549      0.587      -0.458       0.796\n",
      "year_2022      0.0613      0.322      0.190      0.850      -0.592       0.715\n",
      "year_2023      0.5580      0.340      1.642      0.110      -0.133       1.249\n",
      "==============================================================================\n",
      "Omnibus:                        4.032   Durbin-Watson:                   1.707\n",
      "Prob(Omnibus):                  0.133   Jarque-Bera (JB):                2.964\n",
      "Skew:                          -0.415   Prob(JB):                        0.227\n",
      "Kurtosis:                       3.964   Cond. No.                         376.\n",
      "==============================================================================\n",
      "\n",
      "Notes:\n",
      "[1] Standard Errors assume that the covariance matrix of the errors is correctly specified.\n"
     ]
    }
   ],
   "source": [
    "# ERA를 제외한 설명 변수 구성\n",
    "features_reduced = [\"W\", \"K9\", \"BB9\", \"fa\", \"age\"] + [c for c in df.columns if c.startswith(\"year_\")]\n",
    "\n",
    "# 독립 변수 X와 종속 변수 y 정의\n",
    "X = sm.add_constant(df[features_reduced])\n",
    "y = df[\"log_salary_next\"]\n",
    "\n",
    "# NaN 제거 (혹시 있을 경우)\n",
    "valid_idx = X.notnull().all(axis=1) & y.notnull()\n",
    "X_valid = X[valid_idx]\n",
    "y_valid = y[valid_idx]\n",
    "\n",
    "# 연도 더미 변수들을 int로 변환 (있다면)\n",
    "year_cols = [col for col in X_valid.columns if col.startswith(\"year_\")]\n",
    "X_valid[year_cols] = X_valid[year_cols].astype(int)\n",
    "\n",
    "# 회귀 실행\n",
    "model = sm.OLS(y_valid, X_valid).fit()\n",
    "print(model.summary())"
   ]
  },
  {
   "cell_type": "code",
   "execution_count": 77,
   "id": "cb911ce0-b8fe-4532-8b4e-ec30ede87ca5",
   "metadata": {},
   "outputs": [
    {
     "name": "stderr",
     "output_type": "stream",
     "text": [
      "in progress: 100%|████████████████████████████████████████████████████████████████████████████████| 12/12 [00:09<00:00,  1.30it/s]\n",
      "in progress: 100%|██████████████████████████████████████████████████████████████████████████████| 831/831 [16:20<00:00,  1.18s/it]\n",
      "in progress: 100%|████████████████████████████████████████████████████████████████████████████████| 12/12 [00:09<00:00,  1.27it/s]\n",
      "in progress: 100%|██████████████████████████████████████████████████████████████████████████████| 852/852 [15:30<00:00,  1.09s/it]\n",
      "in progress: 100%|████████████████████████████████████████████████████████████████████████████████| 12/12 [00:09<00:00,  1.30it/s]\n",
      "in progress: 100%|██████████████████████████████████████████████████████████████████████████████| 916/916 [16:24<00:00,  1.07s/it]\n",
      "in progress: 100%|████████████████████████████████████████████████████████████████████████████████| 12/12 [00:09<00:00,  1.29it/s]\n",
      "in progress: 100%|██████████████████████████████████████████████████████████████████████████████| 865/865 [16:46<00:00,  1.16s/it]\n",
      "in progress: 100%|████████████████████████████████████████████████████████████████████████████████| 12/12 [00:09<00:00,  1.28it/s]\n",
      "in progress: 100%|██████████████████████████████████████████████████████████████████████████████| 897/897 [16:46<00:00,  1.12s/it]\n"
     ]
    }
   ],
   "source": [
    "import os\n",
    "\n",
    "save_dir = \"kbodata_output\"\n",
    "os.makedirs(save_dir, exist_ok=True)\n",
    "\n",
    "for year in years:\n",
    "    try:\n",
    "        sched = kbodata.get_yearly_schedule(year, chromedriver_path)\n",
    "        game_data = kbodata.get_game_data(sched, chromedriver_path)\n",
    "\n",
    "        pitcher_df = kbodata.pitcher_to_DataFrame(game_data)\n",
    "        scoreboard_df = kbodata.scoreboard_to_DataFrame(game_data)\n",
    "\n",
    "        pitcher_df[\"year\"] = year\n",
    "        scoreboard_df[\"year\"] = year\n",
    "\n",
    "        # 저장\n",
    "        pitcher_df.to_csv(f\"{save_dir}/pitchers_{year}.csv\", index=False)\n",
    "        scoreboard_df.to_csv(f\"{save_dir}/scoreboards_{year}.csv\", index=False)\n",
    "\n",
    "        all_pitchers.append(pitcher_df)\n",
    "        all_scoreboards.append(scoreboard_df)\n",
    "\n",
    "    except Exception as e:\n",
    "        print(f\"[ERROR] {year}년 처리 실패: {e}\")"
   ]
  },
  {
   "cell_type": "code",
   "execution_count": 78,
   "id": "40355a0d-98aa-42be-8b16-db6e0f8d0b4a",
   "metadata": {},
   "outputs": [],
   "source": [
    "# 처리 후 맨 아래에 추가\n",
    "import pandas as pd\n",
    "\n",
    "if all_pitchers:\n",
    "    total_pitchers = pd.concat(all_pitchers, ignore_index=True)\n",
    "    total_pitchers.to_csv(f\"{save_dir}/all_pitchers_2019_2023.csv\", index=False)\n",
    "\n",
    "if all_scoreboards:\n",
    "    total_scoreboards = pd.concat(all_scoreboards, ignore_index=True)\n",
    "    total_scoreboards.to_csv(f\"{save_dir}/all_scoreboards_2019_2023.csv\", index=False)"
   ]
  },
  {
   "cell_type": "code",
   "execution_count": 79,
   "id": "0b458056-4a5f-4611-af39-74373f6dd464",
   "metadata": {},
   "outputs": [
    {
     "data": {
      "text/plain": [
       "Index(['const', 'W', 'ERA', 'IP', 'K9', 'BB9', 'fa', 'age', 'year_2020',\n",
       "       'year_2021', 'year_2022', 'year_2023'],\n",
       "      dtype='object')"
      ]
     },
     "execution_count": 79,
     "metadata": {},
     "output_type": "execute_result"
    }
   ],
   "source": [
    "X_valid.columns"
   ]
  },
  {
   "cell_type": "code",
   "execution_count": 88,
   "id": "84251075-5174-4ac8-9438-3a63ddae319a",
   "metadata": {},
   "outputs": [
    {
     "name": "stdout",
     "output_type": "stream",
     "text": [
      "     feature        VIF\n",
      "0          W   7.838416\n",
      "1         K9  20.078852\n",
      "2        BB9  10.913063\n",
      "3         fa   1.195761\n",
      "4        age  14.262228\n",
      "5  year_2020   2.269453\n",
      "6  year_2021   2.723905\n",
      "7  year_2022   2.647331\n",
      "8  year_2023   2.406927\n"
     ]
    }
   ],
   "source": [
    "from statsmodels.stats.outliers_influence import variance_inflation_factor\n",
    "import pandas as pd\n",
    "\n",
    "# const 제외\n",
    "X_no_const = X_valid.drop(columns=['const'])\n",
    "\n",
    "# VIF 계산\n",
    "vif_df = pd.DataFrame()\n",
    "vif_df[\"feature\"] = X_no_const.columns\n",
    "vif_df[\"VIF\"] = [variance_inflation_factor(X_no_const.values, i) for i in range(X_no_const.shape[1])]\n",
    "\n",
    "print(vif_df)"
   ]
  },
  {
   "cell_type": "code",
   "execution_count": 81,
   "id": "d925f312-00f2-4ce6-baf7-25ecc1cf0a08",
   "metadata": {},
   "outputs": [
    {
     "name": "stdout",
     "output_type": "stream",
     "text": [
      "💡 Lasso 회귀 계수:\n",
      "const        0.000000\n",
      "W            0.000000\n",
      "ERA         -0.071688\n",
      "IP           0.487537\n",
      "K9           0.001598\n",
      "BB9         -0.174095\n",
      "fa          -0.004630\n",
      "age          0.395725\n",
      "year_2020    0.000000\n",
      "year_2021   -0.000000\n",
      "year_2022   -0.000000\n",
      "year_2023    0.044887\n",
      "dtype: float64\n",
      "\n",
      "🔍 중요한 변수 순위:\n",
      "IP           0.487537\n",
      "age          0.395725\n",
      "BB9         -0.174095\n",
      "ERA         -0.071688\n",
      "year_2023    0.044887\n",
      "fa          -0.004630\n",
      "K9           0.001598\n",
      "dtype: float64\n"
     ]
    }
   ],
   "source": [
    "from sklearn.linear_model import LassoCV\n",
    "from sklearn.preprocessing import StandardScaler\n",
    "from sklearn.pipeline import make_pipeline\n",
    "import numpy as np\n",
    "\n",
    "# Lasso는 표준화가 꼭 필요해\n",
    "lasso_pipeline = make_pipeline(\n",
    "    StandardScaler(),\n",
    "    LassoCV(cv=5, random_state=0)\n",
    ")\n",
    "\n",
    "# 학습\n",
    "lasso_pipeline.fit(X_valid, y_valid)\n",
    "\n",
    "# 계수 확인\n",
    "lasso = lasso_pipeline.named_steps['lassocv']\n",
    "coefficients = pd.Series(lasso.coef_, index=X_valid.columns)\n",
    "\n",
    "print(\"💡 Lasso 회귀 계수:\")\n",
    "print(coefficients)\n",
    "\n",
    "# 어떤 변수가 얼마나 줄었는지 보기 좋게 정렬해서 출력\n",
    "print(\"\\n🔍 중요한 변수 순위:\")\n",
    "print(coefficients[coefficients != 0].sort_values(key=abs, ascending=False))"
   ]
  },
  {
   "cell_type": "code",
   "execution_count": 180,
   "id": "410b7eea-f943-4713-bed3-26e720373fbd",
   "metadata": {},
   "outputs": [
    {
     "ename": "KeyError",
     "evalue": "'season'",
     "output_type": "error",
     "traceback": [
      "\u001b[0;31m---------------------------------------------------------------------------\u001b[0m",
      "\u001b[0;31mKeyError\u001b[0m                                  Traceback (most recent call last)",
      "File \u001b[0;32m~/miniconda3/envs/capstone/lib/python3.9/site-packages/pandas/core/indexes/base.py:3805\u001b[0m, in \u001b[0;36mIndex.get_loc\u001b[0;34m(self, key)\u001b[0m\n\u001b[1;32m   3804\u001b[0m \u001b[38;5;28;01mtry\u001b[39;00m:\n\u001b[0;32m-> 3805\u001b[0m     \u001b[38;5;28;01mreturn\u001b[39;00m \u001b[38;5;28;43mself\u001b[39;49m\u001b[38;5;241;43m.\u001b[39;49m\u001b[43m_engine\u001b[49m\u001b[38;5;241;43m.\u001b[39;49m\u001b[43mget_loc\u001b[49m\u001b[43m(\u001b[49m\u001b[43mcasted_key\u001b[49m\u001b[43m)\u001b[49m\n\u001b[1;32m   3806\u001b[0m \u001b[38;5;28;01mexcept\u001b[39;00m \u001b[38;5;167;01mKeyError\u001b[39;00m \u001b[38;5;28;01mas\u001b[39;00m err:\n",
      "File \u001b[0;32mindex.pyx:167\u001b[0m, in \u001b[0;36mpandas._libs.index.IndexEngine.get_loc\u001b[0;34m()\u001b[0m\n",
      "File \u001b[0;32mindex.pyx:196\u001b[0m, in \u001b[0;36mpandas._libs.index.IndexEngine.get_loc\u001b[0;34m()\u001b[0m\n",
      "File \u001b[0;32mpandas/_libs/hashtable_class_helper.pxi:7081\u001b[0m, in \u001b[0;36mpandas._libs.hashtable.PyObjectHashTable.get_item\u001b[0;34m()\u001b[0m\n",
      "File \u001b[0;32mpandas/_libs/hashtable_class_helper.pxi:7089\u001b[0m, in \u001b[0;36mpandas._libs.hashtable.PyObjectHashTable.get_item\u001b[0;34m()\u001b[0m\n",
      "\u001b[0;31mKeyError\u001b[0m: 'season'",
      "\nThe above exception was the direct cause of the following exception:\n",
      "\u001b[0;31mKeyError\u001b[0m                                  Traceback (most recent call last)",
      "Cell \u001b[0;32mIn[180], line 5\u001b[0m\n\u001b[1;32m      2\u001b[0m \u001b[38;5;28;01mimport\u001b[39;00m \u001b[38;5;21;01mpandas\u001b[39;00m \u001b[38;5;28;01mas\u001b[39;00m \u001b[38;5;21;01mpd\u001b[39;00m\n\u001b[1;32m      3\u001b[0m \u001b[38;5;28;01mimport\u001b[39;00m \u001b[38;5;21;01mmatplotlib\u001b[39;00m\u001b[38;5;21;01m.\u001b[39;00m\u001b[38;5;21;01mpyplot\u001b[39;00m \u001b[38;5;28;01mas\u001b[39;00m \u001b[38;5;21;01mplt\u001b[39;00m\n\u001b[0;32m----> 5\u001b[0m years \u001b[38;5;241m=\u001b[39m \u001b[38;5;28msorted\u001b[39m(\u001b[43mdf\u001b[49m\u001b[43m[\u001b[49m\u001b[38;5;124;43m\"\u001b[39;49m\u001b[38;5;124;43mseason\u001b[39;49m\u001b[38;5;124;43m\"\u001b[39;49m\u001b[43m]\u001b[49m\u001b[38;5;241m.\u001b[39munique())\n\u001b[1;32m      6\u001b[0m w_coefs \u001b[38;5;241m=\u001b[39m []\n\u001b[1;32m      8\u001b[0m \u001b[38;5;28;01mfor\u001b[39;00m year \u001b[38;5;129;01min\u001b[39;00m years:\n",
      "File \u001b[0;32m~/miniconda3/envs/capstone/lib/python3.9/site-packages/pandas/core/frame.py:4102\u001b[0m, in \u001b[0;36mDataFrame.__getitem__\u001b[0;34m(self, key)\u001b[0m\n\u001b[1;32m   4100\u001b[0m \u001b[38;5;28;01mif\u001b[39;00m \u001b[38;5;28mself\u001b[39m\u001b[38;5;241m.\u001b[39mcolumns\u001b[38;5;241m.\u001b[39mnlevels \u001b[38;5;241m>\u001b[39m \u001b[38;5;241m1\u001b[39m:\n\u001b[1;32m   4101\u001b[0m     \u001b[38;5;28;01mreturn\u001b[39;00m \u001b[38;5;28mself\u001b[39m\u001b[38;5;241m.\u001b[39m_getitem_multilevel(key)\n\u001b[0;32m-> 4102\u001b[0m indexer \u001b[38;5;241m=\u001b[39m \u001b[38;5;28;43mself\u001b[39;49m\u001b[38;5;241;43m.\u001b[39;49m\u001b[43mcolumns\u001b[49m\u001b[38;5;241;43m.\u001b[39;49m\u001b[43mget_loc\u001b[49m\u001b[43m(\u001b[49m\u001b[43mkey\u001b[49m\u001b[43m)\u001b[49m\n\u001b[1;32m   4103\u001b[0m \u001b[38;5;28;01mif\u001b[39;00m is_integer(indexer):\n\u001b[1;32m   4104\u001b[0m     indexer \u001b[38;5;241m=\u001b[39m [indexer]\n",
      "File \u001b[0;32m~/miniconda3/envs/capstone/lib/python3.9/site-packages/pandas/core/indexes/base.py:3812\u001b[0m, in \u001b[0;36mIndex.get_loc\u001b[0;34m(self, key)\u001b[0m\n\u001b[1;32m   3807\u001b[0m     \u001b[38;5;28;01mif\u001b[39;00m \u001b[38;5;28misinstance\u001b[39m(casted_key, \u001b[38;5;28mslice\u001b[39m) \u001b[38;5;129;01mor\u001b[39;00m (\n\u001b[1;32m   3808\u001b[0m         \u001b[38;5;28misinstance\u001b[39m(casted_key, abc\u001b[38;5;241m.\u001b[39mIterable)\n\u001b[1;32m   3809\u001b[0m         \u001b[38;5;129;01mand\u001b[39;00m \u001b[38;5;28many\u001b[39m(\u001b[38;5;28misinstance\u001b[39m(x, \u001b[38;5;28mslice\u001b[39m) \u001b[38;5;28;01mfor\u001b[39;00m x \u001b[38;5;129;01min\u001b[39;00m casted_key)\n\u001b[1;32m   3810\u001b[0m     ):\n\u001b[1;32m   3811\u001b[0m         \u001b[38;5;28;01mraise\u001b[39;00m InvalidIndexError(key)\n\u001b[0;32m-> 3812\u001b[0m     \u001b[38;5;28;01mraise\u001b[39;00m \u001b[38;5;167;01mKeyError\u001b[39;00m(key) \u001b[38;5;28;01mfrom\u001b[39;00m \u001b[38;5;21;01merr\u001b[39;00m\n\u001b[1;32m   3813\u001b[0m \u001b[38;5;28;01mexcept\u001b[39;00m \u001b[38;5;167;01mTypeError\u001b[39;00m:\n\u001b[1;32m   3814\u001b[0m     \u001b[38;5;66;03m# If we have a listlike key, _check_indexing_error will raise\u001b[39;00m\n\u001b[1;32m   3815\u001b[0m     \u001b[38;5;66;03m#  InvalidIndexError. Otherwise we fall through and re-raise\u001b[39;00m\n\u001b[1;32m   3816\u001b[0m     \u001b[38;5;66;03m#  the TypeError.\u001b[39;00m\n\u001b[1;32m   3817\u001b[0m     \u001b[38;5;28mself\u001b[39m\u001b[38;5;241m.\u001b[39m_check_indexing_error(key)\n",
      "\u001b[0;31mKeyError\u001b[0m: 'season'"
     ]
    }
   ],
   "source": [
    "import statsmodels.api as sm\n",
    "import pandas as pd\n",
    "import matplotlib.pyplot as plt\n",
    "\n",
    "years = sorted(df[\"season\"].unique())\n",
    "w_coefs = []\n",
    "\n",
    "for year in years:\n",
    "    df_year = df[df[\"season\"] == year]\n",
    "\n",
    "    X = sm.add_constant(df_year[[\"W\"]])\n",
    "    y = df_year[\"log_salary_next\"]\n",
    "\n",
    "    if len(df_year) >= 5:  # 최소 관측치 보장\n",
    "        model = sm.OLS(y, X).fit()\n",
    "        w_coefs.append(model.params[\"W\"])\n",
    "    else:\n",
    "        w_coefs.append(None)  # 부족한 경우 제외\n",
    "\n",
    "# 시각화\n",
    "plt.plot(years, w_coefs, marker=\"o\")\n",
    "plt.title(\"연도별 W의 회귀계수 추이\")\n",
    "plt.xlabel(\"Season\")\n",
    "plt.ylabel(\"Coefficient of W\")\n",
    "plt.axhline(0, color='gray', linestyle='--')\n",
    "plt.grid(True)\n",
    "plt.show()"
   ]
  },
  {
   "cell_type": "code",
   "execution_count": 181,
   "id": "8e1c344a-b108-4a02-92ed-daf947c0e4b5",
   "metadata": {},
   "outputs": [
    {
     "name": "stdout",
     "output_type": "stream",
     "text": [
      "Index(['player_name', 'season', 'W', 'IP', 'strikeout', 'dead4ball',\n",
      "       'earnedrun', 'ERA', 'K9', 'BB9', 'RS', 'salary_next', 'fa', 'age',\n",
      "       'salary_next_won', 'log_salary_next'],\n",
      "      dtype='object')\n"
     ]
    }
   ],
   "source": [
    "print(merged_df.columns)"
   ]
  },
  {
   "cell_type": "code",
   "execution_count": 182,
   "id": "54e32e90-7a8b-4ebc-8868-ae932828d4ef",
   "metadata": {},
   "outputs": [],
   "source": [
    "merged_df = merged_df.rename(columns={\"year\": \"season\"})"
   ]
  },
  {
   "cell_type": "code",
   "execution_count": 184,
   "id": "80febd60-55ae-4e8e-b39a-f6ed030b319b",
   "metadata": {},
   "outputs": [
    {
     "data": {
      "image/png": "[encoded data removed]",
      "text/plain": [
       "<Figure size 640x480 with 1 Axes>"
      ]
     },
     "metadata": {},
     "output_type": "display_data"
    }
   ],
   "source": [
    "import statsmodels.api as sm\n",
    "import matplotlib.pyplot as plt\n",
    "\n",
    "# season 컬럼 보장\n",
    "if \"season\" not in merged_df.columns and \"year\" in merged_df.columns:\n",
    "    merged_df = merged_df.rename(columns={\"year\": \"season\"})\n",
    "\n",
    "years = sorted(merged_df[\"season\"].dropna().unique())\n",
    "w_coefs = []\n",
    "\n",
    "for year in years:\n",
    "    df_year = merged_df[merged_df[\"season\"] == year]\n",
    "\n",
    "    if len(df_year) >= 5:\n",
    "        X = sm.add_constant(df_year[[\"W\"]])\n",
    "        y = df_year[\"log_salary_next\"]\n",
    "        model = sm.OLS(y, X).fit()\n",
    "        w_coefs.append(model.params[\"W\"])\n",
    "    else:\n",
    "        w_coefs.append(None)  # 관측치 부족 시 제외\n",
    "\n",
    "# 그래프\n",
    "plt.plot(years, w_coefs, marker=\"o\")\n",
    "plt.title(\"Annual Trend of W Coefficients in Salary Regression\")\n",
    "plt.xlabel(\"Season\")\n",
    "plt.ylabel(\"Coefficient of Wins (W)\")\n",
    "plt.axhline(0, color='gray', linestyle='--')\n",
    "plt.grid(True)\n",
    "plt.show()"
   ]
  },
  {
   "cell_type": "code",
   "execution_count": 185,
   "id": "d91e6149-abb7-458e-aa04-268d589d45df",
   "metadata": {},
   "outputs": [
    {
     "name": "stdout",
     "output_type": "stream",
     "text": [
      "                            OLS Regression Results                            \n",
      "==============================================================================\n",
      "Dep. Variable:                      W   R-squared:                       0.734\n",
      "Model:                            OLS   Adj. R-squared:                  0.728\n",
      "Method:                 Least Squares   F-statistic:                     116.0\n",
      "Date:                Mon, 02 Jun 2025   Prob (F-statistic):           1.18e-13\n",
      "Time:                        01:49:24   Log-Likelihood:                -129.84\n",
      "No. Observations:                  44   AIC:                             263.7\n",
      "Df Residuals:                      42   BIC:                             267.3\n",
      "Df Model:                           1                                         \n",
      "Covariance Type:            nonrobust                                         \n",
      "==============================================================================\n",
      "                 coef    std err          t      P>|t|      [0.025      0.975]\n",
      "------------------------------------------------------------------------------\n",
      "const         -0.6282      1.694     -0.371      0.713      -4.046       2.790\n",
      "RS             0.1211      0.011     10.768      0.000       0.098       0.144\n",
      "==============================================================================\n",
      "Omnibus:                       11.307   Durbin-Watson:                   1.969\n",
      "Prob(Omnibus):                  0.004   Jarque-Bera (JB):               11.023\n",
      "Skew:                           1.064   Prob(JB):                      0.00404\n",
      "Kurtosis:                       4.219   Cond. No.                         357.\n",
      "==============================================================================\n",
      "\n",
      "Notes:\n",
      "[1] Standard Errors assume that the covariance matrix of the errors is correctly specified.\n"
     ]
    }
   ],
   "source": [
    "import statsmodels.api as sm\n",
    "\n",
    "# 설명 변수: RS만 사용\n",
    "X = sm.add_constant(df[[\"RS\"]])  # 상수항 추가\n",
    "y = df[\"W\"]\n",
    "\n",
    "# 결측값 제거 및 타입 통일\n",
    "valid_idx = X.notnull().all(axis=1) & y.notnull()\n",
    "X_valid = X[valid_idx].astype(float)\n",
    "y_valid = y[valid_idx].astype(float)\n",
    "\n",
    "# 회귀 실행\n",
    "model = sm.OLS(y_valid, X_valid).fit()\n",
    "print(model.summary())"
   ]
  },
  {
   "cell_type": "code",
   "execution_count": 202,
   "id": "893ba496-aca2-4045-9894-e617c47a6e2d",
   "metadata": {},
   "outputs": [],
   "source": [
    "season_stats = pitcher_df.groupby([\"name\", \"year\"]).agg({\n",
    "    \"result\": lambda x: (x == \"W\").sum(),   # 승수\n",
    "    \"IP\": \"sum\",\n",
    "    \"strikeout\": \"sum\",\n",
    "    \"dead4ball\": \"sum\",\n",
    "    \"earnedrun\": \"sum\",\n",
    "    \"hitted\": \"sum\",         # ✅ 추가\n",
    "    \"homerun\": \"sum\"         # ✅ FIP 계산용 추가\n",
    "}).reset_index()\n",
    "\n",
    "# 변수명 정리\n",
    "season_stats = season_stats.rename(columns={\"result\": \"W\"})\n",
    "\n",
    "# 파생 변수\n",
    "season_stats[\"ERA\"] = season_stats[\"earnedrun\"] * 9 / season_stats[\"IP\"]\n",
    "season_stats[\"K9\"] = season_stats[\"strikeout\"] * 9 / season_stats[\"IP\"]\n",
    "season_stats[\"BB9\"] = season_stats[\"dead4ball\"] * 9 / season_stats[\"IP\"]\n",
    "\n",
    "# ✅ 여기서 WHIP, FIP도 같이 만들자\n",
    "season_stats[\"WHIP\"] = (season_stats[\"hitted\"] + season_stats[\"dead4ball\"]) / season_stats[\"IP\"]\n",
    "FIP_constant = 3.2\n",
    "season_stats[\"FIP\"] = (\n",
    "    (13 * season_stats[\"homerun\"] + 3 * season_stats[\"dead4ball\"] - 2 * season_stats[\"strikeout\"]) \n",
    "    / season_stats[\"IP\"] + FIP_constant\n",
    ")"
   ]
  },
  {
   "cell_type": "code",
   "execution_count": 203,
   "id": "ccba1d50-530b-4d33-afb7-642501e24cc9",
   "metadata": {},
   "outputs": [],
   "source": [
    "df = pd.merge(season_stats, player_info, on=[\"name\", \"year\"], how=\"inner\")"
   ]
  },
  {
   "cell_type": "code",
   "execution_count": 205,
   "id": "be948044-354c-4c99-b6a5-fd5399b52588",
   "metadata": {},
   "outputs": [
    {
     "name": "stdout",
     "output_type": "stream",
     "text": [
      "Index(['name', 'year', 'salary_next', 'fa', 'age', 'salary_next_won',\n",
      "       'log_salary_next'],\n",
      "      dtype='object')\n"
     ]
    },
    {
     "ename": "KeyError",
     "evalue": "'player_name'",
     "output_type": "error",
     "traceback": [
      "\u001b[0;31m---------------------------------------------------------------------------\u001b[0m",
      "\u001b[0;31mKeyError\u001b[0m                                  Traceback (most recent call last)",
      "\u001b[0;32m/var/folders/48/s46fmd9166lflhx4v40_hps80000gn/T/ipykernel_67732/1494705806.py\u001b[0m in \u001b[0;36m?\u001b[0;34m()\u001b[0m\n\u001b[0;32m---> 13\u001b[0;31m \u001b[0;31m# 컬럼명 확인\u001b[0m\u001b[0;34m\u001b[0m\u001b[0;34m\u001b[0m\u001b[0m\n\u001b[0m\u001b[1;32m     14\u001b[0m \u001b[0mprint\u001b[0m\u001b[0;34m(\u001b[0m\u001b[0mplayer_info\u001b[0m\u001b[0;34m.\u001b[0m\u001b[0mcolumns\u001b[0m\u001b[0;34m)\u001b[0m\u001b[0;34m\u001b[0m\u001b[0;34m\u001b[0m\u001b[0m\n\u001b[1;32m     15\u001b[0m \u001b[0;34m\u001b[0m\u001b[0m\n\u001b[1;32m     16\u001b[0m \u001b[0;31m# 만약 'season' 대신 'year'만 있다면, 이 라인은 생략하거나 아래처럼 처리\u001b[0m\u001b[0;34m\u001b[0m\u001b[0;34m\u001b[0m\u001b[0m\n",
      "\u001b[0;32m~/miniconda3/envs/capstone/lib/python3.9/site-packages/pandas/core/reshape/merge.py\u001b[0m in \u001b[0;36m?\u001b[0;34m(left, right, how, on, left_on, right_on, left_index, right_index, sort, suffixes, copy, indicator, validate)\u001b[0m\n\u001b[1;32m    166\u001b[0m             \u001b[0mvalidate\u001b[0m\u001b[0;34m=\u001b[0m\u001b[0mvalidate\u001b[0m\u001b[0;34m,\u001b[0m\u001b[0;34m\u001b[0m\u001b[0;34m\u001b[0m\u001b[0m\n\u001b[1;32m    167\u001b[0m             \u001b[0mcopy\u001b[0m\u001b[0;34m=\u001b[0m\u001b[0mcopy\u001b[0m\u001b[0;34m,\u001b[0m\u001b[0;34m\u001b[0m\u001b[0;34m\u001b[0m\u001b[0m\n\u001b[1;32m    168\u001b[0m         )\n\u001b[1;32m    169\u001b[0m     \u001b[0;32melse\u001b[0m\u001b[0;34m:\u001b[0m\u001b[0;34m\u001b[0m\u001b[0;34m\u001b[0m\u001b[0m\n\u001b[0;32m--> 170\u001b[0;31m         op = _MergeOperation(\n\u001b[0m\u001b[1;32m    171\u001b[0m             \u001b[0mleft_df\u001b[0m\u001b[0;34m,\u001b[0m\u001b[0;34m\u001b[0m\u001b[0;34m\u001b[0m\u001b[0m\n\u001b[1;32m    172\u001b[0m             \u001b[0mright_df\u001b[0m\u001b[0;34m,\u001b[0m\u001b[0;34m\u001b[0m\u001b[0;34m\u001b[0m\u001b[0m\n\u001b[1;32m    173\u001b[0m             \u001b[0mhow\u001b[0m\u001b[0;34m=\u001b[0m\u001b[0mhow\u001b[0m\u001b[0;34m,\u001b[0m\u001b[0;34m\u001b[0m\u001b[0;34m\u001b[0m\u001b[0m\n",
      "\u001b[0;32m~/miniconda3/envs/capstone/lib/python3.9/site-packages/pandas/core/reshape/merge.py\u001b[0m in \u001b[0;36m?\u001b[0;34m(self, left, right, how, on, left_on, right_on, left_index, right_index, sort, suffixes, indicator, validate)\u001b[0m\n\u001b[1;32m    790\u001b[0m             \u001b[0mself\u001b[0m\u001b[0;34m.\u001b[0m\u001b[0mright_join_keys\u001b[0m\u001b[0;34m,\u001b[0m\u001b[0;34m\u001b[0m\u001b[0;34m\u001b[0m\u001b[0m\n\u001b[1;32m    791\u001b[0m             \u001b[0mself\u001b[0m\u001b[0;34m.\u001b[0m\u001b[0mjoin_names\u001b[0m\u001b[0;34m,\u001b[0m\u001b[0;34m\u001b[0m\u001b[0;34m\u001b[0m\u001b[0m\n\u001b[1;32m    792\u001b[0m             \u001b[0mleft_drop\u001b[0m\u001b[0;34m,\u001b[0m\u001b[0;34m\u001b[0m\u001b[0;34m\u001b[0m\u001b[0m\n\u001b[1;32m    793\u001b[0m             \u001b[0mright_drop\u001b[0m\u001b[0;34m,\u001b[0m\u001b[0;34m\u001b[0m\u001b[0;34m\u001b[0m\u001b[0m\n\u001b[0;32m--> 794\u001b[0;31m         ) = self._get_merge_keys()\n\u001b[0m\u001b[1;32m    795\u001b[0m \u001b[0;34m\u001b[0m\u001b[0m\n\u001b[1;32m    796\u001b[0m         \u001b[0;32mif\u001b[0m \u001b[0mleft_drop\u001b[0m\u001b[0;34m:\u001b[0m\u001b[0;34m\u001b[0m\u001b[0;34m\u001b[0m\u001b[0m\n\u001b[1;32m    797\u001b[0m             \u001b[0mself\u001b[0m\u001b[0;34m.\u001b[0m\u001b[0mleft\u001b[0m \u001b[0;34m=\u001b[0m \u001b[0mself\u001b[0m\u001b[0;34m.\u001b[0m\u001b[0mleft\u001b[0m\u001b[0;34m.\u001b[0m\u001b[0m_drop_labels_or_levels\u001b[0m\u001b[0;34m(\u001b[0m\u001b[0mleft_drop\u001b[0m\u001b[0;34m)\u001b[0m\u001b[0;34m\u001b[0m\u001b[0;34m\u001b[0m\u001b[0m\n",
      "\u001b[0;32m~/miniconda3/envs/capstone/lib/python3.9/site-packages/pandas/core/reshape/merge.py\u001b[0m in \u001b[0;36m?\u001b[0;34m(self)\u001b[0m\n\u001b[1;32m   1293\u001b[0m                         \u001b[0;31m# Then we're either Hashable or a wrong-length arraylike,\u001b[0m\u001b[0;34m\u001b[0m\u001b[0;34m\u001b[0m\u001b[0m\n\u001b[1;32m   1294\u001b[0m                         \u001b[0;31m#  the latter of which will raise\u001b[0m\u001b[0;34m\u001b[0m\u001b[0;34m\u001b[0m\u001b[0m\n\u001b[1;32m   1295\u001b[0m                         \u001b[0mrk\u001b[0m \u001b[0;34m=\u001b[0m \u001b[0mcast\u001b[0m\u001b[0;34m(\u001b[0m\u001b[0mHashable\u001b[0m\u001b[0;34m,\u001b[0m \u001b[0mrk\u001b[0m\u001b[0;34m)\u001b[0m\u001b[0;34m\u001b[0m\u001b[0;34m\u001b[0m\u001b[0m\n\u001b[1;32m   1296\u001b[0m                         \u001b[0;32mif\u001b[0m \u001b[0mrk\u001b[0m \u001b[0;32mis\u001b[0m \u001b[0;32mnot\u001b[0m \u001b[0;32mNone\u001b[0m\u001b[0;34m:\u001b[0m\u001b[0;34m\u001b[0m\u001b[0;34m\u001b[0m\u001b[0m\n\u001b[0;32m-> 1297\u001b[0;31m                             \u001b[0mright_keys\u001b[0m\u001b[0;34m.\u001b[0m\u001b[0mappend\u001b[0m\u001b[0;34m(\u001b[0m\u001b[0mright\u001b[0m\u001b[0;34m.\u001b[0m\u001b[0m_get_label_or_level_values\u001b[0m\u001b[0;34m(\u001b[0m\u001b[0mrk\u001b[0m\u001b[0;34m)\u001b[0m\u001b[0;34m)\u001b[0m\u001b[0;34m\u001b[0m\u001b[0;34m\u001b[0m\u001b[0m\n\u001b[0m\u001b[1;32m   1298\u001b[0m                         \u001b[0;32melse\u001b[0m\u001b[0;34m:\u001b[0m\u001b[0;34m\u001b[0m\u001b[0;34m\u001b[0m\u001b[0m\n\u001b[1;32m   1299\u001b[0m                             \u001b[0;31m# work-around for merge_asof(right_index=True)\u001b[0m\u001b[0;34m\u001b[0m\u001b[0;34m\u001b[0m\u001b[0m\n\u001b[1;32m   1300\u001b[0m                             \u001b[0mright_keys\u001b[0m\u001b[0;34m.\u001b[0m\u001b[0mappend\u001b[0m\u001b[0;34m(\u001b[0m\u001b[0mright\u001b[0m\u001b[0;34m.\u001b[0m\u001b[0mindex\u001b[0m\u001b[0;34m.\u001b[0m\u001b[0m_values\u001b[0m\u001b[0;34m)\u001b[0m\u001b[0;34m\u001b[0m\u001b[0;34m\u001b[0m\u001b[0m\n",
      "\u001b[0;32m~/miniconda3/envs/capstone/lib/python3.9/site-packages/pandas/core/generic.py\u001b[0m in \u001b[0;36m?\u001b[0;34m(self, key, axis)\u001b[0m\n\u001b[1;32m   1907\u001b[0m             \u001b[0mvalues\u001b[0m \u001b[0;34m=\u001b[0m \u001b[0mself\u001b[0m\u001b[0;34m.\u001b[0m\u001b[0mxs\u001b[0m\u001b[0;34m(\u001b[0m\u001b[0mkey\u001b[0m\u001b[0;34m,\u001b[0m \u001b[0maxis\u001b[0m\u001b[0;34m=\u001b[0m\u001b[0mother_axes\u001b[0m\u001b[0;34m[\u001b[0m\u001b[0;36m0\u001b[0m\u001b[0;34m]\u001b[0m\u001b[0;34m)\u001b[0m\u001b[0;34m.\u001b[0m\u001b[0m_values\u001b[0m\u001b[0;34m\u001b[0m\u001b[0;34m\u001b[0m\u001b[0m\n\u001b[1;32m   1908\u001b[0m         \u001b[0;32melif\u001b[0m \u001b[0mself\u001b[0m\u001b[0;34m.\u001b[0m\u001b[0m_is_level_reference\u001b[0m\u001b[0;34m(\u001b[0m\u001b[0mkey\u001b[0m\u001b[0;34m,\u001b[0m \u001b[0maxis\u001b[0m\u001b[0;34m=\u001b[0m\u001b[0maxis\u001b[0m\u001b[0;34m)\u001b[0m\u001b[0;34m:\u001b[0m\u001b[0;34m\u001b[0m\u001b[0;34m\u001b[0m\u001b[0m\n\u001b[1;32m   1909\u001b[0m             \u001b[0mvalues\u001b[0m \u001b[0;34m=\u001b[0m \u001b[0mself\u001b[0m\u001b[0;34m.\u001b[0m\u001b[0maxes\u001b[0m\u001b[0;34m[\u001b[0m\u001b[0maxis\u001b[0m\u001b[0;34m]\u001b[0m\u001b[0;34m.\u001b[0m\u001b[0mget_level_values\u001b[0m\u001b[0;34m(\u001b[0m\u001b[0mkey\u001b[0m\u001b[0;34m)\u001b[0m\u001b[0;34m.\u001b[0m\u001b[0m_values\u001b[0m\u001b[0;34m\u001b[0m\u001b[0;34m\u001b[0m\u001b[0m\n\u001b[1;32m   1910\u001b[0m         \u001b[0;32melse\u001b[0m\u001b[0;34m:\u001b[0m\u001b[0;34m\u001b[0m\u001b[0;34m\u001b[0m\u001b[0m\n\u001b[0;32m-> 1911\u001b[0;31m             \u001b[0;32mraise\u001b[0m \u001b[0mKeyError\u001b[0m\u001b[0;34m(\u001b[0m\u001b[0mkey\u001b[0m\u001b[0;34m)\u001b[0m\u001b[0;34m\u001b[0m\u001b[0;34m\u001b[0m\u001b[0m\n\u001b[0m\u001b[1;32m   1912\u001b[0m \u001b[0;34m\u001b[0m\u001b[0m\n\u001b[1;32m   1913\u001b[0m         \u001b[0;31m# Check for duplicates\u001b[0m\u001b[0;34m\u001b[0m\u001b[0;34m\u001b[0m\u001b[0m\n\u001b[1;32m   1914\u001b[0m         \u001b[0;32mif\u001b[0m \u001b[0mvalues\u001b[0m\u001b[0;34m.\u001b[0m\u001b[0mndim\u001b[0m \u001b[0;34m>\u001b[0m \u001b[0;36m1\u001b[0m\u001b[0;34m:\u001b[0m\u001b[0;34m\u001b[0m\u001b[0;34m\u001b[0m\u001b[0m\n",
      "\u001b[0;31mKeyError\u001b[0m: 'player_name'"
     ]
    }
   ],
   "source": [
    "# 컬럼명 확인\n",
    "print(player_info.columns)\n",
    "\n",
    "# 만약 'season' 대신 'year'만 있다면, 이 라인은 생략하거나 아래처럼 처리\n",
    "if \"season\" in player_info.columns:\n",
    "    player_info[\"year\"] = player_info[\"season\"].astype(int)\n",
    "\n",
    "# 이어서 계속 진행\n",
    "season_stats[\"year\"] = season_stats[\"year\"].astype(int)\n",
    "season_stats = season_stats.rename(columns={\"name\": \"player_name\"})\n",
    "\n",
    "# 병합\n",
    "merged_df = pd.merge(season_stats, player_info, how=\"inner\", on=[\"player_name\", \"year\"])"
   ]
  },
  {
   "cell_type": "code",
   "execution_count": 206,
   "id": "3f2744ff-fffa-43f0-b8b1-c329cff4cacb",
   "metadata": {},
   "outputs": [
    {
     "name": "stdout",
     "output_type": "stream",
     "text": [
      "Index(['name', 'year', 'salary_next', 'fa', 'age', 'salary_next_won',\n",
      "       'log_salary_next'],\n",
      "      dtype='object')\n",
      "Index(['player_name', 'year', 'W', 'IP', 'strikeout', 'dead4ball', 'earnedrun',\n",
      "       'hitted', 'homerun', 'ERA', 'K9', 'BB9', 'WHIP', 'FIP'],\n",
      "      dtype='object')\n"
     ]
    }
   ],
   "source": [
    "print(player_info.columns)\n",
    "print(season_stats.columns)"
   ]
  },
  {
   "cell_type": "code",
   "execution_count": 207,
   "id": "e4b997ff-2c2c-42e0-a2fc-04b77d6898dc",
   "metadata": {},
   "outputs": [],
   "source": [
    "season_stats = season_stats.rename(columns={\"player_name\": \"name\"})"
   ]
  },
  {
   "cell_type": "code",
   "execution_count": 208,
   "id": "05f01bec-a19a-435e-a937-9dabab626201",
   "metadata": {},
   "outputs": [],
   "source": [
    "merged_df = pd.merge(season_stats, player_info, how=\"inner\", on=[\"name\", \"year\"])"
   ]
  },
  {
   "cell_type": "code",
   "execution_count": 227,
   "id": "6cc047cf-8af3-4e37-8fe9-007fa91c5fbe",
   "metadata": {},
   "outputs": [],
   "source": [
    "# 연도 더미 처리\n",
    "df = pd.get_dummies(merged_df, columns=[\"year\"], prefix=\"year\", drop_first=True)\n",
    "\n",
    "# 변수 선택\n",
    "features = [\"W\", \"WHIP\", \"FIP\", \"IP\", \"K9\", \"BB9\", \"fa\", \"age\"] + \\\n",
    "           [col for col in df.columns if col.startswith(\"year_\")]\n",
    "\n",
    "# X, y 구성\n",
    "X = sm.add_constant(df[features])\n",
    "y = df[\"log_salary_next\"]\n",
    "\n",
    "# 결측 제거\n",
    "valid_idx = X.notnull().all(axis=1) & y.notnull()\n",
    "X_valid = X[valid_idx].astype(float)\n",
    "y_valid = y[valid_idx].astype(float)"
   ]
  },
  {
   "cell_type": "code",
   "execution_count": 228,
   "id": "f376341e-b8a8-4001-89e1-9d0afac996e6",
   "metadata": {},
   "outputs": [
    {
     "name": "stdout",
     "output_type": "stream",
     "text": [
      "                            OLS Regression Results                            \n",
      "==============================================================================\n",
      "Dep. Variable:        log_salary_next   R-squared:                       0.839\n",
      "Model:                            OLS   Adj. R-squared:                  0.777\n",
      "Method:                 Least Squares   F-statistic:                     13.46\n",
      "Date:                Mon, 02 Jun 2025   Prob (F-statistic):           3.99e-09\n",
      "Time:                        02:54:17   Log-Likelihood:                -27.373\n",
      "No. Observations:                  44   AIC:                             80.75\n",
      "Df Residuals:                      31   BIC:                             103.9\n",
      "Df Model:                          12                                         \n",
      "Covariance Type:            nonrobust                                         \n",
      "==============================================================================\n",
      "                 coef    std err          t      P>|t|      [0.025      0.975]\n",
      "------------------------------------------------------------------------------\n",
      "const         17.8950      1.870      9.567      0.000      14.080      21.710\n",
      "W             -0.0177      0.021     -0.850      0.402      -0.060       0.025\n",
      "WHIP           1.0491      0.734      1.429      0.163      -0.448       2.546\n",
      "FIP           -0.6477      0.241     -2.691      0.011      -1.139      -0.157\n",
      "IP             0.0047      0.002      2.475      0.019       0.001       0.009\n",
      "K9            -0.0220      0.100     -0.221      0.826      -0.225       0.181\n",
      "BB9           -0.1605      0.127     -1.268      0.214      -0.419       0.098\n",
      "fa            -0.7082      0.601     -1.179      0.247      -1.933       0.517\n",
      "age            0.0789      0.024      3.273      0.003       0.030       0.128\n",
      "year_2020      0.2447      0.318      0.769      0.448      -0.404       0.894\n",
      "year_2021      0.2472      0.285      0.868      0.392      -0.334       0.828\n",
      "year_2022     -0.0148      0.324     -0.046      0.964      -0.676       0.647\n",
      "year_2023      0.3259      0.312      1.044      0.304      -0.310       0.962\n",
      "==============================================================================\n",
      "Omnibus:                        0.855   Durbin-Watson:                   1.860\n",
      "Prob(Omnibus):                  0.652   Jarque-Bera (JB):                0.444\n",
      "Skew:                          -0.243   Prob(JB):                        0.801\n",
      "Kurtosis:                       3.078   Cond. No.                     6.65e+03\n",
      "==============================================================================\n",
      "\n",
      "Notes:\n",
      "[1] Standard Errors assume that the covariance matrix of the errors is correctly specified.\n",
      "[2] The condition number is large, 6.65e+03. This might indicate that there are\n",
      "strong multicollinearity or other numerical problems.\n"
     ]
    }
   ],
   "source": [
    "import statsmodels.api as sm\n",
    "\n",
    "# OLS 회귀 실행\n",
    "model = sm.OLS(y_valid, X_valid).fit()\n",
    "\n",
    "# 결과 출력\n",
    "print(model.summary())"
   ]
  },
  {
   "cell_type": "code",
   "execution_count": 229,
   "id": "581f00df-00fd-4d48-8d2b-1c745ab5a91d",
   "metadata": {},
   "outputs": [
    {
     "name": "stdout",
     "output_type": "stream",
     "text": [
      "      feature         VIF\n",
      "1        WHIP  148.729248\n",
      "2         FIP   98.120019\n",
      "7         age   46.076461\n",
      "5         BB9   38.603404\n",
      "3          IP   36.611050\n",
      "4          K9   24.828857\n",
      "0           W   22.011925\n",
      "10  year_2022    3.180211\n",
      "9   year_2021    2.891235\n",
      "11  year_2023    2.614377\n",
      "8   year_2020    2.379302\n",
      "6          fa    1.206721\n"
     ]
    }
   ],
   "source": [
    "from statsmodels.stats.outliers_influence import variance_inflation_factor\n",
    "import pandas as pd\n",
    "\n",
    "# const(상수항) 제외하고 VIF 계산\n",
    "X_vif = X_valid.drop(columns=[\"const\"])\n",
    "\n",
    "vif_df = pd.DataFrame()\n",
    "vif_df[\"feature\"] = X_vif.columns\n",
    "vif_df[\"VIF\"] = [variance_inflation_factor(X_vif.values, i) for i in range(X_vif.shape[1])]\n",
    "\n",
    "# VIF 값 큰 순으로 출력\n",
    "print(vif_df.sort_values(by=\"VIF\", ascending=False))"
   ]
  },
  {
   "cell_type": "markdown",
   "id": "a971c247-7091-4143-a963-4d744afc45ad",
   "metadata": {},
   "source": [
    "# PCA"
   ]
  },
  {
   "cell_type": "code",
   "execution_count": 240,
   "id": "829cacd2-d123-440d-ad4c-338e2ad1e47b",
   "metadata": {},
   "outputs": [
    {
     "name": "stdout",
     "output_type": "stream",
     "text": [
      "R² score: 0.7821724150256271\n"
     ]
    }
   ],
   "source": [
    "from sklearn.decomposition import PCA\n",
    "from sklearn.preprocessing import StandardScaler\n",
    "from sklearn.linear_model import LinearRegression\n",
    "from sklearn.pipeline import make_pipeline\n",
    "\n",
    "# 1. 설명변수 추출\n",
    "features = [\"W\", \"ERA\", \"IP\", \"K9\", \"BB9\", \"WHIP\", \"FIP\", \"age\", \"fa\"]\n",
    "X = df[features].dropna()\n",
    "y = df.loc[X.index, \"log_salary_next\"]\n",
    "\n",
    "# 2. PCA + 회귀\n",
    "model = make_pipeline(StandardScaler(), PCA(n_components=5), LinearRegression())\n",
    "model.fit(X, y)\n",
    "print(\"R² score:\", model.score(X, y))"
   ]
  },
  {
   "cell_type": "code",
   "execution_count": 242,
   "id": "c9647744-393c-4844-88fd-0b4cda3c6a96",
   "metadata": {},
   "outputs": [
    {
     "data": {
      "text/html": [
       "<style>#sk-container-id-1 {\n",
       "  /* Definition of color scheme common for light and dark mode */\n",
       "  --sklearn-color-text: #000;\n",
       "  --sklearn-color-text-muted: #666;\n",
       "  --sklearn-color-line: gray;\n",
       "  /* Definition of color scheme for unfitted estimators */\n",
       "  --sklearn-color-unfitted-level-0: #fff5e6;\n",
       "  --sklearn-color-unfitted-level-1: #f6e4d2;\n",
       "  --sklearn-color-unfitted-level-2: #ffe0b3;\n",
       "  --sklearn-color-unfitted-level-3: chocolate;\n",
       "  /* Definition of color scheme for fitted estimators */\n",
       "  --sklearn-color-fitted-level-0: #f0f8ff;\n",
       "  --sklearn-color-fitted-level-1: #d4ebff;\n",
       "  --sklearn-color-fitted-level-2: #b3dbfd;\n",
       "  --sklearn-color-fitted-level-3: cornflowerblue;\n",
       "\n",
       "  /* Specific color for light theme */\n",
       "  --sklearn-color-text-on-default-background: var(--sg-text-color, var(--theme-code-foreground, var(--jp-content-font-color1, black)));\n",
       "  --sklearn-color-background: var(--sg-background-color, var(--theme-background, var(--jp-layout-color0, white)));\n",
       "  --sklearn-color-border-box: var(--sg-text-color, var(--theme-code-foreground, var(--jp-content-font-color1, black)));\n",
       "  --sklearn-color-icon: #696969;\n",
       "\n",
       "  @media (prefers-color-scheme: dark) {\n",
       "    /* Redefinition of color scheme for dark theme */\n",
       "    --sklearn-color-text-on-default-background: var(--sg-text-color, var(--theme-code-foreground, var(--jp-content-font-color1, white)));\n",
       "    --sklearn-color-background: var(--sg-background-color, var(--theme-background, var(--jp-layout-color0, #111)));\n",
       "    --sklearn-color-border-box: var(--sg-text-color, var(--theme-code-foreground, var(--jp-content-font-color1, white)));\n",
       "    --sklearn-color-icon: #878787;\n",
       "  }\n",
       "}\n",
       "\n",
       "#sk-container-id-1 {\n",
       "  color: var(--sklearn-color-text);\n",
       "}\n",
       "\n",
       "#sk-container-id-1 pre {\n",
       "  padding: 0;\n",
       "}\n",
       "\n",
       "#sk-container-id-1 input.sk-hidden--visually {\n",
       "  border: 0;\n",
       "  clip: rect(1px 1px 1px 1px);\n",
       "  clip: rect(1px, 1px, 1px, 1px);\n",
       "  height: 1px;\n",
       "  margin: -1px;\n",
       "  overflow: hidden;\n",
       "  padding: 0;\n",
       "  position: absolute;\n",
       "  width: 1px;\n",
       "}\n",
       "\n",
       "#sk-container-id-1 div.sk-dashed-wrapped {\n",
       "  border: 1px dashed var(--sklearn-color-line);\n",
       "  margin: 0 0.4em 0.5em 0.4em;\n",
       "  box-sizing: border-box;\n",
       "  padding-bottom: 0.4em;\n",
       "  background-color: var(--sklearn-color-background);\n",
       "}\n",
       "\n",
       "#sk-container-id-1 div.sk-container {\n",
       "  /* jupyter's `normalize.less` sets `[hidden] { display: none; }`\n",
       "     but bootstrap.min.css set `[hidden] { display: none !important; }`\n",
       "     so we also need the `!important` here to be able to override the\n",
       "     default hidden behavior on the sphinx rendered scikit-learn.org.\n",
       "     See: https://github.com/scikit-learn/scikit-learn/issues/21755 */\n",
       "  display: inline-block !important;\n",
       "  position: relative;\n",
       "}\n",
       "\n",
       "#sk-container-id-1 div.sk-text-repr-fallback {\n",
       "  display: none;\n",
       "}\n",
       "\n",
       "div.sk-parallel-item,\n",
       "div.sk-serial,\n",
       "div.sk-item {\n",
       "  /* draw centered vertical line to link estimators */\n",
       "  background-image: linear-gradient(var(--sklearn-color-text-on-default-background), var(--sklearn-color-text-on-default-background));\n",
       "  background-size: 2px 100%;\n",
       "  background-repeat: no-repeat;\n",
       "  background-position: center center;\n",
       "}\n",
       "\n",
       "/* Parallel-specific style estimator block */\n",
       "\n",
       "#sk-container-id-1 div.sk-parallel-item::after {\n",
       "  content: \"\";\n",
       "  width: 100%;\n",
       "  border-bottom: 2px solid var(--sklearn-color-text-on-default-background);\n",
       "  flex-grow: 1;\n",
       "}\n",
       "\n",
       "#sk-container-id-1 div.sk-parallel {\n",
       "  display: flex;\n",
       "  align-items: stretch;\n",
       "  justify-content: center;\n",
       "  background-color: var(--sklearn-color-background);\n",
       "  position: relative;\n",
       "}\n",
       "\n",
       "#sk-container-id-1 div.sk-parallel-item {\n",
       "  display: flex;\n",
       "  flex-direction: column;\n",
       "}\n",
       "\n",
       "#sk-container-id-1 div.sk-parallel-item:first-child::after {\n",
       "  align-self: flex-end;\n",
       "  width: 50%;\n",
       "}\n",
       "\n",
       "#sk-container-id-1 div.sk-parallel-item:last-child::after {\n",
       "  align-self: flex-start;\n",
       "  width: 50%;\n",
       "}\n",
       "\n",
       "#sk-container-id-1 div.sk-parallel-item:only-child::after {\n",
       "  width: 0;\n",
       "}\n",
       "\n",
       "/* Serial-specific style estimator block */\n",
       "\n",
       "#sk-container-id-1 div.sk-serial {\n",
       "  display: flex;\n",
       "  flex-direction: column;\n",
       "  align-items: center;\n",
       "  background-color: var(--sklearn-color-background);\n",
       "  padding-right: 1em;\n",
       "  padding-left: 1em;\n",
       "}\n",
       "\n",
       "\n",
       "/* Toggleable style: style used for estimator/Pipeline/ColumnTransformer box that is\n",
       "clickable and can be expanded/collapsed.\n",
       "- Pipeline and ColumnTransformer use this feature and define the default style\n",
       "- Estimators will overwrite some part of the style using the `sk-estimator` class\n",
       "*/\n",
       "\n",
       "/* Pipeline and ColumnTransformer style (default) */\n",
       "\n",
       "#sk-container-id-1 div.sk-toggleable {\n",
       "  /* Default theme specific background. It is overwritten whether we have a\n",
       "  specific estimator or a Pipeline/ColumnTransformer */\n",
       "  background-color: var(--sklearn-color-background);\n",
       "}\n",
       "\n",
       "/* Toggleable label */\n",
       "#sk-container-id-1 label.sk-toggleable__label {\n",
       "  cursor: pointer;\n",
       "  display: flex;\n",
       "  width: 100%;\n",
       "  margin-bottom: 0;\n",
       "  padding: 0.5em;\n",
       "  box-sizing: border-box;\n",
       "  text-align: center;\n",
       "  align-items: start;\n",
       "  justify-content: space-between;\n",
       "  gap: 0.5em;\n",
       "}\n",
       "\n",
       "#sk-container-id-1 label.sk-toggleable__label .caption {\n",
       "  font-size: 0.6rem;\n",
       "  font-weight: lighter;\n",
       "  color: var(--sklearn-color-text-muted);\n",
       "}\n",
       "\n",
       "#sk-container-id-1 label.sk-toggleable__label-arrow:before {\n",
       "  /* Arrow on the left of the label */\n",
       "  content: \"▸\";\n",
       "  float: left;\n",
       "  margin-right: 0.25em;\n",
       "  color: var(--sklearn-color-icon);\n",
       "}\n",
       "\n",
       "#sk-container-id-1 label.sk-toggleable__label-arrow:hover:before {\n",
       "  color: var(--sklearn-color-text);\n",
       "}\n",
       "\n",
       "/* Toggleable content - dropdown */\n",
       "\n",
       "#sk-container-id-1 div.sk-toggleable__content {\n",
       "  max-height: 0;\n",
       "  max-width: 0;\n",
       "  overflow: hidden;\n",
       "  text-align: left;\n",
       "  /* unfitted */\n",
       "  background-color: var(--sklearn-color-unfitted-level-0);\n",
       "}\n",
       "\n",
       "#sk-container-id-1 div.sk-toggleable__content.fitted {\n",
       "  /* fitted */\n",
       "  background-color: var(--sklearn-color-fitted-level-0);\n",
       "}\n",
       "\n",
       "#sk-container-id-1 div.sk-toggleable__content pre {\n",
       "  margin: 0.2em;\n",
       "  border-radius: 0.25em;\n",
       "  color: var(--sklearn-color-text);\n",
       "  /* unfitted */\n",
       "  background-color: var(--sklearn-color-unfitted-level-0);\n",
       "}\n",
       "\n",
       "#sk-container-id-1 div.sk-toggleable__content.fitted pre {\n",
       "  /* unfitted */\n",
       "  background-color: var(--sklearn-color-fitted-level-0);\n",
       "}\n",
       "\n",
       "#sk-container-id-1 input.sk-toggleable__control:checked~div.sk-toggleable__content {\n",
       "  /* Expand drop-down */\n",
       "  max-height: 200px;\n",
       "  max-width: 100%;\n",
       "  overflow: auto;\n",
       "}\n",
       "\n",
       "#sk-container-id-1 input.sk-toggleable__control:checked~label.sk-toggleable__label-arrow:before {\n",
       "  content: \"▾\";\n",
       "}\n",
       "\n",
       "/* Pipeline/ColumnTransformer-specific style */\n",
       "\n",
       "#sk-container-id-1 div.sk-label input.sk-toggleable__control:checked~label.sk-toggleable__label {\n",
       "  color: var(--sklearn-color-text);\n",
       "  background-color: var(--sklearn-color-unfitted-level-2);\n",
       "}\n",
       "\n",
       "#sk-container-id-1 div.sk-label.fitted input.sk-toggleable__control:checked~label.sk-toggleable__label {\n",
       "  background-color: var(--sklearn-color-fitted-level-2);\n",
       "}\n",
       "\n",
       "/* Estimator-specific style */\n",
       "\n",
       "/* Colorize estimator box */\n",
       "#sk-container-id-1 div.sk-estimator input.sk-toggleable__control:checked~label.sk-toggleable__label {\n",
       "  /* unfitted */\n",
       "  background-color: var(--sklearn-color-unfitted-level-2);\n",
       "}\n",
       "\n",
       "#sk-container-id-1 div.sk-estimator.fitted input.sk-toggleable__control:checked~label.sk-toggleable__label {\n",
       "  /* fitted */\n",
       "  background-color: var(--sklearn-color-fitted-level-2);\n",
       "}\n",
       "\n",
       "#sk-container-id-1 div.sk-label label.sk-toggleable__label,\n",
       "#sk-container-id-1 div.sk-label label {\n",
       "  /* The background is the default theme color */\n",
       "  color: var(--sklearn-color-text-on-default-background);\n",
       "}\n",
       "\n",
       "/* On hover, darken the color of the background */\n",
       "#sk-container-id-1 div.sk-label:hover label.sk-toggleable__label {\n",
       "  color: var(--sklearn-color-text);\n",
       "  background-color: var(--sklearn-color-unfitted-level-2);\n",
       "}\n",
       "\n",
       "/* Label box, darken color on hover, fitted */\n",
       "#sk-container-id-1 div.sk-label.fitted:hover label.sk-toggleable__label.fitted {\n",
       "  color: var(--sklearn-color-text);\n",
       "  background-color: var(--sklearn-color-fitted-level-2);\n",
       "}\n",
       "\n",
       "/* Estimator label */\n",
       "\n",
       "#sk-container-id-1 div.sk-label label {\n",
       "  font-family: monospace;\n",
       "  font-weight: bold;\n",
       "  display: inline-block;\n",
       "  line-height: 1.2em;\n",
       "}\n",
       "\n",
       "#sk-container-id-1 div.sk-label-container {\n",
       "  text-align: center;\n",
       "}\n",
       "\n",
       "/* Estimator-specific */\n",
       "#sk-container-id-1 div.sk-estimator {\n",
       "  font-family: monospace;\n",
       "  border: 1px dotted var(--sklearn-color-border-box);\n",
       "  border-radius: 0.25em;\n",
       "  box-sizing: border-box;\n",
       "  margin-bottom: 0.5em;\n",
       "  /* unfitted */\n",
       "  background-color: var(--sklearn-color-unfitted-level-0);\n",
       "}\n",
       "\n",
       "#sk-container-id-1 div.sk-estimator.fitted {\n",
       "  /* fitted */\n",
       "  background-color: var(--sklearn-color-fitted-level-0);\n",
       "}\n",
       "\n",
       "/* on hover */\n",
       "#sk-container-id-1 div.sk-estimator:hover {\n",
       "  /* unfitted */\n",
       "  background-color: var(--sklearn-color-unfitted-level-2);\n",
       "}\n",
       "\n",
       "#sk-container-id-1 div.sk-estimator.fitted:hover {\n",
       "  /* fitted */\n",
       "  background-color: var(--sklearn-color-fitted-level-2);\n",
       "}\n",
       "\n",
       "/* Specification for estimator info (e.g. \"i\" and \"?\") */\n",
       "\n",
       "/* Common style for \"i\" and \"?\" */\n",
       "\n",
       ".sk-estimator-doc-link,\n",
       "a:link.sk-estimator-doc-link,\n",
       "a:visited.sk-estimator-doc-link {\n",
       "  float: right;\n",
       "  font-size: smaller;\n",
       "  line-height: 1em;\n",
       "  font-family: monospace;\n",
       "  background-color: var(--sklearn-color-background);\n",
       "  border-radius: 1em;\n",
       "  height: 1em;\n",
       "  width: 1em;\n",
       "  text-decoration: none !important;\n",
       "  margin-left: 0.5em;\n",
       "  text-align: center;\n",
       "  /* unfitted */\n",
       "  border: var(--sklearn-color-unfitted-level-1) 1pt solid;\n",
       "  color: var(--sklearn-color-unfitted-level-1);\n",
       "}\n",
       "\n",
       ".sk-estimator-doc-link.fitted,\n",
       "a:link.sk-estimator-doc-link.fitted,\n",
       "a:visited.sk-estimator-doc-link.fitted {\n",
       "  /* fitted */\n",
       "  border: var(--sklearn-color-fitted-level-1) 1pt solid;\n",
       "  color: var(--sklearn-color-fitted-level-1);\n",
       "}\n",
       "\n",
       "/* On hover */\n",
       "div.sk-estimator:hover .sk-estimator-doc-link:hover,\n",
       ".sk-estimator-doc-link:hover,\n",
       "div.sk-label-container:hover .sk-estimator-doc-link:hover,\n",
       ".sk-estimator-doc-link:hover {\n",
       "  /* unfitted */\n",
       "  background-color: var(--sklearn-color-unfitted-level-3);\n",
       "  color: var(--sklearn-color-background);\n",
       "  text-decoration: none;\n",
       "}\n",
       "\n",
       "div.sk-estimator.fitted:hover .sk-estimator-doc-link.fitted:hover,\n",
       ".sk-estimator-doc-link.fitted:hover,\n",
       "div.sk-label-container:hover .sk-estimator-doc-link.fitted:hover,\n",
       ".sk-estimator-doc-link.fitted:hover {\n",
       "  /* fitted */\n",
       "  background-color: var(--sklearn-color-fitted-level-3);\n",
       "  color: var(--sklearn-color-background);\n",
       "  text-decoration: none;\n",
       "}\n",
       "\n",
       "/* Span, style for the box shown on hovering the info icon */\n",
       ".sk-estimator-doc-link span {\n",
       "  display: none;\n",
       "  z-index: 9999;\n",
       "  position: relative;\n",
       "  font-weight: normal;\n",
       "  right: .2ex;\n",
       "  padding: .5ex;\n",
       "  margin: .5ex;\n",
       "  width: min-content;\n",
       "  min-width: 20ex;\n",
       "  max-width: 50ex;\n",
       "  color: var(--sklearn-color-text);\n",
       "  box-shadow: 2pt 2pt 4pt #999;\n",
       "  /* unfitted */\n",
       "  background: var(--sklearn-color-unfitted-level-0);\n",
       "  border: .5pt solid var(--sklearn-color-unfitted-level-3);\n",
       "}\n",
       "\n",
       ".sk-estimator-doc-link.fitted span {\n",
       "  /* fitted */\n",
       "  background: var(--sklearn-color-fitted-level-0);\n",
       "  border: var(--sklearn-color-fitted-level-3);\n",
       "}\n",
       "\n",
       ".sk-estimator-doc-link:hover span {\n",
       "  display: block;\n",
       "}\n",
       "\n",
       "/* \"?\"-specific style due to the `<a>` HTML tag */\n",
       "\n",
       "#sk-container-id-1 a.estimator_doc_link {\n",
       "  float: right;\n",
       "  font-size: 1rem;\n",
       "  line-height: 1em;\n",
       "  font-family: monospace;\n",
       "  background-color: var(--sklearn-color-background);\n",
       "  border-radius: 1rem;\n",
       "  height: 1rem;\n",
       "  width: 1rem;\n",
       "  text-decoration: none;\n",
       "  /* unfitted */\n",
       "  color: var(--sklearn-color-unfitted-level-1);\n",
       "  border: var(--sklearn-color-unfitted-level-1) 1pt solid;\n",
       "}\n",
       "\n",
       "#sk-container-id-1 a.estimator_doc_link.fitted {\n",
       "  /* fitted */\n",
       "  border: var(--sklearn-color-fitted-level-1) 1pt solid;\n",
       "  color: var(--sklearn-color-fitted-level-1);\n",
       "}\n",
       "\n",
       "/* On hover */\n",
       "#sk-container-id-1 a.estimator_doc_link:hover {\n",
       "  /* unfitted */\n",
       "  background-color: var(--sklearn-color-unfitted-level-3);\n",
       "  color: var(--sklearn-color-background);\n",
       "  text-decoration: none;\n",
       "}\n",
       "\n",
       "#sk-container-id-1 a.estimator_doc_link.fitted:hover {\n",
       "  /* fitted */\n",
       "  background-color: var(--sklearn-color-fitted-level-3);\n",
       "}\n",
       "</style><div id=\"sk-container-id-1\" class=\"sk-top-container\"><div class=\"sk-text-repr-fallback\"><pre>Pipeline(steps=[(&#x27;standardscaler&#x27;, StandardScaler()),\n",
       "                (&#x27;pca&#x27;, PCA(n_components=5)),\n",
       "                (&#x27;linearregression&#x27;, LinearRegression())])</pre><b>In a Jupyter environment, please rerun this cell to show the HTML representation or trust the notebook. <br />On GitHub, the HTML representation is unable to render, please try loading this page with nbviewer.org.</b></div><div class=\"sk-container\" hidden><div class=\"sk-item sk-dashed-wrapped\"><div class=\"sk-label-container\"><div class=\"sk-label  sk-toggleable\"><input class=\"sk-toggleable__control sk-hidden--visually\" id=\"sk-estimator-id-1\" type=\"checkbox\" ><label for=\"sk-estimator-id-1\" class=\"sk-toggleable__label  sk-toggleable__label-arrow\"><div><div>Pipeline</div></div><div><a class=\"sk-estimator-doc-link \" rel=\"noreferrer\" target=\"_blank\" href=\"https://scikit-learn.org/1.6/modules/generated/sklearn.pipeline.Pipeline.html\">?<span>Documentation for Pipeline</span></a><span class=\"sk-estimator-doc-link \">i<span>Not fitted</span></span></div></label><div class=\"sk-toggleable__content \"><pre>Pipeline(steps=[(&#x27;standardscaler&#x27;, StandardScaler()),\n",
       "                (&#x27;pca&#x27;, PCA(n_components=5)),\n",
       "                (&#x27;linearregression&#x27;, LinearRegression())])</pre></div> </div></div><div class=\"sk-serial\"><div class=\"sk-item\"><div class=\"sk-estimator  sk-toggleable\"><input class=\"sk-toggleable__control sk-hidden--visually\" id=\"sk-estimator-id-2\" type=\"checkbox\" ><label for=\"sk-estimator-id-2\" class=\"sk-toggleable__label  sk-toggleable__label-arrow\"><div><div>StandardScaler</div></div><div><a class=\"sk-estimator-doc-link \" rel=\"noreferrer\" target=\"_blank\" href=\"https://scikit-learn.org/1.6/modules/generated/sklearn.preprocessing.StandardScaler.html\">?<span>Documentation for StandardScaler</span></a></div></label><div class=\"sk-toggleable__content \"><pre>StandardScaler()</pre></div> </div></div><div class=\"sk-item\"><div class=\"sk-estimator  sk-toggleable\"><input class=\"sk-toggleable__control sk-hidden--visually\" id=\"sk-estimator-id-3\" type=\"checkbox\" ><label for=\"sk-estimator-id-3\" class=\"sk-toggleable__label  sk-toggleable__label-arrow\"><div><div>PCA</div></div><div><a class=\"sk-estimator-doc-link \" rel=\"noreferrer\" target=\"_blank\" href=\"https://scikit-learn.org/1.6/modules/generated/sklearn.decomposition.PCA.html\">?<span>Documentation for PCA</span></a></div></label><div class=\"sk-toggleable__content \"><pre>PCA(n_components=5)</pre></div> </div></div><div class=\"sk-item\"><div class=\"sk-estimator  sk-toggleable\"><input class=\"sk-toggleable__control sk-hidden--visually\" id=\"sk-estimator-id-4\" type=\"checkbox\" ><label for=\"sk-estimator-id-4\" class=\"sk-toggleable__label  sk-toggleable__label-arrow\"><div><div>LinearRegression</div></div><div><a class=\"sk-estimator-doc-link \" rel=\"noreferrer\" target=\"_blank\" href=\"https://scikit-learn.org/1.6/modules/generated/sklearn.linear_model.LinearRegression.html\">?<span>Documentation for LinearRegression</span></a></div></label><div class=\"sk-toggleable__content \"><pre>LinearRegression()</pre></div> </div></div></div></div></div></div>"
      ],
      "text/plain": [
       "Pipeline(steps=[('standardscaler', StandardScaler()),\n",
       "                ('pca', PCA(n_components=5)),\n",
       "                ('linearregression', LinearRegression())])"
      ]
     },
     "execution_count": 242,
     "metadata": {},
     "output_type": "execute_result"
    }
   ],
   "source": [
    "make_pipeline(\n",
    "    StandardScaler(),      # 모든 변수 표준화\n",
    "    PCA(n_components=5),   # 상위 5개의 주성분으로 축소\n",
    "    LinearRegression()     # OLS 회귀\n",
    ")"
   ]
  },
  {
   "cell_type": "code",
   "execution_count": 243,
   "id": "a523f3c6-17f4-417c-9be2-8aaac7890607",
   "metadata": {},
   "outputs": [],
   "source": [
    "for n in range(2, 10):\n",
    "    ...\n",
    "    PCA(n_components=n)"
   ]
  },
  {
   "cell_type": "code",
   "execution_count": 244,
   "id": "85e61bcb-0714-47b2-a382-5296fde23c0b",
   "metadata": {},
   "outputs": [
    {
     "data": {
      "text/plain": [
       "array([-0.39200004, -0.35309795, -0.12541646,  0.03424821,  0.2546234 ])"
      ]
     },
     "execution_count": 244,
     "metadata": {},
     "output_type": "execute_result"
    }
   ],
   "source": [
    "model.named_steps[\"linearregression\"].coef_"
   ]
  },
  {
   "cell_type": "code",
   "execution_count": 246,
   "id": "70f1733a-13de-407c-b30c-d252bce6b0f0",
   "metadata": {},
   "outputs": [
    {
     "name": "stdout",
     "output_type": "stream",
     "text": [
      "           PC1       PC2       PC3       PC4       PC5\n",
      "W    -0.382193 -0.089841 -0.251968  0.556144  0.050252\n",
      "ERA   0.413775 -0.193138 -0.031337  0.230400  0.096226\n",
      "IP   -0.387562 -0.151592 -0.209278  0.469642 -0.164497\n",
      "K9   -0.189344  0.636136 -0.035316  0.017048  0.463725\n",
      "BB9   0.343645  0.368726 -0.096368  0.285176  0.383115\n",
      "WHIP  0.404693 -0.171017 -0.163784  0.373732  0.191565\n",
      "FIP   0.423161 -0.136978 -0.047521  0.073235 -0.167023\n",
      "age  -0.181635 -0.584980  0.018339 -0.229321  0.729664\n",
      "fa   -0.052324 -0.028395  0.922919  0.371232  0.048330\n"
     ]
    }
   ],
   "source": [
    "features = [\"W\", \"ERA\", \"IP\", \"K9\", \"BB9\", \"WHIP\", \"FIP\", \"age\", \"fa\"]  # 총 9개여야 함\n",
    "X = df[features].dropna()\n",
    "y = df.loc[X.index, \"log_salary_next\"]\n",
    "\n",
    "# PCA 로딩값\n",
    "pca = model.named_steps[\"pca\"]\n",
    "loadings = pd.DataFrame(pca.components_.T,\n",
    "                        index=features,\n",
    "                        columns=[f\"PC{i+1}\" for i in range(pca.n_components_)])\n",
    "print(loadings)"
   ]
  },
  {
   "cell_type": "code",
   "execution_count": 247,
   "id": "ecc56a90-fca2-46e9-aee3-c654ae2d2fff",
   "metadata": {},
   "outputs": [],
   "source": [
    "loadings = pd.DataFrame(pca.components_.T,\n",
    "                        index=features,\n",
    "                        columns=[f\"PC{i+1}\" for i in range(pca.n_components_)])"
   ]
  },
  {
   "cell_type": "code",
   "execution_count": 248,
   "id": "47c6bd90-06f5-464c-8e60-b0c5317386a6",
   "metadata": {},
   "outputs": [
    {
     "name": "stdout",
     "output_type": "stream",
     "text": [
      "                            OLS Regression Results                            \n",
      "==============================================================================\n",
      "Dep. Variable:        log_salary_next   R-squared:                       0.775\n",
      "Model:                            OLS   Adj. R-squared:                  0.745\n",
      "Method:                 Least Squares   F-statistic:                     26.12\n",
      "Date:                Mon, 02 Jun 2025   Prob (F-statistic):           2.42e-11\n",
      "Time:                        03:21:33   Log-Likelihood:                -34.769\n",
      "No. Observations:                  44   AIC:                             81.54\n",
      "Df Residuals:                      38   BIC:                             92.24\n",
      "Df Model:                           5                                         \n",
      "Covariance Type:            nonrobust                                         \n",
      "==============================================================================\n",
      "                 coef    std err          t      P>|t|      [0.025      0.975]\n",
      "------------------------------------------------------------------------------\n",
      "const         15.9662      0.920     17.349      0.000      14.103      17.829\n",
      "W              0.0055      0.020      0.279      0.782      -0.035       0.046\n",
      "IP             0.0049      0.002      2.652      0.012       0.001       0.009\n",
      "BB9           -0.1470      0.087     -1.695      0.098      -0.323       0.029\n",
      "age            0.0909      0.023      4.020      0.000       0.045       0.137\n",
      "fa            -0.3122      0.591     -0.529      0.600      -1.508       0.883\n",
      "==============================================================================\n",
      "Omnibus:                        1.486   Durbin-Watson:                   1.779\n",
      "Prob(Omnibus):                  0.476   Jarque-Bera (JB):                0.665\n",
      "Skew:                           0.191   Prob(JB):                        0.717\n",
      "Kurtosis:                       3.465   Cond. No.                     3.01e+03\n",
      "==============================================================================\n",
      "\n",
      "Notes:\n",
      "[1] Standard Errors assume that the covariance matrix of the errors is correctly specified.\n",
      "[2] The condition number is large, 3.01e+03. This might indicate that there are\n",
      "strong multicollinearity or other numerical problems.\n"
     ]
    }
   ],
   "source": [
    "# 선택된 변수 기반 다중회귀\n",
    "features = [\"W\", \"IP\", \"BB9\", \"age\", \"fa\"]  # 예시: 중복되는 FIP/ERA 제거 등\n",
    "X_sel = sm.add_constant(df[features].dropna())\n",
    "y_sel = df.loc[X_sel.index, \"log_salary_next\"]\n",
    "\n",
    "model = sm.OLS(y_sel, X_sel).fit()\n",
    "print(model.summary())"
   ]
  },
  {
   "cell_type": "code",
   "execution_count": 249,
   "id": "3297d91d-2881-4b60-bff0-4a2622586593",
   "metadata": {},
   "outputs": [
    {
     "name": "stdout",
     "output_type": "stream",
     "text": [
      "R² (with PCA): 0.7821724150256271\n"
     ]
    }
   ],
   "source": [
    "from sklearn.pipeline import make_pipeline\n",
    "from sklearn.linear_model import LinearRegression\n",
    "from sklearn.decomposition import PCA\n",
    "from sklearn.preprocessing import StandardScaler\n",
    "\n",
    "# 설명변수와 타깃\n",
    "features = [\"W\", \"ERA\", \"IP\", \"K9\", \"BB9\", \"WHIP\", \"FIP\", \"age\", \"fa\"]\n",
    "X = df[features].dropna()\n",
    "y = df.loc[X.index, \"log_salary_next\"]\n",
    "\n",
    "# PCA 기반 회귀 모델\n",
    "model = make_pipeline(StandardScaler(), PCA(n_components=5), LinearRegression())\n",
    "model.fit(X, y)\n",
    "\n",
    "# 평가\n",
    "r2 = model.score(X, y)\n",
    "print(\"R² (with PCA):\", r2)"
   ]
  },
  {
   "cell_type": "code",
   "execution_count": 234,
   "id": "e75ddf7d-e178-46ef-943c-c1f34ec829cc",
   "metadata": {},
   "outputs": [
    {
     "name": "stdout",
     "output_type": "stream",
     "text": [
      "                            OLS Regression Results                            \n",
      "==============================================================================\n",
      "Dep. Variable:        log_salary_next   R-squared:                       0.704\n",
      "Model:                            OLS   Adj. R-squared:                  0.636\n",
      "Method:                 Least Squares   F-statistic:                     10.40\n",
      "Date:                Mon, 02 Jun 2025   Prob (F-statistic):           2.60e-07\n",
      "Time:                        02:56:23   Log-Likelihood:                -40.779\n",
      "No. Observations:                  44   AIC:                             99.56\n",
      "Df Residuals:                      35   BIC:                             115.6\n",
      "Df Model:                           8                                         \n",
      "Covariance Type:            nonrobust                                         \n",
      "==============================================================================\n",
      "                 coef    std err          t      P>|t|      [0.025      0.975]\n",
      "------------------------------------------------------------------------------\n",
      "const         14.5457      0.927     15.686      0.000      12.663      16.428\n",
      "W              0.0572      0.014      4.046      0.000       0.028       0.086\n",
      "K9             0.0388      0.071      0.547      0.588      -0.105       0.183\n",
      "fa            -0.4279      0.738     -0.580      0.566      -1.925       1.069\n",
      "age            0.1240      0.027      4.566      0.000       0.069       0.179\n",
      "year_2020      0.0681      0.363      0.188      0.852      -0.668       0.804\n",
      "year_2021      0.0067      0.336      0.020      0.984      -0.675       0.689\n",
      "year_2022      0.2205      0.351      0.628      0.534      -0.492       0.933\n",
      "year_2023      0.4542      0.374      1.214      0.233      -0.305       1.214\n",
      "==============================================================================\n",
      "Omnibus:                        4.358   Durbin-Watson:                   1.605\n",
      "Prob(Omnibus):                  0.113   Jarque-Bera (JB):                3.139\n",
      "Skew:                          -0.521   Prob(JB):                        0.208\n",
      "Kurtosis:                       3.791   Cond. No.                         291.\n",
      "==============================================================================\n",
      "\n",
      "Notes:\n",
      "[1] Standard Errors assume that the covariance matrix of the errors is correctly specified.\n"
     ]
    }
   ],
   "source": [
    "import statsmodels.api as sm\n",
    "\n",
    "# 설명 변수 설정 (원하는 회귀식 구성)\n",
    "features = [\"W\", \"K9\", \"fa\", \"age\", \"year_2020\", \"year_2021\", \"year_2022\", \"year_2023\"]\n",
    "\n",
    "# 회귀용 데이터 구성\n",
    "X = sm.add_constant(df[features])\n",
    "y = df[\"log_salary_next\"]\n",
    "\n",
    "# 결측값 제거\n",
    "valid_idx = X.notnull().all(axis=1) & y.notnull()\n",
    "X_valid = X[valid_idx].astype(float)\n",
    "y_valid = y[valid_idx].astype(float)\n",
    "\n",
    "# 회귀 실행\n",
    "model = sm.OLS(y_valid, X_valid).fit()\n",
    "print(model.summary())"
   ]
  },
  {
   "cell_type": "code",
   "execution_count": 235,
   "id": "62c173a1-f620-4c2c-bd66-5fbb3b1ef0ee",
   "metadata": {},
   "outputs": [
    {
     "name": "stdout",
     "output_type": "stream",
     "text": [
      "     feature        VIF\n",
      "3        age  12.532777\n",
      "1         K9  11.545449\n",
      "0          W   5.585406\n",
      "5  year_2021   2.622817\n",
      "6  year_2022   2.617467\n",
      "7  year_2023   2.381023\n",
      "4  year_2020   2.233753\n",
      "2         fa   1.155084\n"
     ]
    }
   ],
   "source": [
    "from statsmodels.stats.outliers_influence import variance_inflation_factor\n",
    "\n",
    "vif_df = pd.DataFrame()\n",
    "vif_df[\"feature\"] = X_valid.drop(columns=[\"const\"]).columns\n",
    "vif_df[\"VIF\"] = [variance_inflation_factor(X_valid.drop(columns=[\"const\"]).values, i)\n",
    "                 for i in range(X_valid.shape[1] - 1)]\n",
    "\n",
    "print(vif_df.sort_values(by=\"VIF\", ascending=False))"
   ]
  },
  {
   "cell_type": "code",
   "execution_count": 238,
   "id": "a66787e9-f6d2-427e-981b-df5b659b4c94",
   "metadata": {},
   "outputs": [
    {
     "name": "stdout",
     "output_type": "stream",
     "text": [
      "                            OLS Regression Results                            \n",
      "==============================================================================\n",
      "Dep. Variable:        log_salary_next   R-squared:                       0.527\n",
      "Model:                            OLS   Adj. R-squared:                  0.436\n",
      "Method:                 Least Squares   F-statistic:                     5.740\n",
      "Date:                Mon, 02 Jun 2025   Prob (F-statistic):           0.000164\n",
      "Time:                        02:56:41   Log-Likelihood:                -51.059\n",
      "No. Observations:                  44   AIC:                             118.1\n",
      "Df Residuals:                      36   BIC:                             132.4\n",
      "Df Model:                           7                                         \n",
      "Covariance Type:            nonrobust                                         \n",
      "==============================================================================\n",
      "                 coef    std err          t      P>|t|      [0.025      0.975]\n",
      "------------------------------------------------------------------------------\n",
      "const         18.1951      0.586     31.066      0.000      17.007      19.383\n",
      "W              0.0878      0.015      5.667      0.000       0.056       0.119\n",
      "K9            -0.1082      0.079     -1.375      0.178      -0.268       0.051\n",
      "fa            -0.1963      0.916     -0.214      0.832      -2.055       1.662\n",
      "year_2020      0.2701      0.448      0.602      0.551      -0.639       1.179\n",
      "year_2021      0.1512      0.417      0.363      0.719      -0.694       0.996\n",
      "year_2022      0.3261      0.436      0.748      0.459      -0.558       1.211\n",
      "year_2023      0.6375      0.463      1.376      0.177      -0.302       1.577\n",
      "==============================================================================\n",
      "Omnibus:                        1.148   Durbin-Watson:                   1.757\n",
      "Prob(Omnibus):                  0.563   Jarque-Bera (JB):                1.058\n",
      "Skew:                           0.204   Prob(JB):                        0.589\n",
      "Kurtosis:                       2.359   Cond. No.                         140.\n",
      "==============================================================================\n",
      "\n",
      "Notes:\n",
      "[1] Standard Errors assume that the covariance matrix of the errors is correctly specified.\n"
     ]
    }
   ],
   "source": [
    "# age 제외한 변수 목록\n",
    "features_reduced = [\"W\", \"K9\", \"fa\", \"year_2020\", \"year_2021\", \"year_2022\", \"year_2023\"]\n",
    "\n",
    "X_r = sm.add_constant(df[features_reduced])\n",
    "y_r = df[\"log_salary_next\"]\n",
    "\n",
    "valid_idx_r = X_r.notnull().all(axis=1) & y_r.notnull()\n",
    "X_valid_r = X_r[valid_idx_r].astype(float)\n",
    "y_valid_r = y_r[valid_idx_r].astype(float)\n",
    "\n",
    "model_reduced = sm.OLS(y_valid_r, X_valid_r).fit()\n",
    "print(model_reduced.summary())"
   ]
  },
  {
   "cell_type": "code",
   "execution_count": 239,
   "id": "d1aad26c-0dad-4783-af1e-ec8814bccb62",
   "metadata": {},
   "outputs": [
    {
     "name": "stdout",
     "output_type": "stream",
     "text": [
      "     feature        VIF\n",
      "3        age  12.532777\n",
      "1         K9  11.545449\n",
      "0          W   5.585406\n",
      "5  year_2021   2.622817\n",
      "6  year_2022   2.617467\n",
      "7  year_2023   2.381023\n",
      "4  year_2020   2.233753\n",
      "2         fa   1.155084\n"
     ]
    }
   ],
   "source": [
    "from statsmodels.stats.outliers_influence import variance_inflation_factor\n",
    "\n",
    "vif_df = pd.DataFrame()\n",
    "vif_df[\"feature\"] = X_valid.drop(columns=[\"const\"]).columns\n",
    "vif_df[\"VIF\"] = [variance_inflation_factor(X_valid.drop(columns=[\"const\"]).values, i)\n",
    "                 for i in range(X_valid.shape[1] - 1)]\n",
    "\n",
    "print(vif_df.sort_values(by=\"VIF\", ascending=False))"
   ]
  },
  {
   "cell_type": "code",
   "execution_count": null,
   "id": "310c59fa-c06c-438c-b659-9bb2b712bd06",
   "metadata": {},
   "outputs": [
    {
     "name": "stdout",
     "output_type": "stream",
     "text": [
      "[재시도] 처리 중: 2011년...\n"
     ]
    },
    {
     "name": "stderr",
     "output_type": "stream",
     "text": [
      "in progress: 100%|████████████████████████████████████████████████████████████████████████████████| 12/12 [00:10<00:00,  1.14it/s]\n",
      "in progress:  10%|███████▉                                                                       | 68/680 [01:11<11:50,  1.16s/it]"
     ]
    }
   ],
   "source": [
    "import kbodata\n",
    "import os\n",
    "\n",
    "chromedriver_path = \"/Users/unusual/Downloads/chromedriver-mac-arm64/chromedriver\"\n",
    "save_dir = \"kbodata_output\"\n",
    "os.makedirs(save_dir, exist_ok=True)\n",
    "\n",
    "# 2004~2018, 2024년 포함\n",
    "retry_years = [2011, 2024]\n",
    "\n",
    "for year in retry_years:\n",
    "    try:\n",
    "        print(f\"[재시도] 처리 중: {year}년...\")\n",
    "        sched = kbodata.get_yearly_schedule(year, chromedriver_path)\n",
    "        game_data = kbodata.get_game_data(sched, chromedriver_path)\n",
    "\n",
    "        pitcher_df = kbodata.pitcher_to_DataFrame(game_data)\n",
    "        scoreboard_df = kbodata.scoreboard_to_DataFrame(game_data)\n",
    "\n",
    "        pitcher_df[\"year\"] = year\n",
    "        scoreboard_df[\"year\"] = year\n",
    "\n",
    "        # CSV 저장\n",
    "        pitcher_df.to_csv(f\"{save_dir}/pitchers_{year}.csv\", index=False)\n",
    "        scoreboard_df.to_csv(f\"{save_dir}/scoreboards_{year}.csv\", index=False)\n",
    "\n",
    "        all_pitchers.append(pitcher_df)\n",
    "        all_scoreboards.append(scoreboard_df)\n",
    "\n",
    "        print(f\"[성공] {year}년 저장 완료\")\n",
    "\n",
    "    except Exception as e:\n",
    "        print(f\"[ERROR] {year}년 재시도 실패: {e}\")"
   ]
  },
  {
   "cell_type": "code",
   "execution_count": null,
   "id": "90eae573-0c0d-406b-9720-7ebaaf0e1348",
   "metadata": {},
   "outputs": [],
   "source": []
  }
 ],
 "metadata": {
  "kernelspec": {
   "display_name": "Python 3 (ipykernel)",
   "language": "python",
   "name": "python3"
  },
  "language_info": {
   "codemirror_mode": {
    "name": "ipython",
    "version": 3
   },
   "file_extension": ".py",
   "mimetype": "text/x-python",
   "name": "python",
   "nbconvert_exporter": "python",
   "pygments_lexer": "ipython3",
   "version": "3.9.21"
  }
 },
 "nbformat": 4,
 "nbformat_minor": 5
}
