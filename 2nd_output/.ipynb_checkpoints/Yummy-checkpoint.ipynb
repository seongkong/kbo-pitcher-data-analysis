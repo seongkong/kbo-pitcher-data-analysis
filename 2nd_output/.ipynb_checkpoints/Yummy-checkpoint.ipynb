{
 "cells": [
  {
   "cell_type": "code",
   "execution_count": 1,
   "id": "806864d9-c03e-4c04-b58c-152b0a69bd69",
   "metadata": {},
   "outputs": [],
   "source": [
    "import pandas as pd\n",
    "import numpy as np\n",
    "import glob\n",
    "\n",
    "# 1. 파일 불러오기\n",
    "pitcher_files = sorted(glob.glob(\"../kbodata_output/pitchers_20*.csv\"))\n",
    "scoreboard_files = sorted(glob.glob(\"../kbodata_output/scoreboards_20*.csv\"))\n",
    "\n",
    "pitchers = pd.concat([pd.read_csv(f) for f in pitcher_files], ignore_index=True)\n",
    "scoreboards = pd.concat([pd.read_csv(f) for f in scoreboard_files], ignore_index=True)\n",
    "\n",
    "# 2. 연도 정보 붙이기 (예: pitchers_2023.csv → 2023)\n",
    "def extract_year_from_filename(path):\n",
    "    return int(path.split(\"_\")[-1].split(\".\")[0])\n",
    "\n",
    "for f in pitcher_files:\n",
    "    year = extract_year_from_filename(f)\n",
    "    df = pd.read_csv(f)\n",
    "    df[\"year\"] = year\n",
    "    pitchers = pd.concat([pitchers, df], ignore_index=True)\n",
    "\n",
    "for f in scoreboard_files:\n",
    "    year = extract_year_from_filename(f)\n",
    "    df = pd.read_csv(f)\n",
    "    df[\"year\"] = year\n",
    "    scoreboards = pd.concat([scoreboards, df], ignore_index=True)"
   ]
  },
  {
   "cell_type": "code",
   "execution_count": 2,
   "id": "ea95fe64-55c8-4995-a2d9-44f79b7856b2",
   "metadata": {},
   "outputs": [
    {
     "name": "stderr",
     "output_type": "stream",
     "text": [
      "/var/folders/48/s46fmd9166lflhx4v40_hps80000gn/T/ipykernel_10989/220778849.py:53: SettingWithCopyWarning: \n",
      "A value is trying to be set on a copy of a slice from a DataFrame.\n",
      "Try using .loc[row_indexer,col_indexer] = value instead\n",
      "\n",
      "See the caveats in the documentation: https://pandas.pydata.org/pandas-docs/stable/user_guide/indexing.html#returning-a-view-versus-a-copy\n",
      "  pitcher_df[\"RS\"] = rs_list\n"
     ]
    },
    {
     "data": {
      "text/html": [
       "<div>\n",
       "<style scoped>\n",
       "    .dataframe tbody tr th:only-of-type {\n",
       "        vertical-align: middle;\n",
       "    }\n",
       "\n",
       "    .dataframe tbody tr th {\n",
       "        vertical-align: top;\n",
       "    }\n",
       "\n",
       "    .dataframe thead th {\n",
       "        text-align: right;\n",
       "    }\n",
       "</style>\n",
       "<table border=\"1\" class=\"dataframe\">\n",
       "  <thead>\n",
       "    <tr style=\"text-align: right;\">\n",
       "      <th></th>\n",
       "      <th>name</th>\n",
       "      <th>year</th>\n",
       "      <th>IP</th>\n",
       "      <th>RS</th>\n",
       "      <th>W</th>\n",
       "      <th>ERA</th>\n",
       "      <th>WHIP</th>\n",
       "      <th>FIP</th>\n",
       "      <th>K9</th>\n",
       "      <th>BB9</th>\n",
       "    </tr>\n",
       "  </thead>\n",
       "  <tbody>\n",
       "    <tr>\n",
       "      <th>0</th>\n",
       "      <td>0</td>\n",
       "      <td>2012</td>\n",
       "      <td>12.000000</td>\n",
       "      <td>14</td>\n",
       "      <td>2</td>\n",
       "      <td>1.500000</td>\n",
       "      <td>0.666667</td>\n",
       "      <td>5.200000</td>\n",
       "      <td>3.000000</td>\n",
       "      <td>1.500000</td>\n",
       "    </tr>\n",
       "    <tr>\n",
       "      <th>1</th>\n",
       "      <td>가뇽</td>\n",
       "      <td>2020</td>\n",
       "      <td>319.333333</td>\n",
       "      <td>160</td>\n",
       "      <td>22</td>\n",
       "      <td>4.340292</td>\n",
       "      <td>1.471816</td>\n",
       "      <td>3.375365</td>\n",
       "      <td>7.947808</td>\n",
       "      <td>4.114823</td>\n",
       "    </tr>\n",
       "    <tr>\n",
       "      <th>2</th>\n",
       "      <td>가득염</td>\n",
       "      <td>2008</td>\n",
       "      <td>65.333333</td>\n",
       "      <td>56</td>\n",
       "      <td>8</td>\n",
       "      <td>3.857143</td>\n",
       "      <td>1.224490</td>\n",
       "      <td>3.842857</td>\n",
       "      <td>6.612245</td>\n",
       "      <td>2.755102</td>\n",
       "    </tr>\n",
       "    <tr>\n",
       "      <th>3</th>\n",
       "      <td>가득염</td>\n",
       "      <td>2009</td>\n",
       "      <td>16.000000</td>\n",
       "      <td>20</td>\n",
       "      <td>0</td>\n",
       "      <td>4.500000</td>\n",
       "      <td>1.250000</td>\n",
       "      <td>5.575000</td>\n",
       "      <td>3.375000</td>\n",
       "      <td>4.500000</td>\n",
       "    </tr>\n",
       "    <tr>\n",
       "      <th>4</th>\n",
       "      <td>가득염</td>\n",
       "      <td>2010</td>\n",
       "      <td>41.333333</td>\n",
       "      <td>24</td>\n",
       "      <td>0</td>\n",
       "      <td>4.354839</td>\n",
       "      <td>1.258065</td>\n",
       "      <td>4.216129</td>\n",
       "      <td>6.967742</td>\n",
       "      <td>3.919355</td>\n",
       "    </tr>\n",
       "  </tbody>\n",
       "</table>\n",
       "</div>"
      ],
      "text/plain": [
       "  name  year          IP   RS   W       ERA      WHIP       FIP        K9  \\\n",
       "0    0  2012   12.000000   14   2  1.500000  0.666667  5.200000  3.000000   \n",
       "1   가뇽  2020  319.333333  160  22  4.340292  1.471816  3.375365  7.947808   \n",
       "2  가득염  2008   65.333333   56   8  3.857143  1.224490  3.842857  6.612245   \n",
       "3  가득염  2009   16.000000   20   0  4.500000  1.250000  5.575000  3.375000   \n",
       "4  가득염  2010   41.333333   24   0  4.354839  1.258065  4.216129  6.967742   \n",
       "\n",
       "        BB9  \n",
       "0  1.500000  \n",
       "1  4.114823  \n",
       "2  2.755102  \n",
       "3  4.500000  \n",
       "4  3.919355  "
      ]
     },
     "metadata": {},
     "output_type": "display_data"
    }
   ],
   "source": [
    "import pandas as pd\n",
    "\n",
    "# 1. 전처리: 이닝 문자열을 float으로 변환하는 함수\n",
    "def convert_inning_str_to_float(s):\n",
    "    try:\n",
    "        s = str(s).zfill(2)\n",
    "        full = int(s[:-1])\n",
    "        partial = int(s[-1])\n",
    "        return full + {0: 0.0, 1: 1/3, 2: 2/3}.get(partial, 0)\n",
    "    except:\n",
    "        return 0\n",
    "\n",
    "# 2. IP 컬럼 생성\n",
    "pitchers[\"IP\"] = pitchers[\"inning\"].apply(convert_inning_str_to_float)\n",
    "\n",
    "# 3. RS 계산용 함수\n",
    "def get_inning_range(ip_float):\n",
    "    full = int(ip_float)\n",
    "    partial = ip_float - full\n",
    "    innings = list(range(1, full + 1))\n",
    "    if partial >= 1/3:\n",
    "        innings.append(full + 1)\n",
    "    return innings\n",
    "\n",
    "def calculate_rs(pitcher_df, scoreboard_df):\n",
    "    rs_list = []\n",
    "    for _, row in pitcher_df.iterrows():\n",
    "        idx = row[\"idx\"]\n",
    "        team = row[\"team\"]\n",
    "        ip = row[\"IP\"]\n",
    "\n",
    "        innings = get_inning_range(ip)\n",
    "        sb_row = scoreboard_df[scoreboard_df[\"idx\"] == idx]\n",
    "        if sb_row.empty:\n",
    "            rs_list.append(None)\n",
    "            continue\n",
    "\n",
    "        sb = sb_row.iloc[0]\n",
    "        team_name = team.strip()\n",
    "        home = sb[\"home\"].strip()\n",
    "        away = sb[\"away\"].strip()\n",
    "\n",
    "        # 홈/원정 여부는 고려하지 않고 전체 득점으로 계산\n",
    "        scores = []\n",
    "        for i in innings:\n",
    "            col = f\"i_{i}\"\n",
    "            try:\n",
    "                val = int(sb[col]) if sb[col] != \"-\" else 0\n",
    "            except:\n",
    "                val = 0\n",
    "            scores.append(val)\n",
    "        rs_list.append(sum(scores))\n",
    "    pitcher_df[\"RS\"] = rs_list\n",
    "    return pitcher_df\n",
    "\n",
    "# 4. RS 계산\n",
    "pitchers_with_ip = pitchers[pitchers[\"IP\"] > 0]\n",
    "pitchers_with_rs = calculate_rs(pitchers_with_ip, scoreboards)\n",
    "\n",
    "# 5. 시즌별 요약 테이블 생성\n",
    "season_stats = pitchers_with_rs.groupby([\"name\", \"year\"]).agg({\n",
    "    \"IP\": \"sum\",\n",
    "    \"RS\": \"sum\",\n",
    "    \"result\": lambda x: (x == \"W\").sum()  # 승수 계산\n",
    "}).reset_index()\n",
    "\n",
    "derived_stats = pitchers_with_rs.groupby([\"name\", \"year\"]).agg({\n",
    "    \"strikeout\": \"sum\",\n",
    "    \"dead4ball\": \"sum\",\n",
    "    \"earnedrun\": \"sum\",\n",
    "    \"hitted\": \"sum\",\n",
    "    \"homerun\": \"sum\"\n",
    "}).reset_index()\n",
    "\n",
    "# 6. 파생 변수 계산\n",
    "season_stats = pd.merge(season_stats, derived_stats, on=[\"name\", \"year\"])\n",
    "\n",
    "season_stats = season_stats.rename(columns={\"result\": \"W\"})\n",
    "\n",
    "season_stats[\"ERA\"] = season_stats[\"earnedrun\"] * 9 / season_stats[\"IP\"]\n",
    "season_stats[\"WHIP\"] = (season_stats[\"hitted\"] + season_stats[\"dead4ball\"]) / season_stats[\"IP\"]\n",
    "season_stats[\"FIP\"] = (13 * season_stats[\"homerun\"] + 3 * season_stats[\"dead4ball\"] - 2 * season_stats[\"strikeout\"]) / season_stats[\"IP\"] + 3.2\n",
    "season_stats[\"K9\"] = season_stats[\"strikeout\"] * 9 / season_stats[\"IP\"]\n",
    "season_stats[\"BB9\"] = season_stats[\"dead4ball\"] * 9 / season_stats[\"IP\"]\n",
    "\n",
    "# 8. 불필요한 컬럼 제거\n",
    "season_stats = season_stats.drop(columns=[\"strikeout\", \"dead4ball\", \"earnedrun\", \"hitted\", \"homerun\"])\n",
    "\n",
    "# 9. 최종 확인\n",
    "import seaborn as sns\n",
    "import matplotlib.pyplot as plt\n",
    "\n",
    "display(season_stats.head())"
   ]
  },
  {
   "cell_type": "code",
   "execution_count": 3,
   "id": "a4ac918d-d279-41a4-89e0-2e6110fbe049",
   "metadata": {},
   "outputs": [
    {
     "data": {
      "text/html": [
       "<div>\n",
       "<style scoped>\n",
       "    .dataframe tbody tr th:only-of-type {\n",
       "        vertical-align: middle;\n",
       "    }\n",
       "\n",
       "    .dataframe tbody tr th {\n",
       "        vertical-align: top;\n",
       "    }\n",
       "\n",
       "    .dataframe thead th {\n",
       "        text-align: right;\n",
       "    }\n",
       "</style>\n",
       "<table border=\"1\" class=\"dataframe\">\n",
       "  <thead>\n",
       "    <tr style=\"text-align: right;\">\n",
       "      <th></th>\n",
       "      <th>name</th>\n",
       "      <th>year</th>\n",
       "      <th>IP</th>\n",
       "      <th>RS</th>\n",
       "      <th>W</th>\n",
       "      <th>ERA</th>\n",
       "      <th>WHIP</th>\n",
       "      <th>FIP</th>\n",
       "      <th>K9</th>\n",
       "      <th>BB9</th>\n",
       "    </tr>\n",
       "  </thead>\n",
       "  <tbody>\n",
       "    <tr>\n",
       "      <th>1018</th>\n",
       "      <td>문동주</td>\n",
       "      <td>2022</td>\n",
       "      <td>57.333333</td>\n",
       "      <td>34</td>\n",
       "      <td>2</td>\n",
       "      <td>5.651163</td>\n",
       "      <td>1.500000</td>\n",
       "      <td>4.525581</td>\n",
       "      <td>11.302326</td>\n",
       "      <td>4.709302</td>\n",
       "    </tr>\n",
       "    <tr>\n",
       "      <th>1019</th>\n",
       "      <td>문동주</td>\n",
       "      <td>2023</td>\n",
       "      <td>251.333333</td>\n",
       "      <td>140</td>\n",
       "      <td>16</td>\n",
       "      <td>3.652520</td>\n",
       "      <td>1.344828</td>\n",
       "      <td>3.383024</td>\n",
       "      <td>7.591512</td>\n",
       "      <td>3.437666</td>\n",
       "    </tr>\n",
       "  </tbody>\n",
       "</table>\n",
       "</div>"
      ],
      "text/plain": [
       "     name  year          IP   RS   W       ERA      WHIP       FIP         K9  \\\n",
       "1018  문동주  2022   57.333333   34   2  5.651163  1.500000  4.525581  11.302326   \n",
       "1019  문동주  2023  251.333333  140  16  3.652520  1.344828  3.383024   7.591512   \n",
       "\n",
       "           BB9  \n",
       "1018  4.709302  \n",
       "1019  3.437666  "
      ]
     },
     "execution_count": 3,
     "metadata": {},
     "output_type": "execute_result"
    }
   ],
   "source": [
    "season_stats[season_stats[\"name\"] == \"문동주\"].sort_values(\"year\")"
   ]
  },
  {
   "cell_type": "code",
   "execution_count": 4,
   "id": "407b8f76-0de9-44e2-a21b-3fed45f110c5",
   "metadata": {},
   "outputs": [
    {
     "name": "stdout",
     "output_type": "stream",
     "text": [
      "  name  year          IP   RS   W       ERA      WHIP       FIP        K9  \\\n",
      "0  고영표  2017  303.333333  146  16  4.806593  1.424176  3.331868  7.714286   \n",
      "1  고영표  2018  302.000000  180  14  5.006623  1.496689  3.577483  8.463576   \n",
      "2  고영표  2021  359.333333  228  22  2.955473  1.135436  2.966234  7.063080   \n",
      "3  고영표  2022  384.000000  162  26  3.328125  1.276042  2.663542  7.593750   \n",
      "4  고영표  2023  387.333333  170  26  2.834768  1.218589  2.885026  5.901893   \n",
      "5  고원준  2010  262.000000  114  10  4.122137  1.496183  5.032061  5.977099   \n",
      "6  고원준  2012  226.000000   86   8  4.300885  1.672566  4.961062  4.300885   \n",
      "7  고원준  2013  103.333333   44   2  5.574194  1.741935  4.651613  4.529032   \n",
      "8   곽빈  2021  226.000000  100   8  4.141593  1.672566  4.651327  8.681416   \n",
      "9   곽빈  2022  306.000000  114  16  3.705882  1.450980  3.912418  8.294118   \n",
      "\n",
      "        BB9 salary_next  fa  age  \n",
      "0  2.195604       5,200   0   27  \n",
      "1  2.384106      11,500   0   28  \n",
      "2  2.053803      30,000   0   29  \n",
      "3  1.828125      43,000   0   30  \n",
      "4  1.580034     200,000   0   31  \n",
      "5  5.015267       2,400   0   21  \n",
      "6  4.699115      11,000   0   23  \n",
      "7  4.354839       9,000   0   24  \n",
      "8  7.725664       3,000   0   23  \n",
      "9  4.352941       6,500   0   24  \n"
     ]
    }
   ],
   "source": [
    "import pandas as pd\n",
    "\n",
    "# 1. player_info_sample.csv 불러오기\n",
    "player_info = pd.read_csv(\"../player_info_main.csv\")\n",
    "\n",
    "# 2. 컬럼명 통일 (병합을 위해)\n",
    "player_info = player_info.rename(columns={\n",
    "    \"player_name\": \"name\",\n",
    "    \"season\": \"year\"\n",
    "})\n",
    "\n",
    "# 3. year 컬럼을 정수형으로 변환\n",
    "player_info[\"year\"] = player_info[\"year\"].astype(int)\n",
    "season_stats[\"year\"] = season_stats[\"year\"].astype(int)\n",
    "\n",
    "# 4. 두 데이터프레임 병합\n",
    "merged_df = pd.merge(season_stats, player_info, on=[\"name\", \"year\"], how=\"inner\")\n",
    "\n",
    "# 5. 결과 확인\n",
    "# 병합된 데이터 상위 10개만 확인\n",
    "print(merged_df.head(10))"
   ]
  },
  {
   "cell_type": "markdown",
   "id": "069955f4-268d-40ca-8012-a223533d1de0",
   "metadata": {},
   "source": [
    "# 연봉 CSV 파일과 kbo data 라이브러리 파일들을 병합 하였음 (merged_df)"
   ]
  },
  {
   "cell_type": "code",
   "execution_count": 5,
   "id": "871c228f-dbd9-4695-9894-2e279ce1c001",
   "metadata": {},
   "outputs": [
    {
     "name": "stdout",
     "output_type": "stream",
     "text": [
      "  name          IP   RS   W       ERA      WHIP       FIP        K9       BB9  \\\n",
      "0  고영표  303.333333  146  16  4.806593  1.424176  3.331868  7.714286  2.195604   \n",
      "1  고영표  302.000000  180  14  5.006623  1.496689  3.577483  8.463576  2.384106   \n",
      "2  고영표  359.333333  228  22  2.955473  1.135436  2.966234  7.063080  2.053803   \n",
      "3  고영표  384.000000  162  26  3.328125  1.276042  2.663542  7.593750  1.828125   \n",
      "4  고영표  387.333333  170  26  2.834768  1.218589  2.885026  5.901893  1.580034   \n",
      "\n",
      "  salary_next  ...  year_2014  year_2015  year_2016  year_2017  year_2018  \\\n",
      "0       5,200  ...      False      False      False       True      False   \n",
      "1      11,500  ...      False      False      False      False       True   \n",
      "2      30,000  ...      False      False      False      False      False   \n",
      "3      43,000  ...      False      False      False      False      False   \n",
      "4     200,000  ...      False      False      False      False      False   \n",
      "\n",
      "   year_2019  year_2020  year_2021  year_2022  year_2023  \n",
      "0      False      False      False      False      False  \n",
      "1      False      False      False      False      False  \n",
      "2      False      False       True      False      False  \n",
      "3      False      False      False       True      False  \n",
      "4      False      False      False      False       True  \n",
      "\n",
      "[5 rows x 28 columns]\n"
     ]
    }
   ],
   "source": [
    "# 기존 테이블을 복사 (원본 유지)\n",
    "df_log = merged_df.copy()\n",
    "\n",
    "# 'salary_next' 컬럼을 정수형으로 처리하고 로그 변환\n",
    "df_log[\"salary_next_won\"] = (\n",
    "    df_log[\"salary_next\"]\n",
    "    .astype(str)\n",
    "    .str.replace(\",\", \"\")\n",
    "    .astype(float) * 10000\n",
    ")\n",
    "\n",
    "# 로그 변환된 컬럼 추가\n",
    "import numpy as np\n",
    "df_log[\"log_salary_next\"] = np.log1p(df_log[\"salary_next_won\"])\n",
    "\n",
    "# ✅ 연도 더미 변수 생성 (year 컬럼 기준)\n",
    "df_log = pd.get_dummies(df_log, columns=[\"year\"], prefix=\"year\", drop_first=True)\n",
    "\n",
    "# 결과 확인\n",
    "print(df_log.head())"
   ]
  },
  {
   "cell_type": "markdown",
   "id": "a2ffcfcf-5b4b-425e-9bc7-525f4c43b99e",
   "metadata": {},
   "source": [
    "# 잔차 구하기"
   ]
  },
  {
   "cell_type": "code",
   "execution_count": 6,
   "id": "8568b5fb-1a1d-4b1d-b37d-0f95fabf2c6e",
   "metadata": {},
   "outputs": [],
   "source": [
    "import statsmodels.api as sm\n",
    "\n",
    "features_step1 = [\"RS\", \"ERA\", \"IP\"] + [col for col in df_log.columns if col.startswith(\"year_\")]\n",
    "X_step1 = sm.add_constant(df_log[features_step1])\n",
    "y_step1 = df_log[\"W\"]\n",
    "\n",
    "valid_idx = X_step1.notnull().all(axis=1) & y_step1.notnull()\n",
    "X_valid1 = X_step1.loc[valid_idx].astype(float)\n",
    "y_valid1 = y_step1.loc[valid_idx].astype(float)\n",
    "\n",
    "model_step1 = sm.OLS(y_valid1, X_valid1).fit()\n",
    "df_log.loc[valid_idx, \"resid_W\"] = model_step1.resid  # ✨ 여기서 잔차 컬럼 추가!"
   ]
  },
  {
   "cell_type": "code",
   "execution_count": 7,
   "id": "34b608d6-dd35-4730-9163-86e36c6a6963",
   "metadata": {},
   "outputs": [
    {
     "name": "stdout",
     "output_type": "stream",
     "text": [
      "0      0.345364\n",
      "1     -4.499043\n",
      "2     -4.773351\n",
      "3      4.562043\n",
      "4      3.597199\n",
      "         ...   \n",
      "292    3.732868\n",
      "293   -1.846304\n",
      "294    2.240120\n",
      "295    3.957464\n",
      "296    1.121162\n",
      "Length: 297, dtype: float64\n"
     ]
    }
   ],
   "source": [
    "print(model_step1.resid)"
   ]
  },
  {
   "cell_type": "markdown",
   "id": "d02c65f3-0d8f-40e9-a5d6-2d11c96412fa",
   "metadata": {},
   "source": [
    "# 잔차 X"
   ]
  },
  {
   "cell_type": "code",
   "execution_count": 8,
   "id": "325d12e6-e519-4b55-aaa1-dcac22a55311",
   "metadata": {},
   "outputs": [
    {
     "name": "stdout",
     "output_type": "stream",
     "text": [
      "                            OLS Regression Results                            \n",
      "==============================================================================\n",
      "Dep. Variable:        log_salary_next   R-squared:                       0.448\n",
      "Model:                            OLS   Adj. R-squared:                  0.429\n",
      "Method:                 Least Squares   F-statistic:                     23.19\n",
      "Date:                Fri, 13 Jun 2025   Prob (F-statistic):           1.02e-31\n",
      "Time:                        01:21:02   Log-Likelihood:                -331.09\n",
      "No. Observations:                 297   AIC:                             684.2\n",
      "Df Residuals:                     286   BIC:                             724.8\n",
      "Df Model:                          10                                         \n",
      "Covariance Type:            nonrobust                                         \n",
      "==============================================================================\n",
      "                 coef    std err          t      P>|t|      [0.025      0.975]\n",
      "------------------------------------------------------------------------------\n",
      "const         15.2688      0.701     21.772      0.000      13.888      16.649\n",
      "W              0.0198      0.011      1.755      0.080      -0.002       0.042\n",
      "ERA            0.0813      0.058      1.395      0.164      -0.033       0.196\n",
      "IP             0.0026      0.001      2.481      0.014       0.001       0.005\n",
      "RS            -0.0007      0.002     -0.441      0.659      -0.004       0.003\n",
      "K9             0.0321      0.036      0.896      0.371      -0.038       0.103\n",
      "BB9           -0.0517      0.047     -1.101      0.272      -0.144       0.041\n",
      "WHIP           0.1255      0.355      0.354      0.724      -0.573       0.824\n",
      "FIP           -0.1586      0.084     -1.886      0.060      -0.324       0.007\n",
      "age            0.1057      0.010     10.545      0.000       0.086       0.125\n",
      "fa             0.0310      0.217      0.143      0.887      -0.396       0.458\n",
      "==============================================================================\n",
      "Omnibus:                        1.615   Durbin-Watson:                   1.167\n",
      "Prob(Omnibus):                  0.446   Jarque-Bera (JB):                1.411\n",
      "Skew:                          -0.164   Prob(JB):                        0.494\n",
      "Kurtosis:                       3.084   Cond. No.                     5.33e+03\n",
      "==============================================================================\n",
      "\n",
      "Notes:\n",
      "[1] Standard Errors assume that the covariance matrix of the errors is correctly specified.\n",
      "[2] The condition number is large, 5.33e+03. This might indicate that there are\n",
      "strong multicollinearity or other numerical problems.\n"
     ]
    }
   ],
   "source": [
    "import statsmodels.api as sm\n",
    "\n",
    "# 사용할 설명 변수 (연봉 예측에 쓰이는 모든 수치형 변수)\n",
    "features = [\n",
    "    \"W\", \"ERA\", \"IP\", \"RS\", \"K9\", \"BB9\", \"WHIP\", \"FIP\", \"age\", \"fa\"\n",
    "]\n",
    "\n",
    "# 설명 변수(X), 종속 변수(y)\n",
    "X = df_log[features]\n",
    "X = sm.add_constant(X)\n",
    "y = df_log[\"log_salary_next\"]\n",
    "\n",
    "# NaN 제거\n",
    "valid_idx = X.notnull().all(axis=1) & y.notnull()\n",
    "X_valid = X.loc[valid_idx]\n",
    "y_valid = y.loc[valid_idx]\n",
    "\n",
    "# 회귀 실행\n",
    "model = sm.OLS(y_valid, X_valid).fit()\n",
    "print(model.summary())"
   ]
  },
  {
   "cell_type": "markdown",
   "id": "7e9bef7c-9a8a-4afb-af2d-db3da453b59f",
   "metadata": {},
   "source": [
    "# 잔차 O"
   ]
  },
  {
   "cell_type": "code",
   "execution_count": 15,
   "id": "d60469c5-612a-4fc4-be2e-2c85405d4c1e",
   "metadata": {},
   "outputs": [
    {
     "name": "stdout",
     "output_type": "stream",
     "text": [
      "                            OLS Regression Results                            \n",
      "==============================================================================\n",
      "Dep. Variable:        log_salary_next   R-squared:                       0.476\n",
      "Model:                            OLS   Adj. R-squared:                  0.432\n",
      "Method:                 Least Squares   F-statistic:                     10.80\n",
      "Date:                Fri, 13 Jun 2025   Prob (F-statistic):           6.66e-27\n",
      "Time:                        01:25:12   Log-Likelihood:                -323.18\n",
      "No. Observations:                 297   AIC:                             694.4\n",
      "Df Residuals:                     273   BIC:                             783.0\n",
      "Df Model:                          23                                         \n",
      "Covariance Type:            nonrobust                                         \n",
      "==============================================================================\n",
      "                 coef    std err          t      P>|t|      [0.025      0.975]\n",
      "------------------------------------------------------------------------------\n",
      "const         14.7126      0.784     18.770      0.000      13.169      16.256\n",
      "resid_W        0.0218      0.012      1.865      0.063      -0.001       0.045\n",
      "ERA            0.0688      0.060      1.155      0.249      -0.048       0.186\n",
      "IP             0.0041      0.001      7.422      0.000       0.003       0.005\n",
      "K9             0.0251      0.038      0.652      0.515      -0.051       0.101\n",
      "BB9           -0.0496      0.048     -1.032      0.303      -0.144       0.045\n",
      "WHIP           0.0622      0.361      0.172      0.863      -0.648       0.773\n",
      "FIP           -0.1273      0.089     -1.427      0.155      -0.303       0.048\n",
      "age            0.1062      0.010     10.328      0.000       0.086       0.126\n",
      "fa            -0.0086      0.224     -0.039      0.969      -0.450       0.432\n",
      "year_2009      0.5175      0.338      1.530      0.127      -0.148       1.183\n",
      "year_2010      0.2129      0.333      0.640      0.523      -0.442       0.868\n",
      "year_2012      0.3770      0.331      1.138      0.256      -0.275       1.029\n",
      "year_2013      0.3236      0.333      0.973      0.332      -0.331       0.979\n",
      "year_2014      0.1742      0.330      0.528      0.598      -0.476       0.824\n",
      "year_2015      0.4323      0.336      1.288      0.199      -0.229       1.093\n",
      "year_2016      0.2300      0.326      0.706      0.481      -0.412       0.872\n",
      "year_2017      0.2460      0.323      0.761      0.447      -0.390       0.882\n",
      "year_2018      0.5392      0.324      1.662      0.098      -0.099       1.178\n",
      "year_2019      0.5071      0.309      1.640      0.102      -0.102       1.116\n",
      "year_2020      0.6835      0.320      2.136      0.034       0.054       1.313\n",
      "year_2021      0.5426      0.309      1.756      0.080      -0.066       1.151\n",
      "year_2022      0.5209      0.307      1.695      0.091      -0.084       1.126\n",
      "year_2023      0.6702      0.309      2.170      0.031       0.062       1.278\n",
      "==============================================================================\n",
      "Omnibus:                        3.535   Durbin-Watson:                   1.150\n",
      "Prob(Omnibus):                  0.171   Jarque-Bera (JB):                3.223\n",
      "Skew:                          -0.238   Prob(JB):                        0.200\n",
      "Kurtosis:                       3.186   Cond. No.                     6.67e+03\n",
      "==============================================================================\n",
      "\n",
      "Notes:\n",
      "[1] Standard Errors assume that the covariance matrix of the errors is correctly specified.\n",
      "[2] The condition number is large, 6.67e+03. This might indicate that there are\n",
      "strong multicollinearity or other numerical problems.\n"
     ]
    }
   ],
   "source": [
    "features_step2 = [\n",
    "    \"resid_W\", \"ERA\", \"IP\", \"K9\", \"BB9\", \"WHIP\", \"FIP\", \"age\", \"fa\"\n",
    "] + [col for col in df_log.columns if col.startswith(\"year_\")]\n",
    "\n",
    "X_step2 = sm.add_constant(df_log[features_step2])\n",
    "y_step2 = df_log[\"log_salary_next\"]\n",
    "\n",
    "valid_idx = X_step2.notnull().all(axis=1) & y_step2.notnull()\n",
    "X_valid2 = X_step2.loc[valid_idx].astype(float)\n",
    "y_valid2 = y_step2.loc[valid_idx].astype(float)\n",
    "\n",
    "model_step2 = sm.OLS(y_valid2, X_valid2).fit()\n",
    "print(model_step2.summary())"
   ]
  },
  {
   "cell_type": "markdown",
   "id": "4a864e71-b799-4a96-be65-7214c9125987",
   "metadata": {},
   "source": [
    "# 초기 VIF"
   ]
  },
  {
   "cell_type": "code",
   "execution_count": 16,
   "id": "dab9dc8a-1fed-4e36-837d-e1cf4c07dee1",
   "metadata": {},
   "outputs": [
    {
     "name": "stdout",
     "output_type": "stream",
     "text": [
      "      feature         VIF\n",
      "6        WHIP  120.734372\n",
      "3          IP   83.535817\n",
      "1           W   70.093883\n",
      "7         FIP   68.315193\n",
      "2         ERA   45.181286\n",
      "8         age   34.505679\n",
      "5         BB9   21.688882\n",
      "4          K9   19.425071\n",
      "22  year_2022    4.558602\n",
      "21  year_2021    4.415003\n",
      "23  year_2023    4.385590\n",
      "18  year_2018    4.377770\n",
      "20  year_2020    4.297165\n",
      "19  year_2019    4.225452\n",
      "17  year_2017    3.970846\n",
      "0     resid_W    3.860190\n",
      "16  year_2016    3.771099\n",
      "14  year_2014    3.661835\n",
      "15  year_2015    3.427439\n",
      "12  year_2012    2.871822\n",
      "13  year_2013    2.865605\n",
      "11  year_2010    2.827594\n",
      "10  year_2009    2.777044\n",
      "9          fa    1.162563\n"
     ]
    }
   ],
   "source": [
    "from statsmodels.stats.outliers_influence import variance_inflation_factor\n",
    "\n",
    "# 설명 변수만 추출\n",
    "X_for_vif = X_valid.drop(columns=[\"const\"])\n",
    "\n",
    "# VIF 계산\n",
    "vif_df = pd.DataFrame({\n",
    "    \"feature\": X_for_vif.columns,\n",
    "    \"VIF\": [variance_inflation_factor(X_for_vif.values, i) for i in range(X_for_vif.shape[1])]\n",
    "})\n",
    "\n",
    "print(vif_df.sort_values(\"VIF\", ascending=False))"
   ]
  },
  {
   "cell_type": "markdown",
   "id": "1d6e0bae-5c5a-4784-b4b8-bf334e1bd887",
   "metadata": {},
   "source": [
    "# 1차 단계 싹다 넣고 돌려봄"
   ]
  },
  {
   "cell_type": "code",
   "execution_count": 8,
   "id": "c9d1e4e4-695c-42cc-abd3-47a435f6ec39",
   "metadata": {},
   "outputs": [],
   "source": [
    "# log(age) 파생 변수 생성\n",
    "df_log[\"log_age\"] = np.log(df_log[\"age\"])"
   ]
  },
  {
   "cell_type": "code",
   "execution_count": 13,
   "id": "a52c4b8e-9f17-4135-9b9c-002a180b04ec",
   "metadata": {},
   "outputs": [
    {
     "name": "stdout",
     "output_type": "stream",
     "text": [
      "                            OLS Regression Results                            \n",
      "==============================================================================\n",
      "Dep. Variable:        log_salary_next   R-squared:                       0.480\n",
      "Model:                            OLS   Adj. R-squared:                  0.434\n",
      "Method:                 Least Squares   F-statistic:                     10.46\n",
      "Date:                Fri, 13 Jun 2025   Prob (F-statistic):           9.50e-27\n",
      "Time:                        01:24:12   Log-Likelihood:                -322.16\n",
      "No. Observations:                 297   AIC:                             694.3\n",
      "Df Residuals:                     272   BIC:                             786.7\n",
      "Df Model:                          24                                         \n",
      "Covariance Type:            nonrobust                                         \n",
      "==============================================================================\n",
      "                 coef    std err          t      P>|t|      [0.025      0.975]\n",
      "------------------------------------------------------------------------------\n",
      "const         14.6025      0.787     18.561      0.000      13.054      16.151\n",
      "resid_W       -0.0051      0.023     -0.222      0.825      -0.050       0.040\n",
      "W              0.0268      0.020      1.368      0.172      -0.012       0.065\n",
      "ERA            0.0913      0.062      1.480      0.140      -0.030       0.213\n",
      "IP             0.0022      0.001      1.503      0.134      -0.001       0.005\n",
      "K9             0.0238      0.038      0.618      0.537      -0.052       0.099\n",
      "BB9           -0.0443      0.048     -0.921      0.358      -0.139       0.050\n",
      "WHIP           0.0335      0.361      0.093      0.926      -0.677       0.744\n",
      "FIP           -0.1231      0.089     -1.381      0.168      -0.298       0.052\n",
      "age            0.1058      0.010     10.305      0.000       0.086       0.126\n",
      "fa            -0.0060      0.224     -0.027      0.978      -0.446       0.434\n",
      "year_2009      0.5278      0.338      1.563      0.119      -0.137       1.193\n",
      "year_2010      0.2389      0.333      0.718      0.473      -0.416       0.894\n",
      "year_2012      0.4815      0.339      1.419      0.157      -0.187       1.150\n",
      "year_2013      0.3569      0.333      1.071      0.285      -0.299       1.013\n",
      "year_2014      0.2329      0.332      0.701      0.484      -0.421       0.887\n",
      "year_2015      0.4700      0.336      1.398      0.163      -0.192       1.132\n",
      "year_2016      0.2633      0.326      0.807      0.420      -0.379       0.906\n",
      "year_2017      0.3234      0.328      0.987      0.324      -0.321       0.968\n",
      "year_2018      0.6114      0.328      1.863      0.063      -0.035       1.257\n",
      "year_2019      0.5832      0.314      1.860      0.064      -0.034       1.201\n",
      "year_2020      0.7242      0.321      2.257      0.025       0.093       1.356\n",
      "year_2021      0.6037      0.312      1.937      0.054      -0.010       1.217\n",
      "year_2022      0.6345      0.318      1.997      0.047       0.009       1.260\n",
      "year_2023      0.7819      0.319      2.452      0.015       0.154       1.410\n",
      "==============================================================================\n",
      "Omnibus:                        3.891   Durbin-Watson:                   1.176\n",
      "Prob(Omnibus):                  0.143   Jarque-Bera (JB):                3.595\n",
      "Skew:                          -0.257   Prob(JB):                        0.166\n",
      "Kurtosis:                       3.164   Cond. No.                     6.78e+03\n",
      "==============================================================================\n",
      "\n",
      "Notes:\n",
      "[1] Standard Errors assume that the covariance matrix of the errors is correctly specified.\n",
      "[2] The condition number is large, 6.78e+03. This might indicate that there are\n",
      "strong multicollinearity or other numerical problems.\n"
     ]
    }
   ],
   "source": [
    "# 사용할 변수들\n",
    "features = [\n",
    "    \"resid_W\", \"W\", \"ERA\", \"IP\", \"K9\", \"BB9\",\n",
    "    \"WHIP\", \"FIP\", \"age\", \"fa\"\n",
    "] + [col for col in df_log.columns if col.startswith(\"year_\")]\n",
    "\n",
    "X = df_log[features]\n",
    "X = sm.add_constant(X)\n",
    "y = df_log[\"log_salary_next\"]\n",
    "\n",
    "valid_idx = X.notnull().all(axis=1) & y.notnull()\n",
    "X_valid = X.loc[valid_idx].astype(float)\n",
    "y_valid = y.loc[valid_idx].astype(float)\n",
    "\n",
    "model = sm.OLS(y_valid, X_valid).fit()\n",
    "print(model.summary())"
   ]
  },
  {
   "cell_type": "code",
   "execution_count": 14,
   "id": "c3d815c7-60a4-4764-80fb-00e7c94be759",
   "metadata": {},
   "outputs": [
    {
     "name": "stdout",
     "output_type": "stream",
     "text": [
      "      feature         VIF\n",
      "6        WHIP  120.734372\n",
      "3          IP   83.535817\n",
      "1           W   70.093883\n",
      "7         FIP   68.315193\n",
      "2         ERA   45.181286\n",
      "8         age   34.505679\n",
      "5         BB9   21.688882\n",
      "4          K9   19.425071\n",
      "22  year_2022    4.558602\n",
      "21  year_2021    4.415003\n",
      "23  year_2023    4.385590\n",
      "18  year_2018    4.377770\n",
      "20  year_2020    4.297165\n",
      "19  year_2019    4.225452\n",
      "17  year_2017    3.970846\n",
      "0     resid_W    3.860190\n",
      "16  year_2016    3.771099\n",
      "14  year_2014    3.661835\n",
      "15  year_2015    3.427439\n",
      "12  year_2012    2.871822\n",
      "13  year_2013    2.865605\n",
      "11  year_2010    2.827594\n",
      "10  year_2009    2.777044\n",
      "9          fa    1.162563\n"
     ]
    }
   ],
   "source": [
    "from statsmodels.stats.outliers_influence import variance_inflation_factor\n",
    "\n",
    "X_vif = X_valid.drop(columns=[\"const\"])\n",
    "\n",
    "vif_df = pd.DataFrame({\n",
    "    \"feature\": X_vif.columns,\n",
    "    \"VIF\": [variance_inflation_factor(X_vif.values, i) for i in range(X_vif.shape[1])]\n",
    "})\n",
    "\n",
    "print(vif_df.sort_values(\"VIF\", ascending=False))"
   ]
  },
  {
   "cell_type": "markdown",
   "id": "d50ac937-f610-478e-833c-63947ebbc0d1",
   "metadata": {},
   "source": [
    "# 1단계 1차 (RS와 W의 관계)"
   ]
  },
  {
   "cell_type": "code",
   "execution_count": 24,
   "id": "ebcb5fdd-7f5f-425d-8f6a-173b9ba710e4",
   "metadata": {},
   "outputs": [
    {
     "name": "stdout",
     "output_type": "stream",
     "text": [
      "                            OLS Regression Results                            \n",
      "==============================================================================\n",
      "Dep. Variable:                      W   R-squared:                       0.794\n",
      "Model:                            OLS   Adj. R-squared:                  0.793\n",
      "Method:                 Least Squares   F-statistic:                     1136.\n",
      "Date:                Fri, 13 Jun 2025   Prob (F-statistic):          3.51e-103\n",
      "Time:                        01:31:31   Log-Likelihood:                -866.02\n",
      "No. Observations:                 297   AIC:                             1736.\n",
      "Df Residuals:                     295   BIC:                             1743.\n",
      "Df Model:                           1                                         \n",
      "Covariance Type:            nonrobust                                         \n",
      "==============================================================================\n",
      "                 coef    std err          t      P>|t|      [0.025      0.975]\n",
      "------------------------------------------------------------------------------\n",
      "const         -1.4706      0.575     -2.556      0.011      -2.603      -0.338\n",
      "RS             0.1207      0.004     33.709      0.000       0.114       0.128\n",
      "==============================================================================\n",
      "Omnibus:                       16.947   Durbin-Watson:                   1.818\n",
      "Prob(Omnibus):                  0.000   Jarque-Bera (JB):               23.376\n",
      "Skew:                           0.427   Prob(JB):                     8.39e-06\n",
      "Kurtosis:                       4.077   Cond. No.                         355.\n",
      "==============================================================================\n",
      "\n",
      "Notes:\n",
      "[1] Standard Errors assume that the covariance matrix of the errors is correctly specified.\n"
     ]
    }
   ],
   "source": [
    "import statsmodels.api as sm\n",
    "\n",
    "# 설명변수와 종속변수 설정\n",
    "X = df_log[[\"RS\"]]\n",
    "X = sm.add_constant(X)  # 상수항 추가\n",
    "y = df_log[\"W\"]\n",
    "\n",
    "# 결측값 제거\n",
    "valid_idx = X.notnull().all(axis=1) & y.notnull()\n",
    "X_valid = X.loc[valid_idx].astype(float)\n",
    "y_valid = y.loc[valid_idx].astype(float)\n",
    "\n",
    "# 회귀 실행\n",
    "model = sm.OLS(y_valid, X_valid).fit()\n",
    "print(model.summary())"
   ]
  },
  {
   "cell_type": "markdown",
   "id": "6a44cf1d-8d5e-40d8-915b-5243563c9e47",
   "metadata": {},
   "source": [
    "# 1단계 2차 OLS"
   ]
  },
  {
   "cell_type": "code",
   "execution_count": 26,
   "id": "d0acc02a-0bc5-4c59-9c30-b43530f8c003",
   "metadata": {},
   "outputs": [
    {
     "name": "stdout",
     "output_type": "stream",
     "text": [
      "                            OLS Regression Results                            \n",
      "==============================================================================\n",
      "Dep. Variable:                      W   R-squared:                       0.854\n",
      "Model:                            OLS   Adj. R-squared:                  0.845\n",
      "Method:                 Least Squares   F-statistic:                     96.20\n",
      "Date:                Fri, 13 Jun 2025   Prob (F-statistic):          6.97e-106\n",
      "Time:                        01:32:21   Log-Likelihood:                -814.55\n",
      "No. Observations:                 297   AIC:                             1665.\n",
      "Df Residuals:                     279   BIC:                             1732.\n",
      "Df Model:                          17                                         \n",
      "Covariance Type:            nonrobust                                         \n",
      "==============================================================================\n",
      "                 coef    std err          t      P>|t|      [0.025      0.975]\n",
      "------------------------------------------------------------------------------\n",
      "const          4.4873      1.870      2.399      0.017       0.805       8.169\n",
      "RS             0.0795      0.008      9.914      0.000       0.064       0.095\n",
      "ERA           -0.7747      0.188     -4.120      0.000      -1.145      -0.405\n",
      "IP             0.0247      0.005      4.693      0.000       0.014       0.035\n",
      "year_2009     -0.9636      1.735     -0.556      0.579      -4.378       2.451\n",
      "year_2010     -1.4507      1.712     -0.847      0.398      -4.821       1.920\n",
      "year_2012     -1.3082      1.722     -0.760      0.448      -4.698       2.081\n",
      "year_2013     -1.2904      1.706     -0.756      0.450      -4.649       2.068\n",
      "year_2014     -4.0086      1.692     -2.369      0.018      -7.339      -0.678\n",
      "year_2015     -2.4131      1.681     -1.435      0.152      -5.723       0.896\n",
      "year_2016     -2.9888      1.665     -1.795      0.074      -6.266       0.288\n",
      "year_2017     -4.2036      1.649     -2.549      0.011      -7.450      -0.957\n",
      "year_2018     -3.8755      1.650     -2.348      0.020      -7.124      -0.627\n",
      "year_2019     -2.6739      1.586     -1.686      0.093      -5.796       0.449\n",
      "year_2020     -1.8710      1.631     -1.147      0.252      -5.082       1.340\n",
      "year_2021     -2.4222      1.586     -1.527      0.128      -5.544       0.700\n",
      "year_2022     -2.8282      1.576     -1.794      0.074      -5.931       0.274\n",
      "year_2023     -2.9641      1.589     -1.865      0.063      -6.093       0.165\n",
      "==============================================================================\n",
      "Omnibus:                        3.373   Durbin-Watson:                   2.096\n",
      "Prob(Omnibus):                  0.185   Jarque-Bera (JB):                3.187\n",
      "Skew:                           0.252   Prob(JB):                        0.203\n",
      "Kurtosis:                       3.061   Cond. No.                     7.62e+03\n",
      "==============================================================================\n",
      "\n",
      "Notes:\n",
      "[1] Standard Errors assume that the covariance matrix of the errors is correctly specified.\n",
      "[2] The condition number is large, 7.62e+03. This might indicate that there are\n",
      "strong multicollinearity or other numerical problems.\n"
     ]
    }
   ],
   "source": [
    "import statsmodels.api as sm\n",
    "\n",
    "# ✅ 연도 더미 컬럼을 포함한 설명 변수 구성\n",
    "feature_cols = [\"RS\", \"ERA\", \"IP\"] + [col for col in df_log.columns if col.startswith(\"year_\")]\n",
    "X = df_log[feature_cols]\n",
    "\n",
    "# ✅ 상수항 추가\n",
    "X = sm.add_constant(X)\n",
    "\n",
    "# ✅ 종속 변수\n",
    "y = df_log[\"W\"]\n",
    "\n",
    "# ✅ 결측값 제거\n",
    "valid_idx = X.notnull().all(axis=1) & y.notnull()\n",
    "X_valid = X.loc[valid_idx].astype(float)\n",
    "y_valid = y.loc[valid_idx].astype(float)\n",
    "\n",
    "# ✅ 회귀 실행\n",
    "model = sm.OLS(y_valid, X_valid).fit()\n",
    "print(model.summary())"
   ]
  },
  {
   "cell_type": "code",
   "execution_count": 12,
   "id": "ee2fae01-5e97-4e2e-b42f-8867b904aaeb",
   "metadata": {},
   "outputs": [
    {
     "name": "stderr",
     "output_type": "stream",
     "text": [
      "/var/folders/48/s46fmd9166lflhx4v40_hps80000gn/T/ipykernel_57510/1653745805.py:2: DeprecationWarning: Importing display from IPython.core.display is deprecated since IPython 7.14, please import from IPython display\n",
      "  from IPython.core.display import display, HTML\n"
     ]
    },
    {
     "data": {
      "text/html": [
       "OLS 회귀 분석 결과 (연도 더미 제외 표시)<br><table style=\"text-align:center\"><tr><td colspan=\"2\" style=\"border-bottom: 1px solid black\"></td></tr>\n",
       "<tr><td style=\"text-align:left\"></td><td colspan=\"1\"><em>Dependent variable: W</em></td></tr><tr><td style=\"text-align:left\"></td><tr><td style=\"text-align:left\"></td><td>(1)</td></tr>\n",
       "<tr><td colspan=\"2\" style=\"border-bottom: 1px solid black\"></td></tr>\n",
       "\n",
       "<tr><td style=\"text-align:left\">RS</td><td>0.080<sup>***</sup></td></tr>\n",
       "<tr><td style=\"text-align:left\"></td><td>(0.008)</td></tr>\n",
       "<tr><td style=\"text-align:left\">ERA</td><td>-0.775<sup>***</sup></td></tr>\n",
       "<tr><td style=\"text-align:left\"></td><td>(0.188)</td></tr>\n",
       "<tr><td style=\"text-align:left\">IP</td><td>0.025<sup>***</sup></td></tr>\n",
       "<tr><td style=\"text-align:left\"></td><td>(0.005)</td></tr>\n",
       "<tr><td style=\"text-align:left\">const</td><td>4.487<sup>**</sup></td></tr>\n",
       "<tr><td style=\"text-align:left\"></td><td>(1.870)</td></tr>\n",
       "\n",
       "<td colspan=\"2\" style=\"border-bottom: 1px solid black\"></td></tr>\n",
       "<tr><td style=\"text-align: left\">Observations</td><td>297</td></tr><tr><td style=\"text-align: left\">R<sup>2</sup></td><td>0.854</td></tr><tr><td style=\"text-align: left\">Adjusted R<sup>2</sup></td><td>0.845</td></tr><tr><td style=\"text-align: left\">Residual Std. Error</td><td>3.876 (df=279)</td></tr><tr><td style=\"text-align: left\">F Statistic</td><td>96.201<sup>***</sup> (df=17; 279)</td></tr>\n",
       "<tr><td colspan=\"2\" style=\"border-bottom: 1px solid black\"></td></tr><tr><td style=\"text-align: left\">Note:</td><td colspan=\"1\" style=\"text-align: right\"><sup>*</sup>p&lt;0.1; <sup>**</sup>p&lt;0.05; <sup>***</sup>p&lt;0.01</td></tr></table>"
      ],
      "text/plain": [
       "<IPython.core.display.HTML object>"
      ]
     },
     "metadata": {},
     "output_type": "display_data"
    }
   ],
   "source": [
    "from stargazer.stargazer import Stargazer\n",
    "from IPython.core.display import display, HTML\n",
    "\n",
    "# Stargazer 객체 생성\n",
    "stargazer = Stargazer([model])\n",
    "stargazer.title(\"OLS 회귀 분석 결과 (연도 더미 제외 표시)\")\n",
    "\n",
    "# 📌 보고 싶은 변수만 지정\n",
    "stargazer.covariate_order([\"RS\", \"ERA\", \"IP\", \"const\"])\n",
    "\n",
    "# 출력\n",
    "display(HTML(stargazer.render_html()))"
   ]
  },
  {
   "cell_type": "markdown",
   "id": "45441966-3c76-41c3-b480-dd5cf265708b",
   "metadata": {},
   "source": [
    "# 2단계 회귀식 (RS를 제외한 모든 변수 포함)"
   ]
  },
  {
   "cell_type": "code",
   "execution_count": 28,
   "id": "24b922ca-0f71-45b0-90b5-7edd7c379cac",
   "metadata": {},
   "outputs": [
    {
     "name": "stdout",
     "output_type": "stream",
     "text": [
      "                            OLS Regression Results                            \n",
      "==============================================================================\n",
      "Dep. Variable:        log_salary_next   R-squared:                       0.480\n",
      "Model:                            OLS   Adj. R-squared:                  0.436\n",
      "Method:                 Least Squares   F-statistic:                     10.95\n",
      "Date:                Fri, 13 Jun 2025   Prob (F-statistic):           2.89e-27\n",
      "Time:                        01:33:28   Log-Likelihood:                -322.18\n",
      "No. Observations:                 297   AIC:                             692.4\n",
      "Df Residuals:                     273   BIC:                             781.0\n",
      "Df Model:                          23                                         \n",
      "Covariance Type:            nonrobust                                         \n",
      "==============================================================================\n",
      "                 coef    std err          t      P>|t|      [0.025      0.975]\n",
      "------------------------------------------------------------------------------\n",
      "const         14.6196      0.782     18.706      0.000      13.081      16.158\n",
      "W              0.0231      0.010      2.309      0.022       0.003       0.043\n",
      "ERA            0.0879      0.060      1.473      0.142      -0.030       0.205\n",
      "IP             0.0025      0.001      2.784      0.006       0.001       0.004\n",
      "K9             0.0237      0.038      0.617      0.538      -0.052       0.099\n",
      "BB9           -0.0453      0.048     -0.948      0.344      -0.140       0.049\n",
      "WHIP           0.0381      0.360      0.106      0.916      -0.670       0.746\n",
      "FIP           -0.1232      0.089     -1.385      0.167      -0.298       0.052\n",
      "age            0.1059      0.010     10.327      0.000       0.086       0.126\n",
      "fa            -0.0077      0.223     -0.034      0.973      -0.447       0.432\n",
      "year_2009      0.5263      0.337      1.562      0.120      -0.137       1.190\n",
      "year_2010      0.2353      0.332      0.709      0.479      -0.418       0.888\n",
      "year_2012      0.4669      0.332      1.405      0.161      -0.187       1.121\n",
      "year_2013      0.3522      0.332      1.061      0.290      -0.301       1.005\n",
      "year_2014      0.2248      0.330      0.682      0.496      -0.424       0.874\n",
      "year_2015      0.4649      0.335      1.388      0.166      -0.194       1.124\n",
      "year_2016      0.2587      0.325      0.796      0.427      -0.381       0.899\n",
      "year_2017      0.3127      0.323      0.967      0.334      -0.324       0.949\n",
      "year_2018      0.6015      0.325      1.854      0.065      -0.037       1.240\n",
      "year_2019      0.5725      0.309      1.851      0.065      -0.036       1.181\n",
      "year_2020      0.7187      0.319      2.251      0.025       0.090       1.347\n",
      "year_2021      0.5955      0.309      1.928      0.055      -0.013       1.204\n",
      "year_2022      0.6188      0.309      2.001      0.046       0.010       1.228\n",
      "year_2023      0.7667      0.311      2.466      0.014       0.155       1.379\n",
      "==============================================================================\n",
      "Omnibus:                        3.895   Durbin-Watson:                   1.175\n",
      "Prob(Omnibus):                  0.143   Jarque-Bera (JB):                3.596\n",
      "Skew:                          -0.256   Prob(JB):                        0.166\n",
      "Kurtosis:                       3.170   Cond. No.                     6.71e+03\n",
      "==============================================================================\n",
      "\n",
      "Notes:\n",
      "[1] Standard Errors assume that the covariance matrix of the errors is correctly specified.\n",
      "[2] The condition number is large, 6.71e+03. This might indicate that there are\n",
      "strong multicollinearity or other numerical problems.\n"
     ]
    }
   ],
   "source": [
    "# 사용할 변수들\n",
    "features = [\n",
    "    \"W\", \"ERA\", \"IP\", \"K9\", \"BB9\",\n",
    "    \"WHIP\", \"FIP\", \"age\", \"fa\"\n",
    "] + [col for col in df_log.columns if col.startswith(\"year_\")]\n",
    "\n",
    "X = df_log[features]\n",
    "X = sm.add_constant(X)\n",
    "y = df_log[\"log_salary_next\"]\n",
    "\n",
    "valid_idx = X.notnull().all(axis=1) & y.notnull()\n",
    "X_valid = X.loc[valid_idx].astype(float)\n",
    "y_valid = y.loc[valid_idx].astype(float)\n",
    "\n",
    "model = sm.OLS(y_valid, X_valid).fit()\n",
    "print(model.summary())"
   ]
  },
  {
   "cell_type": "code",
   "execution_count": 14,
   "id": "1131ec87-01e0-4a9a-85b7-88f3187cbb3c",
   "metadata": {},
   "outputs": [
    {
     "name": "stderr",
     "output_type": "stream",
     "text": [
      "/var/folders/48/s46fmd9166lflhx4v40_hps80000gn/T/ipykernel_57510/311906804.py:2: DeprecationWarning: Importing display from IPython.core.display is deprecated since IPython 7.14, please import from IPython display\n",
      "  from IPython.core.display import display, HTML\n"
     ]
    },
    {
     "data": {
      "text/html": [
       "OLS 회귀 분석 결과 (연도 더미 제외 표시)<br><table style=\"text-align:center\"><tr><td colspan=\"2\" style=\"border-bottom: 1px solid black\"></td></tr>\n",
       "<tr><td style=\"text-align:left\"></td><td colspan=\"1\"><em>Dependent variable: log_salary_next</em></td></tr><tr><td style=\"text-align:left\"></td><tr><td style=\"text-align:left\"></td><td>(1)</td></tr>\n",
       "<tr><td colspan=\"2\" style=\"border-bottom: 1px solid black\"></td></tr>\n",
       "\n",
       "<tr><td style=\"text-align:left\">W</td><td>0.023<sup>**</sup></td></tr>\n",
       "<tr><td style=\"text-align:left\"></td><td>(0.010)</td></tr>\n",
       "<tr><td style=\"text-align:left\">ERA</td><td>0.088<sup></sup></td></tr>\n",
       "<tr><td style=\"text-align:left\"></td><td>(0.060)</td></tr>\n",
       "<tr><td style=\"text-align:left\">IP</td><td>0.002<sup>***</sup></td></tr>\n",
       "<tr><td style=\"text-align:left\"></td><td>(0.001)</td></tr>\n",
       "<tr><td style=\"text-align:left\">K9</td><td>0.024<sup></sup></td></tr>\n",
       "<tr><td style=\"text-align:left\"></td><td>(0.038)</td></tr>\n",
       "<tr><td style=\"text-align:left\">BB9</td><td>-0.045<sup></sup></td></tr>\n",
       "<tr><td style=\"text-align:left\"></td><td>(0.048)</td></tr>\n",
       "<tr><td style=\"text-align:left\">WHIP</td><td>0.038<sup></sup></td></tr>\n",
       "<tr><td style=\"text-align:left\"></td><td>(0.360)</td></tr>\n",
       "<tr><td style=\"text-align:left\">FIP</td><td>-0.123<sup></sup></td></tr>\n",
       "<tr><td style=\"text-align:left\"></td><td>(0.089)</td></tr>\n",
       "<tr><td style=\"text-align:left\">age</td><td>0.106<sup>***</sup></td></tr>\n",
       "<tr><td style=\"text-align:left\"></td><td>(0.010)</td></tr>\n",
       "<tr><td style=\"text-align:left\">fa</td><td>-0.008<sup></sup></td></tr>\n",
       "<tr><td style=\"text-align:left\"></td><td>(0.223)</td></tr>\n",
       "<tr><td style=\"text-align:left\">const</td><td>14.620<sup>***</sup></td></tr>\n",
       "<tr><td style=\"text-align:left\"></td><td>(0.782)</td></tr>\n",
       "\n",
       "<td colspan=\"2\" style=\"border-bottom: 1px solid black\"></td></tr>\n",
       "<tr><td style=\"text-align: left\">Observations</td><td>297</td></tr><tr><td style=\"text-align: left\">R<sup>2</sup></td><td>0.480</td></tr><tr><td style=\"text-align: left\">Adjusted R<sup>2</sup></td><td>0.436</td></tr><tr><td style=\"text-align: left\">Residual Std. Error</td><td>0.747 (df=273)</td></tr><tr><td style=\"text-align: left\">F Statistic</td><td>10.954<sup>***</sup> (df=23; 273)</td></tr>\n",
       "<tr><td colspan=\"2\" style=\"border-bottom: 1px solid black\"></td></tr><tr><td style=\"text-align: left\">Note:</td><td colspan=\"1\" style=\"text-align: right\"><sup>*</sup>p&lt;0.1; <sup>**</sup>p&lt;0.05; <sup>***</sup>p&lt;0.01</td></tr></table>"
      ],
      "text/plain": [
       "<IPython.core.display.HTML object>"
      ]
     },
     "metadata": {},
     "output_type": "display_data"
    }
   ],
   "source": [
    "from stargazer.stargazer import Stargazer\n",
    "from IPython.core.display import display, HTML\n",
    "import statsmodels.api as sm\n",
    "\n",
    "# 사용할 변수들\n",
    "features = [\n",
    "    \"W\", \"ERA\", \"IP\", \"K9\", \"BB9\",\n",
    "    \"WHIP\", \"FIP\", \"age\", \"fa\"\n",
    "] + [col for col in df_log.columns if col.startswith(\"year_\")]\n",
    "\n",
    "X = df_log[features]\n",
    "X = sm.add_constant(X)\n",
    "y = df_log[\"log_salary_next\"]\n",
    "\n",
    "valid_idx = X.notnull().all(axis=1) & y.notnull()\n",
    "X_valid = X.loc[valid_idx].astype(float)\n",
    "y_valid = y.loc[valid_idx].astype(float)\n",
    "\n",
    "# 회귀 실행\n",
    "model = sm.OLS(y_valid, X_valid).fit()\n",
    "\n",
    "# 📄 출력하고 싶은 변수만 지정 (연도 더미 제외)\n",
    "main_vars = [\"W\", \"ERA\", \"IP\", \"K9\", \"BB9\", \"WHIP\", \"FIP\", \"age\", \"fa\", \"const\"]\n",
    "\n",
    "# Stargazer 출력 설정\n",
    "stargazer = Stargazer([model])\n",
    "stargazer.title(\"OLS 회귀 분석 결과 (연도 더미 제외 표시)\")\n",
    "stargazer.covariate_order(main_vars)\n",
    "\n",
    "# 예쁘게 출력\n",
    "display(HTML(stargazer.render_html()))"
   ]
  },
  {
   "cell_type": "code",
   "execution_count": 15,
   "id": "3e3fe2f5-b709-49c2-b570-e158cbe8f944",
   "metadata": {},
   "outputs": [
    {
     "name": "stdout",
     "output_type": "stream",
     "text": [
      "      feature         VIF\n",
      "5        WHIP  118.842374\n",
      "6         FIP   68.192719\n",
      "1         ERA   41.370908\n",
      "7         age   34.287072\n",
      "2          IP   28.920716\n",
      "4         BB9   21.404207\n",
      "3          K9   19.301187\n",
      "0           W   18.461913\n",
      "20  year_2021    4.372099\n",
      "21  year_2022    4.365237\n",
      "17  year_2018    4.307742\n",
      "19  year_2020    4.280240\n",
      "22  year_2023    4.214955\n",
      "18  year_2019    4.150785\n",
      "16  year_2017    3.896365\n",
      "15  year_2016    3.759932\n",
      "13  year_2014    3.627868\n",
      "14  year_2015    3.413304\n",
      "12  year_2013    2.859610\n",
      "10  year_2010    2.825209\n",
      "11  year_2012    2.782622\n",
      "9   year_2009    2.777002\n",
      "8          fa    1.161230\n"
     ]
    }
   ],
   "source": [
    "from statsmodels.stats.outliers_influence import variance_inflation_factor\n",
    "\n",
    "X_vif = X_valid.drop(columns=[\"const\"])\n",
    "\n",
    "vif_df = pd.DataFrame({\n",
    "    \"feature\": X_vif.columns,\n",
    "    \"VIF\": [variance_inflation_factor(X_vif.values, i) for i in range(X_vif.shape[1])]\n",
    "})\n",
    "\n",
    "print(vif_df.sort_values(\"VIF\", ascending=False))"
   ]
  },
  {
   "cell_type": "markdown",
   "id": "209be395-21cd-49cb-8c62-65ff131a0db2",
   "metadata": {},
   "source": [
    "# VIF 결과로 몇가지 변수 제외 후 진행"
   ]
  },
  {
   "cell_type": "code",
   "execution_count": 30,
   "id": "14b77f6c-b1ec-424a-9d5d-e6386630e0b0",
   "metadata": {},
   "outputs": [
    {
     "name": "stdout",
     "output_type": "stream",
     "text": [
      "                            OLS Regression Results                            \n",
      "==============================================================================\n",
      "Dep. Variable:        log_salary_next   R-squared:                       0.218\n",
      "Model:                            OLS   Adj. R-squared:                  0.167\n",
      "Method:                 Least Squares   F-statistic:                     4.301\n",
      "Date:                Fri, 13 Jun 2025   Prob (F-statistic):           4.17e-08\n",
      "Time:                        01:33:54   Log-Likelihood:                -382.80\n",
      "No. Observations:                 297   AIC:                             803.6\n",
      "Df Residuals:                     278   BIC:                             873.8\n",
      "Df Model:                          18                                         \n",
      "Covariance Type:            nonrobust                                         \n",
      "==============================================================================\n",
      "                 coef    std err          t      P>|t|      [0.025      0.975]\n",
      "------------------------------------------------------------------------------\n",
      "const         17.6536      0.506     34.907      0.000      16.658      18.649\n",
      "W              0.0202      0.012      1.675      0.095      -0.004       0.044\n",
      "IP             0.0021      0.001      1.993      0.047    2.49e-05       0.004\n",
      "FIP           -0.0516      0.069     -0.750      0.454      -0.187       0.084\n",
      "fa             0.4228      0.266      1.589      0.113      -0.101       0.946\n",
      "year_2009      0.5529      0.406      1.362      0.174      -0.246       1.352\n",
      "year_2010      0.3166      0.401      0.789      0.431      -0.474       1.107\n",
      "year_2012      0.7272      0.402      1.807      0.072      -0.065       1.519\n",
      "year_2013      0.6830      0.401      1.704      0.089      -0.106       1.472\n",
      "year_2014      0.7410      0.390      1.900      0.058      -0.027       1.508\n",
      "year_2015      0.9399      0.394      2.385      0.018       0.164       1.716\n",
      "year_2016      0.5742      0.387      1.485      0.139      -0.187       1.335\n",
      "year_2017      0.6898      0.384      1.797      0.073      -0.066       1.445\n",
      "year_2018      0.9895      0.381      2.599      0.010       0.240       1.739\n",
      "year_2019      0.8970      0.374      2.401      0.017       0.161       1.633\n",
      "year_2020      1.0050      0.381      2.640      0.009       0.256       1.754\n",
      "year_2021      0.6699      0.372      1.799      0.073      -0.063       1.403\n",
      "year_2022      0.7963      0.373      2.137      0.034       0.063       1.530\n",
      "year_2023      0.9998      0.374      2.670      0.008       0.263       1.737\n",
      "==============================================================================\n",
      "Omnibus:                        7.402   Durbin-Watson:                   0.948\n",
      "Prob(Omnibus):                  0.025   Jarque-Bera (JB):                4.152\n",
      "Skew:                          -0.029   Prob(JB):                        0.125\n",
      "Kurtosis:                       2.424   Cond. No.                     6.63e+03\n",
      "==============================================================================\n",
      "\n",
      "Notes:\n",
      "[1] Standard Errors assume that the covariance matrix of the errors is correctly specified.\n",
      "[2] The condition number is large, 6.63e+03. This might indicate that there are\n",
      "strong multicollinearity or other numerical problems.\n"
     ]
    }
   ],
   "source": [
    "# 사용할 변수들\n",
    "features = [\n",
    "    \"W\", \"IP\",\n",
    "    \"FIP\", \"fa\"\n",
    "] + [col for col in df_log.columns if col.startswith(\"year_\")]\n",
    "\n",
    "X = df_log[features]\n",
    "X = sm.add_constant(X)\n",
    "y = df_log[\"log_salary_next\"]\n",
    "\n",
    "valid_idx = X.notnull().all(axis=1) & y.notnull()\n",
    "X_valid = X.loc[valid_idx].astype(float)\n",
    "y_valid = y.loc[valid_idx].astype(float)\n",
    "\n",
    "model = sm.OLS(y_valid, X_valid).fit()\n",
    "print(model.summary())"
   ]
  },
  {
   "cell_type": "code",
   "execution_count": 42,
   "id": "d9aed8bc-fca7-4fbb-ab17-141f54ba541d",
   "metadata": {},
   "outputs": [
    {
     "name": "stdout",
     "output_type": "stream",
     "text": [
      "       feature        VIF\n",
      "2          age  21.226653\n",
      "13   year_2019   2.930891\n",
      "16   year_2022   2.803202\n",
      "17   year_2023   2.762073\n",
      "15   year_2021   2.717003\n",
      "14   year_2020   2.713057\n",
      "12   year_2018   2.656380\n",
      "11   year_2017   2.518832\n",
      "8    year_2014   2.480393\n",
      "10   year_2016   2.428554\n",
      "9    year_2015   2.327403\n",
      "7    year_2013   2.092351\n",
      "6    year_2012   2.044310\n",
      "1   pca_volume   1.981821\n",
      "0     pca_perf   1.954556\n",
      "5    year_2010   1.927539\n",
      "4    year_2009   1.816499\n",
      "3           fa   1.151445\n"
     ]
    }
   ],
   "source": [
    "from statsmodels.stats.outliers_influence import variance_inflation_factor\n",
    "\n",
    "X_vif = X_valid.drop(columns=[\"const\"])\n",
    "\n",
    "vif_df = pd.DataFrame({\n",
    "    \"feature\": X_vif.columns,\n",
    "    \"VIF\": [variance_inflation_factor(X_vif.values, i) for i in range(X_vif.shape[1])]\n",
    "})\n",
    "\n",
    "print(vif_df.sort_values(\"VIF\", ascending=False))"
   ]
  },
  {
   "cell_type": "markdown",
   "id": "ee1b3357-3c05-41f7-ba8f-b663e9e75eed",
   "metadata": {},
   "source": [
    "# PCA"
   ]
  },
  {
   "cell_type": "code",
   "execution_count": 43,
   "id": "ef9065d3-c6f4-4bb4-8585-6d6d746a6ed7",
   "metadata": {},
   "outputs": [],
   "source": [
    "from sklearn.decomposition import PCA\n",
    "from sklearn.preprocessing import StandardScaler\n",
    "import pandas as pd\n",
    "\n",
    "# 공선성 높은 그룹 1 (투구 성과 관련): ERA, FIP, WHIP, K9, BB9\n",
    "group1 = df_log[[\"ERA\", \"FIP\", \"WHIP\", \"K9\", \"BB9\"]]\n",
    "\n",
    "# 공선성 높은 그룹 2 (투구 양 관련): IP, W\n",
    "group2 = df_log[[\"IP\", \"W\"]]\n",
    "\n",
    "# 1. 정규화\n",
    "scaler1 = StandardScaler()\n",
    "group1_scaled = scaler1.fit_transform(group1)\n",
    "\n",
    "scaler2 = StandardScaler()\n",
    "group2_scaled = scaler2.fit_transform(group2)\n",
    "\n",
    "# 2. PCA 수행\n",
    "pca1 = PCA(n_components=1)\n",
    "df_log[\"pca_perf\"] = pca1.fit_transform(group1_scaled)\n",
    "\n",
    "pca2 = PCA(n_components=1)\n",
    "df_log[\"pca_volume\"] = pca2.fit_transform(group2_scaled)"
   ]
  },
  {
   "cell_type": "code",
   "execution_count": 44,
   "id": "673c7905-c285-4745-b80a-b131d4f03263",
   "metadata": {},
   "outputs": [],
   "source": [
    "features = [\n",
    "    \"pca_perf\",        # 성과 PCA\n",
    "    \"pca_volume\",      # 투구양 PCA\n",
    "    \"age\", \"fa\"\n",
    "] + [col for col in df_log.columns if col.startswith(\"year_\")]"
   ]
  },
  {
   "cell_type": "code",
   "execution_count": 45,
   "id": "1b658428-0f88-4a82-8af7-7fc6ec3f2e7a",
   "metadata": {},
   "outputs": [],
   "source": [
    "features = [\n",
    "    \"pca_perf\",         # 성과 PCA\n",
    "    \"pca_volume\",       # 투구양 PCA\n",
    "    \"age\", \"fa\"\n",
    "] + [col for col in df_log.columns if col.startswith(\"year_\")]"
   ]
  },
  {
   "cell_type": "code",
   "execution_count": 46,
   "id": "eef0bf3e-89ba-4e31-89b7-1e8e79fbcf7b",
   "metadata": {},
   "outputs": [
    {
     "name": "stdout",
     "output_type": "stream",
     "text": [
      "                            OLS Regression Results                            \n",
      "==============================================================================\n",
      "Dep. Variable:        log_salary_next   R-squared:                       0.468\n",
      "Model:                            OLS   Adj. R-squared:                  0.433\n",
      "Method:                 Least Squares   F-statistic:                     13.56\n",
      "Date:                Fri, 13 Jun 2025   Prob (F-statistic):           9.76e-29\n",
      "Time:                        01:38:35   Log-Likelihood:                -325.68\n",
      "No. Observations:                 297   AIC:                             689.4\n",
      "Df Residuals:                     278   BIC:                             759.5\n",
      "Df Model:                          18                                         \n",
      "Covariance Type:            nonrobust                                         \n",
      "==============================================================================\n",
      "                 coef    std err          t      P>|t|      [0.025      0.975]\n",
      "------------------------------------------------------------------------------\n",
      "const         15.3889      0.368     41.805      0.000      14.664      16.114\n",
      "pca_perf      -0.0348      0.034     -1.030      0.304      -0.101       0.032\n",
      "pca_volume     0.3433      0.045      7.669      0.000       0.255       0.431\n",
      "age            0.1071      0.009     11.442      0.000       0.089       0.126\n",
      "fa            -0.0298      0.223     -0.134      0.894      -0.469       0.409\n",
      "year_2009      0.5759      0.334      1.723      0.086      -0.082       1.234\n",
      "year_2010      0.2736      0.331      0.826      0.410      -0.378       0.926\n",
      "year_2012      0.5049      0.331      1.526      0.128      -0.146       1.156\n",
      "year_2013      0.3785      0.332      1.142      0.255      -0.274       1.031\n",
      "year_2014      0.3579      0.322      1.110      0.268      -0.277       0.993\n",
      "year_2015      0.5217      0.326      1.601      0.111      -0.120       1.163\n",
      "year_2016      0.3427      0.319      1.073      0.284      -0.286       0.971\n",
      "year_2017      0.4105      0.315      1.305      0.193      -0.209       1.030\n",
      "year_2018      0.7443      0.313      2.374      0.018       0.127       1.361\n",
      "year_2019      0.6147      0.309      1.990      0.048       0.007       1.223\n",
      "year_2020      0.8133      0.315      2.583      0.010       0.194       1.433\n",
      "year_2021      0.6201      0.307      2.020      0.044       0.016       1.224\n",
      "year_2022      0.6778      0.306      2.213      0.028       0.075       1.281\n",
      "year_2023      0.8652      0.307      2.817      0.005       0.261       1.470\n",
      "==============================================================================\n",
      "Omnibus:                        2.844   Durbin-Watson:                   1.163\n",
      "Prob(Omnibus):                  0.241   Jarque-Bera (JB):                2.556\n",
      "Skew:                          -0.214   Prob(JB):                        0.279\n",
      "Kurtosis:                       3.151   Cond. No.                         709.\n",
      "==============================================================================\n",
      "\n",
      "Notes:\n",
      "[1] Standard Errors assume that the covariance matrix of the errors is correctly specified.\n"
     ]
    }
   ],
   "source": [
    "import statsmodels.api as sm\n",
    "\n",
    "X = df_log[features]\n",
    "X = sm.add_constant(X)\n",
    "y = df_log[\"log_salary_next\"]\n",
    "\n",
    "# 결측값 제거\n",
    "valid_idx = X.notnull().all(axis=1) & y.notnull()\n",
    "X_valid = X.loc[valid_idx].astype(float)\n",
    "y_valid = y.loc[valid_idx].astype(float)\n",
    "\n",
    "# OLS 회귀 실행\n",
    "model = sm.OLS(y_valid, X_valid).fit()\n",
    "print(model.summary())"
   ]
  },
  {
   "cell_type": "code",
   "execution_count": 47,
   "id": "5ece011d-26f1-4491-bf82-8119f026e231",
   "metadata": {},
   "outputs": [
    {
     "name": "stdout",
     "output_type": "stream",
     "text": [
      "       feature        VIF\n",
      "0     pca_perf   1.954556\n",
      "1   pca_volume   1.981821\n",
      "2          age  21.226653\n",
      "3           fa   1.151445\n",
      "4    year_2009   1.816499\n",
      "5    year_2010   1.927539\n",
      "6    year_2012   2.044310\n",
      "7    year_2013   2.092351\n",
      "8    year_2014   2.480393\n",
      "9    year_2015   2.327403\n",
      "10   year_2016   2.428554\n",
      "11   year_2017   2.518832\n",
      "12   year_2018   2.656380\n",
      "13   year_2019   2.930891\n",
      "14   year_2020   2.713057\n",
      "15   year_2021   2.717003\n",
      "16   year_2022   2.803202\n",
      "17   year_2023   2.762073\n"
     ]
    }
   ],
   "source": [
    "from statsmodels.stats.outliers_influence import variance_inflation_factor\n",
    "import pandas as pd\n",
    "\n",
    "# VIF 계산용: 상수항 제거\n",
    "X_for_vif = X_valid.drop(columns=[\"const\"])\n",
    "vif_df = pd.DataFrame({\n",
    "    \"feature\": X_for_vif.columns,\n",
    "    \"VIF\": [variance_inflation_factor(X_for_vif.values, i)\n",
    "            for i in range(X_for_vif.shape[1])]\n",
    "})\n",
    "print(vif_df)"
   ]
  },
  {
   "cell_type": "markdown",
   "id": "5c2274d0-4d01-46a2-b5fe-c552ee5b92d7",
   "metadata": {},
   "source": [
    "# log_age 대신 age 사용"
   ]
  },
  {
   "cell_type": "code",
   "execution_count": 57,
   "id": "bca69c6d-8f13-4df6-ad8c-ebbe8d347807",
   "metadata": {},
   "outputs": [
    {
     "name": "stdout",
     "output_type": "stream",
     "text": [
      "                            OLS Regression Results                            \n",
      "==============================================================================\n",
      "Dep. Variable:        log_salary_next   R-squared:                       0.468\n",
      "Model:                            OLS   Adj. R-squared:                  0.433\n",
      "Method:                 Least Squares   F-statistic:                     13.57\n",
      "Date:                Thu, 05 Jun 2025   Prob (F-statistic):           9.62e-29\n",
      "Time:                        02:44:14   Log-Likelihood:                -325.67\n",
      "No. Observations:                 297   AIC:                             689.3\n",
      "Df Residuals:                     278   BIC:                             759.5\n",
      "Df Model:                          18                                         \n",
      "Covariance Type:            nonrobust                                         \n",
      "==============================================================================\n",
      "                 coef    std err          t      P>|t|      [0.025      0.975]\n",
      "------------------------------------------------------------------------------\n",
      "const         15.3910      0.368     41.833      0.000      14.667      16.115\n",
      "pca_perf       0.0381      0.036      1.045      0.297      -0.034       0.110\n",
      "pca_volume     0.3327      0.052      6.444      0.000       0.231       0.434\n",
      "age            0.1071      0.009     11.441      0.000       0.089       0.125\n",
      "fa            -0.0293      0.223     -0.131      0.896      -0.468       0.410\n",
      "year_2009      0.5757      0.334      1.723      0.086      -0.082       1.233\n",
      "year_2010      0.2732      0.331      0.825      0.410      -0.379       0.925\n",
      "year_2012      0.5024      0.331      1.519      0.130      -0.149       1.154\n",
      "year_2013      0.3782      0.332      1.141      0.255      -0.275       1.031\n",
      "year_2014      0.3564      0.322      1.106      0.270      -0.278       0.991\n",
      "year_2015      0.5211      0.326      1.599      0.111      -0.120       1.162\n",
      "year_2016      0.3421      0.319      1.072      0.285      -0.286       0.970\n",
      "year_2017      0.4082      0.314      1.299      0.195      -0.211       1.027\n",
      "year_2018      0.7426      0.313      2.371      0.018       0.126       1.359\n",
      "year_2019      0.6136      0.309      1.986      0.048       0.005       1.222\n",
      "year_2020      0.8133      0.315      2.584      0.010       0.194       1.433\n",
      "year_2021      0.6196      0.307      2.019      0.044       0.015       1.224\n",
      "year_2022      0.6753      0.306      2.205      0.028       0.072       1.278\n",
      "year_2023      0.8628      0.307      2.809      0.005       0.258       1.467\n",
      "==============================================================================\n",
      "Omnibus:                        2.819   Durbin-Watson:                   1.162\n",
      "Prob(Omnibus):                  0.244   Jarque-Bera (JB):                2.531\n",
      "Skew:                          -0.213   Prob(JB):                        0.282\n",
      "Kurtosis:                       3.151   Cond. No.                         709.\n",
      "==============================================================================\n",
      "\n",
      "Notes:\n",
      "[1] Standard Errors assume that the covariance matrix of the errors is correctly specified.\n"
     ]
    }
   ],
   "source": [
    "# 기존 log_age 제거하고 age 컬럼 넣기\n",
    "features = [\n",
    "    \"pca_perf\", \"pca_volume\",\n",
    "    \"age\",        # log_age 대신\n",
    "    \"fa\"\n",
    "] + [col for col in df_log.columns if col.startswith(\"year_\")]\n",
    "\n",
    "# 회귀용 X, y 구성\n",
    "X = df_log[features]\n",
    "X = sm.add_constant(X)\n",
    "y = df_log[\"log_salary_next\"]\n",
    "\n",
    "# 결측치 제거\n",
    "valid_idx = X.notnull().all(axis=1) & y.notnull()\n",
    "X_valid = X.loc[valid_idx].astype(float)\n",
    "y_valid = y.loc[valid_idx].astype(float)\n",
    "\n",
    "# 회귀 실행\n",
    "model = sm.OLS(y_valid, X_valid).fit()\n",
    "print(model.summary())"
   ]
  },
  {
   "cell_type": "code",
   "execution_count": 58,
   "id": "775f13d5-fe15-4928-a2e2-0c2c046887c8",
   "metadata": {},
   "outputs": [
    {
     "name": "stdout",
     "output_type": "stream",
     "text": [
      "       feature        VIF\n",
      "0     pca_perf   2.582729\n",
      "1   pca_volume   2.646000\n",
      "2          age  21.226023\n",
      "3           fa   1.151630\n",
      "4    year_2009   1.817077\n",
      "5    year_2010   1.927920\n",
      "6    year_2012   2.044887\n",
      "7    year_2013   2.092440\n",
      "8    year_2014   2.479378\n",
      "9    year_2015   2.327538\n",
      "10   year_2016   2.428589\n",
      "11   year_2017   2.516735\n",
      "12   year_2018   2.654302\n",
      "13   year_2019   2.930560\n",
      "14   year_2020   2.714067\n",
      "15   year_2021   2.716564\n",
      "16   year_2022   2.805946\n",
      "17   year_2023   2.763849\n"
     ]
    }
   ],
   "source": [
    "from statsmodels.stats.outliers_influence import variance_inflation_factor\n",
    "\n",
    "X_for_vif = X_valid.drop(columns=[\"const\"])\n",
    "vif_df = pd.DataFrame({\n",
    "    \"feature\": X_for_vif.columns,\n",
    "    \"VIF\": [variance_inflation_factor(X_for_vif.values, i) for i in range(X_for_vif.shape[1])]\n",
    "})\n",
    "print(vif_df)"
   ]
  },
  {
   "cell_type": "markdown",
   "id": "b62012d6-a502-40b8-9494-cdad098924bc",
   "metadata": {},
   "source": [
    "# Lasso / Ridge 회귀로 변수 선택"
   ]
  },
  {
   "cell_type": "code",
   "execution_count": 23,
   "id": "4f5c89a5-dd3f-4572-a52c-bb6aef664fa4",
   "metadata": {},
   "outputs": [
    {
     "name": "stdout",
     "output_type": "stream",
     "text": [
      "pca_perf     -0.052301\n",
      "pca_volume    0.374942\n",
      "age           0.461816\n",
      "fa            0.000000\n",
      "year_2009     0.000000\n",
      "year_2010    -0.010713\n",
      "year_2012    -0.000000\n",
      "year_2013    -0.000000\n",
      "year_2014    -0.000000\n",
      "year_2015     0.000000\n",
      "year_2016    -0.000000\n",
      "year_2017    -0.000000\n",
      "year_2018     0.006504\n",
      "year_2019     0.000000\n",
      "year_2020     0.012844\n",
      "year_2021     0.000000\n",
      "year_2022     0.000000\n",
      "year_2023     0.037502\n",
      "dtype: float64\n"
     ]
    }
   ],
   "source": [
    "from sklearn.linear_model import LassoCV\n",
    "from sklearn.preprocessing import StandardScaler\n",
    "from sklearn.pipeline import make_pipeline\n",
    "\n",
    "# 회귀용 X, y (const 빼고)\n",
    "X_lasso = X_valid.drop(columns=[\"const\"])\n",
    "y_lasso = y_valid\n",
    "\n",
    "# 표준화 + Lasso\n",
    "lasso_pipeline = make_pipeline(StandardScaler(), LassoCV(cv=5, random_state=0))\n",
    "lasso_pipeline.fit(X_lasso, y_lasso)\n",
    "\n",
    "# 계수 추출\n",
    "lasso = lasso_pipeline.named_steps[\"lassocv\"]\n",
    "coef_df = pd.Series(lasso.coef_, index=X_lasso.columns)\n",
    "print(coef_df)"
   ]
  },
  {
   "cell_type": "code",
   "execution_count": 24,
   "id": "4f1fb52a-fb57-42a3-b961-36363ac31689",
   "metadata": {},
   "outputs": [],
   "source": [
    "ols_formula = (\n",
    "    \"log_salary_next ~ pca_volume + age + pca_perf + \"\n",
    "    \"year_2018 + year_2019 + year_2020 + year_2021 + year_2022 + year_2023\"\n",
    ")"
   ]
  },
  {
   "cell_type": "code",
   "execution_count": 25,
   "id": "a514db42-da24-4473-9e65-df5b7fd1366d",
   "metadata": {},
   "outputs": [
    {
     "name": "stdout",
     "output_type": "stream",
     "text": [
      "                            OLS Regression Results                            \n",
      "==============================================================================\n",
      "Dep. Variable:        log_salary_next   R-squared:                       0.459\n",
      "Model:                            OLS   Adj. R-squared:                  0.442\n",
      "Method:                 Least Squares   F-statistic:                     27.06\n",
      "Date:                Thu, 05 Jun 2025   Prob (F-statistic):           1.10e-33\n",
      "Time:                        14:38:46   Log-Likelihood:                -328.03\n",
      "No. Observations:                 297   AIC:                             676.1\n",
      "Df Residuals:                     287   BIC:                             713.0\n",
      "Df Model:                           9                                         \n",
      "Covariance Type:            nonrobust                                         \n",
      "=====================================================================================\n",
      "                        coef    std err          t      P>|t|      [0.025      0.975]\n",
      "-------------------------------------------------------------------------------------\n",
      "Intercept            15.7640      0.268     58.762      0.000      15.236      16.292\n",
      "year_2018[T.True]     0.3475      0.168      2.067      0.040       0.017       0.678\n",
      "year_2019[T.True]     0.2204      0.164      1.341      0.181      -0.103       0.544\n",
      "year_2020[T.True]     0.4182      0.168      2.489      0.013       0.087       0.749\n",
      "year_2021[T.True]     0.2249      0.161      1.399      0.163      -0.092       0.541\n",
      "year_2022[T.True]     0.2871      0.163      1.762      0.079      -0.034       0.608\n",
      "year_2023[T.True]     0.4693      0.163      2.875      0.004       0.148       0.791\n",
      "pca_volume            0.3417      0.044      7.776      0.000       0.255       0.428\n",
      "age                   0.1077      0.009     11.999      0.000       0.090       0.125\n",
      "pca_perf             -0.0332      0.033     -1.010      0.313      -0.098       0.031\n",
      "==============================================================================\n",
      "Omnibus:                        2.323   Durbin-Watson:                   1.182\n",
      "Prob(Omnibus):                  0.313   Jarque-Bera (JB):                2.118\n",
      "Skew:                          -0.203   Prob(JB):                        0.347\n",
      "Kurtosis:                       3.075   Cond. No.                         190.\n",
      "==============================================================================\n",
      "\n",
      "Notes:\n",
      "[1] Standard Errors assume that the covariance matrix of the errors is correctly specified.\n"
     ]
    }
   ],
   "source": [
    "import statsmodels.formula.api as smf\n",
    "\n",
    "# 회귀 실행\n",
    "model = smf.ols(formula=ols_formula, data=df_log).fit()\n",
    "print(model.summary())"
   ]
  },
  {
   "cell_type": "markdown",
   "id": "2f7a48dc-7268-4061-88b9-eaac315aa90f",
   "metadata": {},
   "source": [
    "# PCA 재정의"
   ]
  },
  {
   "cell_type": "code",
   "execution_count": 48,
   "id": "07fbfdf5-06c9-4fa6-a6d6-e1cbea1a40c3",
   "metadata": {},
   "outputs": [],
   "source": [
    "features = [\n",
    "    \"pca_perf\",     # 성과 PCA\n",
    "    # \"pca_volume\",   # IP 단독 PCA or 그냥 IP\n",
    "    \"W\",            # ✔️ 따로 보존\n",
    "    \"age\"           # log_age 아님\n",
    "] + [col for col in df_log.columns if col.startswith(\"year_20\")]"
   ]
  },
  {
   "cell_type": "code",
   "execution_count": 49,
   "id": "9b873a26-8ece-42dc-8012-ef1cc0563ab6",
   "metadata": {},
   "outputs": [],
   "source": [
    "from sklearn.decomposition import PCA\n",
    "from sklearn.preprocessing import StandardScaler\n",
    "\n",
    "# group1: 성과 관련\n",
    "group1 = df_log[[\"ERA\", \"FIP\", \"WHIP\", \"K9\", \"BB9\", \"IP\"]]\n",
    "group1_scaled = StandardScaler().fit_transform(group1)\n",
    "pca1 = PCA(n_components=1)\n",
    "df_log[\"pca_perf\"] = pca1.fit_transform(group1_scaled)\n",
    "\n",
    "# group2: IP만 (또는 사용 안 해도 됨)\n",
    "# group2 = df_log[[\"IP\"]]\n",
    "# group2_scaled = StandardScaler().fit_transform(group2)\n",
    "# pca2 = PCA(n_components=1)\n",
    "# df_log[\"pca_volume\"] = pca2.fit_transform(group2_scaled)"
   ]
  },
  {
   "cell_type": "code",
   "execution_count": 50,
   "id": "10e7efa5-f61b-44fa-bd3a-d438e07606f6",
   "metadata": {},
   "outputs": [
    {
     "name": "stdout",
     "output_type": "stream",
     "text": [
      "                            OLS Regression Results                            \n",
      "==============================================================================\n",
      "Dep. Variable:        log_salary_next   R-squared:                       0.455\n",
      "Model:                            OLS   Adj. R-squared:                  0.422\n",
      "Method:                 Least Squares   F-statistic:                     13.73\n",
      "Date:                Fri, 13 Jun 2025   Prob (F-statistic):           4.74e-28\n",
      "Time:                        01:38:55   Log-Likelihood:                -329.01\n",
      "No. Observations:                 297   AIC:                             694.0\n",
      "Df Residuals:                     279   BIC:                             760.5\n",
      "Df Model:                          17                                         \n",
      "Covariance Type:            nonrobust                                         \n",
      "==============================================================================\n",
      "                 coef    std err          t      P>|t|      [0.025      0.975]\n",
      "------------------------------------------------------------------------------\n",
      "const         14.7371      0.395     37.299      0.000      13.959      15.515\n",
      "pca_perf      -0.0680      0.035     -1.956      0.051      -0.136       0.000\n",
      "W              0.0403      0.007      5.881      0.000       0.027       0.054\n",
      "age            0.1062      0.009     11.425      0.000       0.088       0.124\n",
      "year_2009      0.6050      0.337      1.795      0.074      -0.058       1.268\n",
      "year_2010      0.3159      0.333      0.949      0.344      -0.340       0.971\n",
      "year_2012      0.5698      0.333      1.710      0.088      -0.086       1.226\n",
      "year_2013      0.4024      0.333      1.208      0.228      -0.253       1.058\n",
      "year_2014      0.4268      0.324      1.319      0.188      -0.210       1.064\n",
      "year_2015      0.5776      0.327      1.767      0.078      -0.066       1.221\n",
      "year_2016      0.4103      0.320      1.282      0.201      -0.220       1.040\n",
      "year_2017      0.5012      0.317      1.580      0.115      -0.123       1.126\n",
      "year_2018      0.8219      0.316      2.601      0.010       0.200       1.444\n",
      "year_2019      0.6117      0.311      1.965      0.050      -0.001       1.225\n",
      "year_2020      0.8252      0.316      2.608      0.010       0.202       1.448\n",
      "year_2021      0.6215      0.310      2.005      0.046       0.011       1.232\n",
      "year_2022      0.7078      0.309      2.289      0.023       0.099       1.317\n",
      "year_2023      0.9009      0.311      2.894      0.004       0.288       1.514\n",
      "==============================================================================\n",
      "Omnibus:                        4.366   Durbin-Watson:                   1.171\n",
      "Prob(Omnibus):                  0.113   Jarque-Bera (JB):                4.065\n",
      "Skew:                          -0.272   Prob(JB):                        0.131\n",
      "Kurtosis:                       3.183   Cond. No.                         811.\n",
      "==============================================================================\n",
      "\n",
      "Notes:\n",
      "[1] Standard Errors assume that the covariance matrix of the errors is correctly specified.\n"
     ]
    }
   ],
   "source": [
    "import statsmodels.api as sm\n",
    "\n",
    "# 1. 설명 변수 + 상수항\n",
    "X = df_log[features]\n",
    "X = sm.add_constant(X)\n",
    "\n",
    "# 2. 종속 변수\n",
    "y = df_log[\"log_salary_next\"]\n",
    "\n",
    "# 3. 결측치 제거\n",
    "valid_idx = X.notnull().all(axis=1) & y.notnull()\n",
    "X_valid = X.loc[valid_idx].astype(float)\n",
    "y_valid = y.loc[valid_idx].astype(float)\n",
    "\n",
    "# 4. OLS 회귀 실행\n",
    "model = sm.OLS(y_valid, X_valid).fit()\n",
    "print(model.summary())"
   ]
  },
  {
   "cell_type": "code",
   "execution_count": 51,
   "id": "a1c6d351-da05-41fb-9801-e3ec5f38c308",
   "metadata": {},
   "outputs": [
    {
     "name": "stdout",
     "output_type": "stream",
     "text": [
      "      feature        VIF\n",
      "0    pca_perf   2.280188\n",
      "1           W   7.434084\n",
      "2         age  21.983897\n",
      "3   year_2009   1.929072\n",
      "4   year_2010   2.008893\n",
      "5   year_2012   2.042990\n",
      "6   year_2013   2.125938\n",
      "7   year_2014   2.508452\n",
      "8   year_2015   2.377347\n",
      "9   year_2016   2.527562\n",
      "10  year_2017   2.623232\n",
      "11  year_2018   2.750615\n",
      "12  year_2019   2.876071\n",
      "13  year_2020   2.734443\n",
      "14  year_2021   2.738824\n",
      "15  year_2022   2.716507\n",
      "16  year_2023   2.750699\n"
     ]
    }
   ],
   "source": [
    "from statsmodels.stats.outliers_influence import variance_inflation_factor\n",
    "import pandas as pd\n",
    "\n",
    "# const 제외 후 VIF 계산\n",
    "X_for_vif = X_valid.drop(columns=[\"const\"])\n",
    "vif_df = pd.DataFrame({\n",
    "    \"feature\": X_for_vif.columns,\n",
    "    \"VIF\": [variance_inflation_factor(X_for_vif.values, i)\n",
    "            for i in range(X_for_vif.shape[1])]\n",
    "})\n",
    "print(vif_df)"
   ]
  },
  {
   "cell_type": "markdown",
   "id": "a367cc14-8818-4c88-b4bd-ddcbb9a6b7b8",
   "metadata": {},
   "source": [
    "# PCA 재재정의"
   ]
  },
  {
   "cell_type": "code",
   "execution_count": 52,
   "id": "189753cb-ec99-43ea-93db-652d15d400f6",
   "metadata": {},
   "outputs": [],
   "source": [
    "group1_fixed = pd.DataFrame({\n",
    "    \"ERA\": -df_log[\"ERA\"],\n",
    "    \"FIP\": -df_log[\"FIP\"],\n",
    "    \"WHIP\": -df_log[\"WHIP\"],\n",
    "    \"K9\":  df_log[\"K9\"],   # 탈삼진은 유지\n",
    "    \"BB9\": -df_log[\"BB9\"],\n",
    "    \"IP\": df_log[\"IP\"]\n",
    "})"
   ]
  },
  {
   "cell_type": "code",
   "execution_count": 53,
   "id": "da31536f-37ab-4b33-8621-77ead27603a4",
   "metadata": {},
   "outputs": [],
   "source": [
    "from sklearn.preprocessing import StandardScaler\n",
    "from sklearn.decomposition import PCA\n",
    "\n",
    "scaled = StandardScaler().fit_transform(group1_fixed)\n",
    "pca = PCA(n_components=1)\n",
    "df_log[\"pca_perf\"] = pca.fit_transform(scaled)"
   ]
  },
  {
   "cell_type": "code",
   "execution_count": 54,
   "id": "14316950-b5b1-4dd7-a946-7392c1873772",
   "metadata": {},
   "outputs": [
    {
     "name": "stdout",
     "output_type": "stream",
     "text": [
      "                            OLS Regression Results                            \n",
      "==============================================================================\n",
      "Dep. Variable:        log_salary_next   R-squared:                       0.455\n",
      "Model:                            OLS   Adj. R-squared:                  0.422\n",
      "Method:                 Least Squares   F-statistic:                     13.73\n",
      "Date:                Fri, 13 Jun 2025   Prob (F-statistic):           4.74e-28\n",
      "Time:                        01:39:02   Log-Likelihood:                -329.01\n",
      "No. Observations:                 297   AIC:                             694.0\n",
      "Df Residuals:                     279   BIC:                             760.5\n",
      "Df Model:                          17                                         \n",
      "Covariance Type:            nonrobust                                         \n",
      "==============================================================================\n",
      "                 coef    std err          t      P>|t|      [0.025      0.975]\n",
      "------------------------------------------------------------------------------\n",
      "const         14.7371      0.395     37.299      0.000      13.959      15.515\n",
      "pca_perf       0.0680      0.035      1.956      0.051      -0.000       0.136\n",
      "W              0.0403      0.007      5.881      0.000       0.027       0.054\n",
      "age            0.1062      0.009     11.425      0.000       0.088       0.124\n",
      "year_2009      0.6050      0.337      1.795      0.074      -0.058       1.268\n",
      "year_2010      0.3159      0.333      0.949      0.344      -0.340       0.971\n",
      "year_2012      0.5698      0.333      1.710      0.088      -0.086       1.226\n",
      "year_2013      0.4024      0.333      1.208      0.228      -0.253       1.058\n",
      "year_2014      0.4268      0.324      1.319      0.188      -0.210       1.064\n",
      "year_2015      0.5776      0.327      1.767      0.078      -0.066       1.221\n",
      "year_2016      0.4103      0.320      1.282      0.201      -0.220       1.040\n",
      "year_2017      0.5012      0.317      1.580      0.115      -0.123       1.126\n",
      "year_2018      0.8219      0.316      2.601      0.010       0.200       1.444\n",
      "year_2019      0.6117      0.311      1.965      0.050      -0.001       1.225\n",
      "year_2020      0.8252      0.316      2.608      0.010       0.202       1.448\n",
      "year_2021      0.6215      0.310      2.005      0.046       0.011       1.232\n",
      "year_2022      0.7078      0.309      2.289      0.023       0.099       1.317\n",
      "year_2023      0.9009      0.311      2.894      0.004       0.288       1.514\n",
      "==============================================================================\n",
      "Omnibus:                        4.366   Durbin-Watson:                   1.171\n",
      "Prob(Omnibus):                  0.113   Jarque-Bera (JB):                4.065\n",
      "Skew:                          -0.272   Prob(JB):                        0.131\n",
      "Kurtosis:                       3.183   Cond. No.                         811.\n",
      "==============================================================================\n",
      "\n",
      "Notes:\n",
      "[1] Standard Errors assume that the covariance matrix of the errors is correctly specified.\n"
     ]
    }
   ],
   "source": [
    "import statsmodels.api as sm\n",
    "\n",
    "# 1. 설명 변수 + 상수항\n",
    "X = df_log[features]\n",
    "X = sm.add_constant(X)\n",
    "\n",
    "# 2. 종속 변수\n",
    "y = df_log[\"log_salary_next\"]\n",
    "\n",
    "# 3. 결측치 제거\n",
    "valid_idx = X.notnull().all(axis=1) & y.notnull()\n",
    "X_valid = X.loc[valid_idx].astype(float)\n",
    "y_valid = y.loc[valid_idx].astype(float)\n",
    "\n",
    "# 4. OLS 회귀 실행\n",
    "model = sm.OLS(y_valid, X_valid).fit()\n",
    "print(model.summary())"
   ]
  },
  {
   "cell_type": "code",
   "execution_count": 55,
   "id": "baa85fdf-b7c3-4ad5-a227-e96ed45d6029",
   "metadata": {},
   "outputs": [
    {
     "name": "stdout",
     "output_type": "stream",
     "text": [
      "     variable        VIF\n",
      "0    pca_perf   2.280188\n",
      "1           W   7.434084\n",
      "2         age  21.983897\n",
      "3   year_2009   1.929072\n",
      "4   year_2010   2.008893\n",
      "5   year_2012   2.042990\n",
      "6   year_2013   2.125938\n",
      "7   year_2014   2.508452\n",
      "8   year_2015   2.377347\n",
      "9   year_2016   2.527562\n",
      "10  year_2017   2.623232\n",
      "11  year_2018   2.750615\n",
      "12  year_2019   2.876071\n",
      "13  year_2020   2.734443\n",
      "14  year_2021   2.738824\n",
      "15  year_2022   2.716507\n",
      "16  year_2023   2.750699\n"
     ]
    }
   ],
   "source": [
    "from statsmodels.stats.outliers_influence import variance_inflation_factor\n",
    "\n",
    "# 1. VIF를 계산할 X 데이터 (상수항 제거 필수!)\n",
    "X_vif = X_valid.drop(columns=[\"const\"])\n",
    "\n",
    "# 2. VIF 계산\n",
    "vif_data = pd.DataFrame()\n",
    "vif_data[\"variable\"] = X_vif.columns\n",
    "vif_data[\"VIF\"] = [variance_inflation_factor(X_vif.values, i) for i in range(X_vif.shape[1])]\n",
    "\n",
    "# 3. 결과 출력\n",
    "print(vif_data)"
   ]
  },
  {
   "cell_type": "code",
   "execution_count": 31,
   "id": "f7d243bc-a980-4ac1-a2c8-cbe000556519",
   "metadata": {},
   "outputs": [
    {
     "name": "stderr",
     "output_type": "stream",
     "text": [
      "/var/folders/48/s46fmd9166lflhx4v40_hps80000gn/T/ipykernel_57510/436595744.py:2: DeprecationWarning: Importing display from IPython.core.display is deprecated since IPython 7.14, please import from IPython display\n",
      "  from IPython.core.display import display, HTML\n"
     ]
    },
    {
     "data": {
      "text/html": [
       "OLS 회귀 결과 (연도 더미 제외)<br><table style=\"text-align:center\"><tr><td colspan=\"2\" style=\"border-bottom: 1px solid black\"></td></tr>\n",
       "<tr><td style=\"text-align:left\"></td><td colspan=\"1\"><em>Dependent variable: log_salary_next</em></td></tr><tr><td style=\"text-align:left\"></td><tr><td style=\"text-align:left\"></td><td>(1)</td></tr>\n",
       "<tr><td colspan=\"2\" style=\"border-bottom: 1px solid black\"></td></tr>\n",
       "\n",
       "<tr><td style=\"text-align:left\">const</td><td>15.391<sup>***</sup></td></tr>\n",
       "<tr><td style=\"text-align:left\"></td><td>(0.368)</td></tr>\n",
       "<tr><td style=\"text-align:left\">pca_perf</td><td>0.038<sup></sup></td></tr>\n",
       "<tr><td style=\"text-align:left\"></td><td>(0.036)</td></tr>\n",
       "<tr><td style=\"text-align:left\">pca_volume</td><td>0.333<sup>***</sup></td></tr>\n",
       "<tr><td style=\"text-align:left\"></td><td>(0.052)</td></tr>\n",
       "<tr><td style=\"text-align:left\">age</td><td>0.107<sup>***</sup></td></tr>\n",
       "<tr><td style=\"text-align:left\"></td><td>(0.009)</td></tr>\n",
       "<tr><td style=\"text-align:left\">fa</td><td>-0.029<sup></sup></td></tr>\n",
       "<tr><td style=\"text-align:left\"></td><td>(0.223)</td></tr>\n",
       "\n",
       "<td colspan=\"2\" style=\"border-bottom: 1px solid black\"></td></tr>\n",
       "<tr><td style=\"text-align: left\">Observations</td><td>297</td></tr><tr><td style=\"text-align: left\">R<sup>2</sup></td><td>0.468</td></tr><tr><td style=\"text-align: left\">Adjusted R<sup>2</sup></td><td>0.433</td></tr><tr><td style=\"text-align: left\">Residual Std. Error</td><td>0.749 (df=278)</td></tr><tr><td style=\"text-align: left\">F Statistic</td><td>13.565<sup>***</sup> (df=18; 278)</td></tr>\n",
       "<tr><td colspan=\"2\" style=\"border-bottom: 1px solid black\"></td></tr><tr><td style=\"text-align: left\">Note:</td><td colspan=\"1\" style=\"text-align: right\"><sup>*</sup>p&lt;0.1; <sup>**</sup>p&lt;0.05; <sup>***</sup>p&lt;0.01</td></tr></table>"
      ],
      "text/plain": [
       "<IPython.core.display.HTML object>"
      ]
     },
     "metadata": {},
     "output_type": "display_data"
    }
   ],
   "source": [
    "from stargazer.stargazer import Stargazer\n",
    "from IPython.core.display import display, HTML\n",
    "\n",
    "# 📌 출력할 변수만 수동으로 추림 (연도 더미 제외)\n",
    "main_vars = [col for col in X.columns if not col.startswith(\"year_\")]\n",
    "\n",
    "# Stargazer 적용\n",
    "stargazer = Stargazer([model])\n",
    "stargazer.title(\"OLS 회귀 결과 (연도 더미 제외)\")\n",
    "stargazer.covariate_order(main_vars)  # 연도 더미 안 보이게 설정\n",
    "\n",
    "# HTML로 보기 좋게 출력\n",
    "display(HTML(stargazer.render_html()))"
   ]
  },
  {
   "cell_type": "markdown",
   "id": "8abe3160-ce67-4f63-b06e-28e21e4c9be0",
   "metadata": {},
   "source": [
    "# PCA 여러개 정의"
   ]
  },
  {
   "cell_type": "code",
   "execution_count": 56,
   "id": "6a2f1ad3-e6e1-44bd-83cd-c0e4458592f5",
   "metadata": {},
   "outputs": [],
   "source": [
    "# 오로지 성과만 구성 (IP)는 제거\n",
    "\n",
    "group1_pure_perf = pd.DataFrame({\n",
    "    \"ERA\": -df_log[\"ERA\"],\n",
    "    \"FIP\": -df_log[\"FIP\"],\n",
    "    \"WHIP\": -df_log[\"WHIP\"],\n",
    "    \"K9\":  df_log[\"K9\"],\n",
    "    \"BB9\": -df_log[\"BB9\"]\n",
    "})"
   ]
  },
  {
   "cell_type": "code",
   "execution_count": 57,
   "id": "d49da13e-3f29-47c6-83a6-3f38073330e9",
   "metadata": {},
   "outputs": [],
   "source": [
    "from sklearn.preprocessing import StandardScaler\n",
    "from sklearn.decomposition import PCA\n",
    "\n",
    "scaled = StandardScaler().fit_transform(group1_pure_perf)\n",
    "pca = PCA(n_components=1)\n",
    "df_log[\"pca_perf\"] = pca.fit_transform(scaled)"
   ]
  },
  {
   "cell_type": "code",
   "execution_count": 58,
   "id": "91e6f64b-639b-4db7-bacd-e8cfa2a15646",
   "metadata": {},
   "outputs": [
    {
     "name": "stdout",
     "output_type": "stream",
     "text": [
      "                            OLS Regression Results                            \n",
      "==============================================================================\n",
      "Dep. Variable:        log_salary_next   R-squared:                       0.453\n",
      "Model:                            OLS   Adj. R-squared:                  0.420\n",
      "Method:                 Least Squares   F-statistic:                     13.59\n",
      "Date:                Fri, 13 Jun 2025   Prob (F-statistic):           8.49e-28\n",
      "Time:                        01:39:15   Log-Likelihood:                -329.68\n",
      "No. Observations:                 297   AIC:                             695.4\n",
      "Df Residuals:                     279   BIC:                             761.8\n",
      "Df Model:                          17                                         \n",
      "Covariance Type:            nonrobust                                         \n",
      "==============================================================================\n",
      "                 coef    std err          t      P>|t|      [0.025      0.975]\n",
      "------------------------------------------------------------------------------\n",
      "const         14.6900      0.394     37.280      0.000      13.914      15.466\n",
      "pca_perf       0.0536      0.033      1.602      0.110      -0.012       0.120\n",
      "W              0.0436      0.006      7.080      0.000       0.032       0.056\n",
      "age            0.1060      0.009     11.379      0.000       0.088       0.124\n",
      "year_2009      0.5972      0.338      1.768      0.078      -0.068       1.262\n",
      "year_2010      0.3097      0.334      0.928      0.354      -0.348       0.967\n",
      "year_2012      0.5775      0.334      1.729      0.085      -0.080       1.235\n",
      "year_2013      0.3993      0.334      1.196      0.233      -0.258       1.057\n",
      "year_2014      0.4238      0.325      1.306      0.193      -0.215       1.063\n",
      "year_2015      0.5745      0.328      1.753      0.081      -0.071       1.220\n",
      "year_2016      0.4020      0.321      1.252      0.212      -0.230       1.034\n",
      "year_2017      0.5020      0.318      1.577      0.116      -0.125       1.129\n",
      "year_2018      0.8178      0.317      2.579      0.010       0.194       1.442\n",
      "year_2019      0.6147      0.312      1.970      0.050       0.000       1.229\n",
      "year_2020      0.8154      0.317      2.572      0.011       0.191       1.440\n",
      "year_2021      0.6185      0.311      1.991      0.047       0.007       1.230\n",
      "year_2022      0.7191      0.310      2.321      0.021       0.109       1.329\n",
      "year_2023      0.9084      0.312      2.912      0.004       0.294       1.522\n",
      "==============================================================================\n",
      "Omnibus:                        4.306   Durbin-Watson:                   1.178\n",
      "Prob(Omnibus):                  0.116   Jarque-Bera (JB):                4.011\n",
      "Skew:                          -0.271   Prob(JB):                        0.135\n",
      "Kurtosis:                       3.171   Cond. No.                         811.\n",
      "==============================================================================\n",
      "\n",
      "Notes:\n",
      "[1] Standard Errors assume that the covariance matrix of the errors is correctly specified.\n"
     ]
    }
   ],
   "source": [
    "import statsmodels.api as sm\n",
    "\n",
    "# 1. 설명 변수 + 상수항\n",
    "X = df_log[features]\n",
    "X = sm.add_constant(X)\n",
    "\n",
    "# 2. 종속 변수\n",
    "y = df_log[\"log_salary_next\"]\n",
    "\n",
    "# 3. 결측치 제거\n",
    "valid_idx = X.notnull().all(axis=1) & y.notnull()\n",
    "X_valid = X.loc[valid_idx].astype(float)\n",
    "y_valid = y.loc[valid_idx].astype(float)\n",
    "\n",
    "# 4. OLS 회귀 실행\n",
    "model = sm.OLS(y_valid, X_valid).fit()\n",
    "print(model.summary())"
   ]
  },
  {
   "cell_type": "code",
   "execution_count": 59,
   "id": "13e3d6b6-1868-4c28-9612-5d5715e7e634",
   "metadata": {},
   "outputs": [],
   "source": [
    "# W 혹은 resid_w 포함한 성과 구성\n",
    "\n",
    "group1_perf_w = pd.DataFrame({\n",
    "    \"ERA\": -df_log[\"ERA\"],\n",
    "    \"FIP\": -df_log[\"FIP\"],\n",
    "    \"WHIP\": -df_log[\"WHIP\"],\n",
    "    \"K9\":  df_log[\"K9\"],\n",
    "    \"BB9\": -df_log[\"BB9\"],\n",
    "    \"W\": df_log[\"W\"]    # 또는 \"resid_W\"\n",
    "})"
   ]
  },
  {
   "cell_type": "code",
   "execution_count": 61,
   "id": "850e3505-b217-4b45-844b-8eef49e29883",
   "metadata": {},
   "outputs": [],
   "source": [
    "from sklearn.preprocessing import StandardScaler\n",
    "from sklearn.decomposition import PCA\n",
    "\n",
    "scaled = StandardScaler().fit_transform(group1_perf_w)\n",
    "pca = PCA(n_components=1)\n",
    "df_log[\"pca_perf\"] = pca.fit_transform(scaled)"
   ]
  },
  {
   "cell_type": "code",
   "execution_count": 62,
   "id": "4120c3dc-2730-4cf7-a2f2-0026ab559f0d",
   "metadata": {},
   "outputs": [
    {
     "name": "stdout",
     "output_type": "stream",
     "text": [
      "                            OLS Regression Results                            \n",
      "==============================================================================\n",
      "Dep. Variable:        log_salary_next   R-squared:                       0.453\n",
      "Model:                            OLS   Adj. R-squared:                  0.420\n",
      "Method:                 Least Squares   F-statistic:                     13.59\n",
      "Date:                Fri, 13 Jun 2025   Prob (F-statistic):           8.52e-28\n",
      "Time:                        01:41:32   Log-Likelihood:                -329.68\n",
      "No. Observations:                 297   AIC:                             695.4\n",
      "Df Residuals:                     279   BIC:                             761.8\n",
      "Df Model:                          17                                         \n",
      "Covariance Type:            nonrobust                                         \n",
      "==============================================================================\n",
      "                 coef    std err          t      P>|t|      [0.025      0.975]\n",
      "------------------------------------------------------------------------------\n",
      "const         14.7257      0.397     37.135      0.000      13.945      15.506\n",
      "pca_perf       0.0578      0.036      1.600      0.111      -0.013       0.129\n",
      "W              0.0414      0.007      5.816      0.000       0.027       0.055\n",
      "age            0.1060      0.009     11.377      0.000       0.088       0.124\n",
      "year_2009      0.5972      0.338      1.768      0.078      -0.068       1.262\n",
      "year_2010      0.3097      0.334      0.928      0.354      -0.347       0.967\n",
      "year_2012      0.5776      0.334      1.729      0.085      -0.080       1.235\n",
      "year_2013      0.3995      0.334      1.196      0.233      -0.258       1.057\n",
      "year_2014      0.4240      0.325      1.306      0.193      -0.215       1.063\n",
      "year_2015      0.5748      0.328      1.754      0.081      -0.070       1.220\n",
      "year_2016      0.4022      0.321      1.252      0.212      -0.230       1.034\n",
      "year_2017      0.5020      0.318      1.577      0.116      -0.125       1.129\n",
      "year_2018      0.8180      0.317      2.580      0.010       0.194       1.442\n",
      "year_2019      0.6148      0.312      1.970      0.050       0.001       1.229\n",
      "year_2020      0.8157      0.317      2.572      0.011       0.191       1.440\n",
      "year_2021      0.6188      0.311      1.992      0.047       0.007       1.230\n",
      "year_2022      0.7193      0.310      2.322      0.021       0.109       1.329\n",
      "year_2023      0.9087      0.312      2.913      0.004       0.295       1.523\n",
      "==============================================================================\n",
      "Omnibus:                        4.305   Durbin-Watson:                   1.178\n",
      "Prob(Omnibus):                  0.116   Jarque-Bera (JB):                4.010\n",
      "Skew:                          -0.271   Prob(JB):                        0.135\n",
      "Kurtosis:                       3.171   Cond. No.                         811.\n",
      "==============================================================================\n",
      "\n",
      "Notes:\n",
      "[1] Standard Errors assume that the covariance matrix of the errors is correctly specified.\n"
     ]
    }
   ],
   "source": [
    "import statsmodels.api as sm\n",
    "\n",
    "# 1. 설명 변수 + 상수항\n",
    "X = df_log[features]\n",
    "X = sm.add_constant(X)\n",
    "\n",
    "# 2. 종속 변수\n",
    "y = df_log[\"log_salary_next\"]\n",
    "\n",
    "# 3. 결측치 제거\n",
    "valid_idx = X.notnull().all(axis=1) & y.notnull()\n",
    "X_valid = X.loc[valid_idx].astype(float)\n",
    "y_valid = y.loc[valid_idx].astype(float)\n",
    "\n",
    "# 4. OLS 회귀 실행\n",
    "model = sm.OLS(y_valid, X_valid).fit()\n",
    "print(model.summary())"
   ]
  },
  {
   "cell_type": "code",
   "execution_count": 64,
   "id": "a7a93916-38b7-4125-b60f-2840b47f03e2",
   "metadata": {},
   "outputs": [],
   "source": [
    "# IP 대신 RS 추가?\n",
    "\n",
    "group1_with_rs = pd.DataFrame({\n",
    "    \"ERA\": -df_log[\"ERA\"],\n",
    "    \"FIP\": -df_log[\"FIP\"],\n",
    "    \"WHIP\": -df_log[\"WHIP\"],\n",
    "    \"K9\":  df_log[\"K9\"],\n",
    "    \"BB9\": -df_log[\"BB9\"],\n",
    "    \"RS\": df_log[\"RS\"]\n",
    "})"
   ]
  },
  {
   "cell_type": "code",
   "execution_count": 65,
   "id": "277815b4-7774-4229-a1ca-9c0f9f77a1d5",
   "metadata": {},
   "outputs": [],
   "source": [
    "from sklearn.preprocessing import StandardScaler\n",
    "from sklearn.decomposition import PCA\n",
    "\n",
    "scaled = StandardScaler().fit_transform(group1_with_rs)\n",
    "pca = PCA(n_components=1)\n",
    "df_log[\"pca_perf\"] = pca.fit_transform(scaled)"
   ]
  },
  {
   "cell_type": "code",
   "execution_count": 66,
   "id": "3ade0c96-8823-4cfd-adb1-4556ccb284a7",
   "metadata": {},
   "outputs": [
    {
     "name": "stdout",
     "output_type": "stream",
     "text": [
      "                            OLS Regression Results                            \n",
      "==============================================================================\n",
      "Dep. Variable:        log_salary_next   R-squared:                       0.454\n",
      "Model:                            OLS   Adj. R-squared:                  0.421\n",
      "Method:                 Least Squares   F-statistic:                     13.67\n",
      "Date:                Fri, 13 Jun 2025   Prob (F-statistic):           6.06e-28\n",
      "Time:                        01:42:26   Log-Likelihood:                -329.29\n",
      "No. Observations:                 297   AIC:                             694.6\n",
      "Df Residuals:                     279   BIC:                             761.1\n",
      "Df Model:                          17                                         \n",
      "Covariance Type:            nonrobust                                         \n",
      "==============================================================================\n",
      "                 coef    std err          t      P>|t|      [0.025      0.975]\n",
      "------------------------------------------------------------------------------\n",
      "const         14.7341      0.396     37.228      0.000      13.955      15.513\n",
      "pca_perf       0.0636      0.035      1.815      0.071      -0.005       0.133\n",
      "W              0.0410      0.007      5.992      0.000       0.028       0.054\n",
      "age            0.1060      0.009     11.399      0.000       0.088       0.124\n",
      "year_2009      0.5990      0.337      1.777      0.077      -0.065       1.263\n",
      "year_2010      0.3110      0.333      0.933      0.351      -0.345       0.967\n",
      "year_2012      0.5798      0.334      1.738      0.083      -0.077       1.237\n",
      "year_2013      0.3999      0.333      1.199      0.232      -0.257       1.056\n",
      "year_2014      0.4167      0.324      1.288      0.199      -0.220       1.054\n",
      "year_2015      0.5715      0.327      1.747      0.082      -0.072       1.215\n",
      "year_2016      0.3994      0.320      1.248      0.213      -0.231       1.029\n",
      "year_2017      0.4944      0.317      1.558      0.120      -0.130       1.119\n",
      "year_2018      0.8131      0.316      2.573      0.011       0.191       1.435\n",
      "year_2019      0.6104      0.312      1.958      0.051      -0.003       1.224\n",
      "year_2020      0.8177      0.316      2.584      0.010       0.195       1.441\n",
      "year_2021      0.6176      0.310      1.991      0.047       0.007       1.228\n",
      "year_2022      0.7136      0.309      2.306      0.022       0.104       1.323\n",
      "year_2023      0.9045      0.312      2.903      0.004       0.291       1.518\n",
      "==============================================================================\n",
      "Omnibus:                        4.429   Durbin-Watson:                   1.174\n",
      "Prob(Omnibus):                  0.109   Jarque-Bera (JB):                4.132\n",
      "Skew:                          -0.275   Prob(JB):                        0.127\n",
      "Kurtosis:                       3.179   Cond. No.                         811.\n",
      "==============================================================================\n",
      "\n",
      "Notes:\n",
      "[1] Standard Errors assume that the covariance matrix of the errors is correctly specified.\n"
     ]
    }
   ],
   "source": [
    "import statsmodels.api as sm\n",
    "\n",
    "# 1. 설명 변수 + 상수항\n",
    "X = df_log[features]\n",
    "X = sm.add_constant(X)\n",
    "\n",
    "# 2. 종속 변수\n",
    "y = df_log[\"log_salary_next\"]\n",
    "\n",
    "# 3. 결측치 제거\n",
    "valid_idx = X.notnull().all(axis=1) & y.notnull()\n",
    "X_valid = X.loc[valid_idx].astype(float)\n",
    "y_valid = y.loc[valid_idx].astype(float)\n",
    "\n",
    "# 4. OLS 회귀 실행\n",
    "model = sm.OLS(y_valid, X_valid).fit()\n",
    "print(model.summary())"
   ]
  },
  {
   "cell_type": "markdown",
   "id": "5e0edc4a-f5f1-459e-8b75-5eff0aa39a2b",
   "metadata": {},
   "source": [
    "# PCA components 2개로 만들기"
   ]
  },
  {
   "cell_type": "code",
   "execution_count": 66,
   "id": "056e1fb9-b780-4b93-86fc-5b06f8bf81de",
   "metadata": {},
   "outputs": [
    {
     "name": "stdout",
     "output_type": "stream",
     "text": [
      "                            OLS Regression Results                            \n",
      "==============================================================================\n",
      "Dep. Variable:        log_salary_next   R-squared:                       0.456\n",
      "Model:                            OLS   Adj. R-squared:                  0.421\n",
      "Method:                 Least Squares   F-statistic:                     12.94\n",
      "Date:                Thu, 05 Jun 2025   Prob (F-statistic):           1.60e-27\n",
      "Time:                        02:46:32   Log-Likelihood:                -328.88\n",
      "No. Observations:                 297   AIC:                             695.8\n",
      "Df Residuals:                     278   BIC:                             765.9\n",
      "Df Model:                          18                                         \n",
      "Covariance Type:            nonrobust                                         \n",
      "==============================================================================\n",
      "                 coef    std err          t      P>|t|      [0.025      0.975]\n",
      "------------------------------------------------------------------------------\n",
      "const         14.7948      0.413     35.829      0.000      13.982      15.608\n",
      "pca_perf1      0.0708      0.035      2.007      0.046       0.001       0.140\n",
      "pca_perf2     -0.0253      0.052     -0.488      0.626      -0.127       0.077\n",
      "W              0.0394      0.007      5.579      0.000       0.026       0.053\n",
      "age            0.1043      0.010     10.348      0.000       0.084       0.124\n",
      "year_2009      0.6098      0.338      1.807      0.072      -0.055       1.274\n",
      "year_2010      0.3216      0.334      0.964      0.336      -0.335       0.978\n",
      "year_2012      0.5699      0.334      1.707      0.089      -0.087       1.227\n",
      "year_2013      0.4109      0.334      1.230      0.220      -0.247       1.069\n",
      "year_2014      0.4365      0.325      1.345      0.180      -0.203       1.076\n",
      "year_2015      0.5985      0.330      1.813      0.071      -0.051       1.248\n",
      "year_2016      0.4238      0.322      1.317      0.189      -0.210       1.057\n",
      "year_2017      0.5083      0.318      1.599      0.111      -0.118       1.134\n",
      "year_2018      0.8346      0.317      2.629      0.009       0.210       1.459\n",
      "year_2019      0.6148      0.312      1.971      0.050       0.001       1.229\n",
      "year_2020      0.8415      0.319      2.642      0.009       0.214       1.469\n",
      "year_2021      0.6383      0.312      2.044      0.042       0.024       1.253\n",
      "year_2022      0.7169      0.310      2.311      0.022       0.106       1.328\n",
      "year_2023      0.9105      0.312      2.915      0.004       0.296       1.525\n",
      "==============================================================================\n",
      "Omnibus:                        4.406   Durbin-Watson:                   1.168\n",
      "Prob(Omnibus):                  0.110   Jarque-Bera (JB):                4.100\n",
      "Skew:                          -0.271   Prob(JB):                        0.129\n",
      "Kurtosis:                       3.194   Cond. No.                         812.\n",
      "==============================================================================\n",
      "\n",
      "Notes:\n",
      "[1] Standard Errors assume that the covariance matrix of the errors is correctly specified.\n"
     ]
    }
   ],
   "source": [
    "from sklearn.decomposition import PCA\n",
    "from sklearn.preprocessing import StandardScaler\n",
    "import statsmodels.api as sm\n",
    "import pandas as pd\n",
    "\n",
    "# 1-1. 성능 지표 방향 정리\n",
    "group1 = pd.DataFrame({\n",
    "    \"ERA\": -df_log[\"ERA\"],\n",
    "    \"FIP\": -df_log[\"FIP\"],\n",
    "    \"WHIP\": -df_log[\"WHIP\"],\n",
    "    \"K9\": df_log[\"K9\"],\n",
    "    \"BB9\": -df_log[\"BB9\"],\n",
    "    \"IP\": -df_log[\"IP\"]\n",
    "})\n",
    "\n",
    "# 1-2. 정규화 + PCA (2개 성분)\n",
    "scaled = StandardScaler().fit_transform(group1)\n",
    "pca = PCA(n_components=2)\n",
    "components = pca.fit_transform(scaled)\n",
    "df_log[\"pca_perf1\"] = components[:, 0]\n",
    "df_log[\"pca_perf2\"] = components[:, 1]\n",
    "\n",
    "# 1-3. 회귀 분석\n",
    "features_pca = [\"pca_perf1\", \"pca_perf2\", \"W\", \"age\"] + [col for col in df_log.columns if col.startswith(\"year_\")]\n",
    "# 회귀 분석용 변수 정의\n",
    "X_pca = sm.add_constant(df_log[features_pca])\n",
    "y = df_log[\"log_salary_next\"]\n",
    "\n",
    "# ⛔ object type → float로 변환\n",
    "X_pca = X_pca.astype(float)\n",
    "y = y.astype(float)\n",
    "\n",
    "# 회귀 모델 실행\n",
    "model_pca = sm.OLS(y, X_pca, missing='drop').fit()\n",
    "print(model_pca.summary())"
   ]
  },
  {
   "cell_type": "code",
   "execution_count": 67,
   "id": "59cc4553-8587-4074-b304-029b9f4d31f6",
   "metadata": {},
   "outputs": [
    {
     "name": "stderr",
     "output_type": "stream",
     "text": [
      "/var/folders/48/s46fmd9166lflhx4v40_hps80000gn/T/ipykernel_55111/629095253.py:2: DeprecationWarning: Importing display from IPython.core.display is deprecated since IPython 7.14, please import from IPython display\n",
      "  from IPython.core.display import display, HTML\n"
     ]
    },
    {
     "data": {
      "text/html": [
       "OLS 회귀 결과: PCA 성능지표 + W, age (연도 더미 제외)<br><table style=\"text-align:center\"><tr><td colspan=\"2\" style=\"border-bottom: 1px solid black\"></td></tr>\n",
       "<tr><td style=\"text-align:left\"></td><td colspan=\"1\"><em>Dependent variable: log_salary_next</em></td></tr><tr><td style=\"text-align:left\"></td><tr><td style=\"text-align:left\"></td><td>(1)</td></tr>\n",
       "<tr><td colspan=\"2\" style=\"border-bottom: 1px solid black\"></td></tr>\n",
       "\n",
       "<tr><td style=\"text-align:left\">pca_perf1</td><td>0.071<sup>**</sup></td></tr>\n",
       "<tr><td style=\"text-align:left\"></td><td>(0.035)</td></tr>\n",
       "<tr><td style=\"text-align:left\">pca_perf2</td><td>-0.025<sup></sup></td></tr>\n",
       "<tr><td style=\"text-align:left\"></td><td>(0.052)</td></tr>\n",
       "<tr><td style=\"text-align:left\">W</td><td>0.039<sup>***</sup></td></tr>\n",
       "<tr><td style=\"text-align:left\"></td><td>(0.007)</td></tr>\n",
       "<tr><td style=\"text-align:left\">age</td><td>0.104<sup>***</sup></td></tr>\n",
       "<tr><td style=\"text-align:left\"></td><td>(0.010)</td></tr>\n",
       "<tr><td style=\"text-align:left\">const</td><td>14.795<sup>***</sup></td></tr>\n",
       "<tr><td style=\"text-align:left\"></td><td>(0.413)</td></tr>\n",
       "\n",
       "<td colspan=\"2\" style=\"border-bottom: 1px solid black\"></td></tr>\n",
       "<tr><td style=\"text-align: left\">Observations</td><td>297</td></tr><tr><td style=\"text-align: left\">R<sup>2</sup></td><td>0.456</td></tr><tr><td style=\"text-align: left\">Adjusted R<sup>2</sup></td><td>0.421</td></tr><tr><td style=\"text-align: left\">Residual Std. Error</td><td>0.757 (df=278)</td></tr><tr><td style=\"text-align: left\">F Statistic</td><td>12.943<sup>***</sup> (df=18; 278)</td></tr>\n",
       "<tr><td colspan=\"2\" style=\"border-bottom: 1px solid black\"></td></tr><tr><td style=\"text-align: left\">Note:</td><td colspan=\"1\" style=\"text-align: right\"><sup>*</sup>p&lt;0.1; <sup>**</sup>p&lt;0.05; <sup>***</sup>p&lt;0.01</td></tr></table>"
      ],
      "text/plain": [
       "<IPython.core.display.HTML object>"
      ]
     },
     "metadata": {},
     "output_type": "display_data"
    }
   ],
   "source": [
    "from stargazer.stargazer import Stargazer\n",
    "from IPython.core.display import display, HTML\n",
    "\n",
    "# 📌 출력할 변수만 추림 (연도 더미 제외)\n",
    "main_vars = [\"pca_perf1\", \"pca_perf2\", \"W\", \"age\", \"const\"]\n",
    "\n",
    "# Stargazer 설정\n",
    "stargazer = Stargazer([model_pca])\n",
    "stargazer.title(\"OLS 회귀 결과: PCA 성능지표 + W, age (연도 더미 제외)\")\n",
    "stargazer.covariate_order(main_vars)\n",
    "\n",
    "# 결과 출력 (Jupyter용)\n",
    "display(HTML(stargazer.render_html()))"
   ]
  },
  {
   "cell_type": "markdown",
   "id": "fae00519-052e-40af-9b40-9ec05bc612c4",
   "metadata": {},
   "source": [
    "# 성능지표 따로따로"
   ]
  },
  {
   "cell_type": "code",
   "execution_count": 35,
   "id": "c54cbcf0-28b2-4252-a3ba-6fa25737e57b",
   "metadata": {},
   "outputs": [
    {
     "name": "stdout",
     "output_type": "stream",
     "text": [
      "                            OLS Regression Results                            \n",
      "==============================================================================\n",
      "Dep. Variable:        log_salary_next   R-squared:                       0.480\n",
      "Model:                            OLS   Adj. R-squared:                  0.438\n",
      "Method:                 Least Squares   F-statistic:                     11.49\n",
      "Date:                Thu, 05 Jun 2025   Prob (F-statistic):           8.38e-28\n",
      "Time:                        02:15:24   Log-Likelihood:                -322.18\n",
      "No. Observations:                 297   AIC:                             690.4\n",
      "Df Residuals:                     274   BIC:                             775.3\n",
      "Df Model:                          22                                         \n",
      "Covariance Type:            nonrobust                                         \n",
      "==============================================================================\n",
      "                 coef    std err          t      P>|t|      [0.025      0.975]\n",
      "------------------------------------------------------------------------------\n",
      "const         14.6198      0.780     18.741      0.000      13.084      16.156\n",
      "ERA            0.0879      0.060      1.477      0.141      -0.029       0.205\n",
      "FIP           -0.1231      0.089     -1.387      0.167      -0.298       0.052\n",
      "WHIP           0.0379      0.359      0.106      0.916      -0.669       0.745\n",
      "K9             0.0238      0.038      0.622      0.534      -0.051       0.099\n",
      "BB9           -0.0454      0.048     -0.952      0.342      -0.139       0.049\n",
      "W              0.0231      0.010      2.314      0.021       0.003       0.043\n",
      "age            0.1058      0.010     10.459      0.000       0.086       0.126\n",
      "IP             0.0025      0.001      2.789      0.006       0.001       0.004\n",
      "year_2009      0.5267      0.336      1.566      0.119      -0.135       1.189\n",
      "year_2010      0.2362      0.330      0.716      0.475      -0.413       0.886\n",
      "year_2012      0.4679      0.330      1.417      0.158      -0.182       1.118\n",
      "year_2013      0.3532      0.330      1.071      0.285      -0.296       1.003\n",
      "year_2014      0.2258      0.328      0.689      0.492      -0.420       0.871\n",
      "year_2015      0.4659      0.333      1.399      0.163      -0.190       1.121\n",
      "year_2016      0.2597      0.323      0.803      0.423      -0.377       0.896\n",
      "year_2017      0.3126      0.323      0.968      0.334      -0.323       0.948\n",
      "year_2018      0.6018      0.324      1.858      0.064      -0.036       1.239\n",
      "year_2019      0.5732      0.308      1.861      0.064      -0.033       1.180\n",
      "year_2020      0.7196      0.318      2.266      0.024       0.094       1.345\n",
      "year_2021      0.5958      0.308      1.933      0.054      -0.011       1.203\n",
      "year_2022      0.6197      0.308      2.014      0.045       0.014       1.226\n",
      "year_2023      0.7667      0.310      2.471      0.014       0.156       1.378\n",
      "==============================================================================\n",
      "Omnibus:                        3.893   Durbin-Watson:                   1.175\n",
      "Prob(Omnibus):                  0.143   Jarque-Bera (JB):                3.595\n",
      "Skew:                          -0.256   Prob(JB):                        0.166\n",
      "Kurtosis:                       3.169   Cond. No.                     6.69e+03\n",
      "==============================================================================\n",
      "\n",
      "Notes:\n",
      "[1] Standard Errors assume that the covariance matrix of the errors is correctly specified.\n",
      "[2] The condition number is large, 6.69e+03. This might indicate that there are\n",
      "strong multicollinearity or other numerical problems.\n"
     ]
    }
   ],
   "source": [
    "# 2-1. 개별 성능 지표 회귀\n",
    "features_raw = [\"ERA\", \"FIP\", \"WHIP\", \"K9\", \"BB9\", \"W\", \"age\", \"IP\"] + [col for col in df_log.columns if col.startswith(\"year_\")]\n",
    "X_raw = sm.add_constant(df_log[features_raw])\n",
    "X_raw = X_raw.astype(float)\n",
    "model_raw = sm.OLS(y, X_raw, missing='drop').fit()\n",
    "print(model_raw.summary())"
   ]
  },
  {
   "cell_type": "markdown",
   "id": "b8430966-67a7-4a8e-8585-2eaec3b003e3",
   "metadata": {},
   "source": [
    "# 시각화"
   ]
  },
  {
   "cell_type": "code",
   "execution_count": 36,
   "id": "39c5a6ad-c805-436f-96bf-2085c753b8f5",
   "metadata": {},
   "outputs": [
    {
     "data": {
      "image/png": "[encoded data removed]",
      "text/plain": [
       "<Figure size 800x600 with 1 Axes>"
      ]
     },
     "metadata": {},
     "output_type": "display_data"
    }
   ],
   "source": [
    "import matplotlib.pyplot as plt\n",
    "import seaborn as sns\n",
    "\n",
    "# 예측값과 실제값 시각화\n",
    "y_pred = model.predict(X_valid)\n",
    "y_true = y_valid\n",
    "\n",
    "plt.figure(figsize=(8, 6))\n",
    "sns.scatterplot(x=y_true, y=y_pred)\n",
    "plt.plot([y_true.min(), y_true.max()], [y_true.min(), y_true.max()], 'r--', label=\"Ideal Fit\")\n",
    "plt.xlabel(\"Real (log) salary (log_salary_next)\")\n",
    "plt.ylabel(\"Predict (log) salary\")\n",
    "plt.title(\"Predict vs Real\")\n",
    "plt.legend()\n",
    "plt.grid(True)\n",
    "plt.tight_layout()\n",
    "plt.show()\n"
   ]
  },
  {
   "cell_type": "markdown",
   "id": "85ae28da-8394-427e-a033-9501c7a962c0",
   "metadata": {},
   "source": [
    "# QQ Plot"
   ]
  },
  {
   "cell_type": "code",
   "execution_count": 37,
   "id": "8a4dba70-766d-4ab9-abf5-bf8ede865fc9",
   "metadata": {},
   "outputs": [
    {
     "data": {
      "image/png": "[encoded data removed]",
      "text/plain": [
       "<Figure size 600x600 with 1 Axes>"
      ]
     },
     "metadata": {},
     "output_type": "display_data"
    }
   ],
   "source": [
    "import scipy.stats as stats\n",
    "\n",
    "residuals = y_true - y_pred\n",
    "\n",
    "plt.figure(figsize=(6, 6))\n",
    "stats.probplot(residuals, dist=\"norm\", plot=plt)\n",
    "plt.title(\"residual QQ-Plot\")\n",
    "plt.grid(True)\n",
    "plt.tight_layout()\n",
    "plt.show()\n"
   ]
  },
  {
   "cell_type": "markdown",
   "id": "ae19327c-911b-4da9-88ee-c0179732cf25",
   "metadata": {},
   "source": [
    "# 잔차 분포 히스토그램"
   ]
  },
  {
   "cell_type": "code",
   "execution_count": 38,
   "id": "18261ed5-6165-4f93-b78e-337c69ffd45b",
   "metadata": {},
   "outputs": [
    {
     "data": {
      "image/png": "[encoded data removed]",
      "text/plain": [
       "<Figure size 800x500 with 1 Axes>"
      ]
     },
     "metadata": {},
     "output_type": "display_data"
    }
   ],
   "source": [
    "plt.figure(figsize=(8, 5))\n",
    "sns.histplot(residuals, bins=25, kde=True)\n",
    "plt.xlabel(\"residual (real - predict)\")\n",
    "plt.title(\"residual distribution\")\n",
    "plt.grid(True)\n",
    "plt.tight_layout()\n",
    "plt.show()"
   ]
  },
  {
   "cell_type": "markdown",
   "id": "163ba915-cdfa-4de9-84b9-a8a4d7bb813c",
   "metadata": {},
   "source": [
    "# Stargazer 적용"
   ]
  },
  {
   "cell_type": "code",
   "execution_count": 42,
   "id": "c2b3e412-94ac-4d27-9d2e-a647d8635168",
   "metadata": {},
   "outputs": [
    {
     "name": "stderr",
     "output_type": "stream",
     "text": [
      "/var/folders/48/s46fmd9166lflhx4v40_hps80000gn/T/ipykernel_55111/802403576.py:3: DeprecationWarning: Importing display from IPython.core.display is deprecated since IPython 7.14, please import from IPython display\n",
      "  from IPython.core.display import display, HTML\n"
     ]
    },
    {
     "data": {
      "text/html": [
       "OLS 회귀 분석 결과: RS → W<br><table style=\"text-align:center\"><tr><td colspan=\"2\" style=\"border-bottom: 1px solid black\"></td></tr>\n",
       "<tr><td style=\"text-align:left\"></td><td colspan=\"1\"><em>Dependent variable: W</em></td></tr><tr><td style=\"text-align:left\"></td><tr><td style=\"text-align:left\"></td><td>(1)</td></tr>\n",
       "<tr><td colspan=\"2\" style=\"border-bottom: 1px solid black\"></td></tr>\n",
       "\n",
       "<tr><td style=\"text-align:left\">RS</td><td>0.121<sup>***</sup></td></tr>\n",
       "<tr><td style=\"text-align:left\"></td><td>(0.004)</td></tr>\n",
       "<tr><td style=\"text-align:left\">const</td><td>-1.471<sup>**</sup></td></tr>\n",
       "<tr><td style=\"text-align:left\"></td><td>(0.575)</td></tr>\n",
       "\n",
       "<td colspan=\"2\" style=\"border-bottom: 1px solid black\"></td></tr>\n",
       "<tr><td style=\"text-align: left\">Observations</td><td>297</td></tr><tr><td style=\"text-align: left\">R<sup>2</sup></td><td>0.794</td></tr><tr><td style=\"text-align: left\">Adjusted R<sup>2</sup></td><td>0.793</td></tr><tr><td style=\"text-align: left\">Residual Std. Error</td><td>4.483 (df=295)</td></tr><tr><td style=\"text-align: left\">F Statistic</td><td>1136.285<sup>***</sup> (df=1; 295)</td></tr>\n",
       "<tr><td colspan=\"2\" style=\"border-bottom: 1px solid black\"></td></tr><tr><td style=\"text-align: left\">Note:</td><td colspan=\"1\" style=\"text-align: right\"><sup>*</sup>p&lt;0.1; <sup>**</sup>p&lt;0.05; <sup>***</sup>p&lt;0.01</td></tr></table>"
      ],
      "text/plain": [
       "<IPython.core.display.HTML object>"
      ]
     },
     "metadata": {},
     "output_type": "display_data"
    }
   ],
   "source": [
    "import statsmodels.api as sm\n",
    "from stargazer.stargazer import Stargazer\n",
    "from IPython.core.display import display, HTML\n",
    "\n",
    "# 설명변수와 종속변수 설정\n",
    "X = df_log[[\"RS\"]]\n",
    "X = sm.add_constant(X)  # 상수항 추가\n",
    "y = df_log[\"W\"]\n",
    "\n",
    "# 결측값 제거\n",
    "valid_idx = X.notnull().all(axis=1) & y.notnull()\n",
    "X_valid = X.loc[valid_idx].astype(float)\n",
    "y_valid = y.loc[valid_idx].astype(float)\n",
    "\n",
    "# 회귀 실행\n",
    "model = sm.OLS(y_valid, X_valid).fit()\n",
    "\n",
    "# Stargazer로 결과 표 출력\n",
    "stargazer = Stargazer([model])\n",
    "stargazer.title(\"OLS 회귀 분석 결과: RS → W\")\n",
    "display(HTML(stargazer.render_html()))"
   ]
  },
  {
   "cell_type": "code",
   "execution_count": 43,
   "id": "c0b30f4f-9eb7-40d4-81d7-8e0f7ea6b5cc",
   "metadata": {},
   "outputs": [
    {
     "name": "stderr",
     "output_type": "stream",
     "text": [
      "/var/folders/48/s46fmd9166lflhx4v40_hps80000gn/T/ipykernel_55111/713277806.py:2: DeprecationWarning: Importing display from IPython.core.display is deprecated since IPython 7.14, please import from IPython display\n",
      "  from IPython.core.display import display, HTML\n"
     ]
    },
    {
     "data": {
      "text/html": [
       "OLS 회귀 분석 결과: RS, ERA, IP + 연도 더미 → W<br><table style=\"text-align:center\"><tr><td colspan=\"2\" style=\"border-bottom: 1px solid black\"></td></tr>\n",
       "<tr><td style=\"text-align:left\"></td><td colspan=\"1\"><em>Dependent variable: W</em></td></tr><tr><td style=\"text-align:left\"></td><tr><td style=\"text-align:left\"></td><td>(1)</td></tr>\n",
       "<tr><td colspan=\"2\" style=\"border-bottom: 1px solid black\"></td></tr>\n",
       "\n",
       "<tr><td style=\"text-align:left\">RS</td><td>0.121<sup>***</sup></td></tr>\n",
       "<tr><td style=\"text-align:left\"></td><td>(0.004)</td></tr>\n",
       "<tr><td style=\"text-align:left\">const</td><td>-1.471<sup>**</sup></td></tr>\n",
       "<tr><td style=\"text-align:left\"></td><td>(0.575)</td></tr>\n",
       "\n",
       "<td colspan=\"2\" style=\"border-bottom: 1px solid black\"></td></tr>\n",
       "<tr><td style=\"text-align: left\">Observations</td><td>297</td></tr><tr><td style=\"text-align: left\">R<sup>2</sup></td><td>0.794</td></tr><tr><td style=\"text-align: left\">Adjusted R<sup>2</sup></td><td>0.793</td></tr><tr><td style=\"text-align: left\">Residual Std. Error</td><td>4.483 (df=295)</td></tr><tr><td style=\"text-align: left\">F Statistic</td><td>1136.285<sup>***</sup> (df=1; 295)</td></tr>\n",
       "<tr><td colspan=\"2\" style=\"border-bottom: 1px solid black\"></td></tr><tr><td style=\"text-align: left\">Note:</td><td colspan=\"1\" style=\"text-align: right\"><sup>*</sup>p&lt;0.1; <sup>**</sup>p&lt;0.05; <sup>***</sup>p&lt;0.01</td></tr></table>"
      ],
      "text/plain": [
       "<IPython.core.display.HTML object>"
      ]
     },
     "metadata": {},
     "output_type": "display_data"
    }
   ],
   "source": [
    "from stargazer.stargazer import Stargazer\n",
    "from IPython.core.display import display, HTML\n",
    "\n",
    "# Stargazer 인스턴스 생성\n",
    "stargazer = Stargazer([model])\n",
    "stargazer.title(\"OLS 회귀 분석 결과: RS, ERA, IP + 연도 더미 → W\")\n",
    "\n",
    "# 예쁘게 출력 (Jupyter Notebook/Lab에서 실행)\n",
    "display(HTML(stargazer.render_html()))"
   ]
  },
  {
   "cell_type": "markdown",
   "id": "a35e7648-d88d-442c-b4d5-eda9521da5e2",
   "metadata": {},
   "source": [
    "# 교호항 생성"
   ]
  },
  {
   "cell_type": "code",
   "execution_count": 67,
   "id": "4b730fad-176d-4eb0-a35c-41459165dfc0",
   "metadata": {},
   "outputs": [],
   "source": [
    "# 교호항 생성: W × year 더미 변수\n",
    "for col in df_log.columns:\n",
    "    if col.startswith(\"year_\"):\n",
    "        interaction_col = f\"W_{col}\"\n",
    "        df_log[interaction_col] = df_log[\"W\"] * df_log[col]"
   ]
  },
  {
   "cell_type": "code",
   "execution_count": 68,
   "id": "4d7e9f95-8a62-4f70-9c82-f68f2bada1c0",
   "metadata": {},
   "outputs": [],
   "source": [
    "# 교호항 포함한 전체 회귀 변수\n",
    "features = [\n",
    "    \"W\", \"ERA\", \"IP\", \"K9\", \"BB9\", \"WHIP\", \"FIP\", \"age\", \"fa\"\n",
    "] + [col for col in df_log.columns if col.startswith(\"year_\")] \\\n",
    "  + [col for col in df_log.columns if col.startswith(\"W_year_\")]"
   ]
  },
  {
   "cell_type": "code",
   "execution_count": 69,
   "id": "ebf5f59f-b99b-42ea-9472-0bbdd9b86f2c",
   "metadata": {},
   "outputs": [
    {
     "name": "stdout",
     "output_type": "stream",
     "text": [
      "                            OLS Regression Results                            \n",
      "==============================================================================\n",
      "Dep. Variable:        log_salary_next   R-squared:                       0.515\n",
      "Model:                            OLS   Adj. R-squared:                  0.445\n",
      "Method:                 Least Squares   F-statistic:                     7.425\n",
      "Date:                Fri, 13 Jun 2025   Prob (F-statistic):           4.51e-24\n",
      "Time:                        01:48:20   Log-Likelihood:                -311.91\n",
      "No. Observations:                 297   AIC:                             699.8\n",
      "Df Residuals:                     259   BIC:                             840.2\n",
      "Df Model:                          37                                         \n",
      "Covariance Type:            nonrobust                                         \n",
      "===============================================================================\n",
      "                  coef    std err          t      P>|t|      [0.025      0.975]\n",
      "-------------------------------------------------------------------------------\n",
      "const          15.7896      2.086      7.570      0.000      11.682      19.897\n",
      "W              -0.0168      0.076     -0.220      0.826      -0.167       0.133\n",
      "ERA             0.0809      0.062      1.296      0.196      -0.042       0.204\n",
      "IP              0.0019      0.001      2.082      0.038       0.000       0.004\n",
      "K9              0.0243      0.039      0.619      0.536      -0.053       0.101\n",
      "BB9            -0.0474      0.049     -0.976      0.330      -0.143       0.048\n",
      "WHIP            0.0142      0.376      0.038      0.970      -0.727       0.755\n",
      "FIP            -0.1174      0.091     -1.289      0.199      -0.297       0.062\n",
      "age             0.1076      0.010     10.321      0.000       0.087       0.128\n",
      "fa             -0.0967      0.226     -0.427      0.669      -0.542       0.349\n",
      "year_2009       0.4350      1.993      0.218      0.827      -3.490       4.360\n",
      "year_2010      -0.8399      1.949     -0.431      0.667      -4.678       2.998\n",
      "year_2012       0.2717      1.956      0.139      0.890      -3.580       4.124\n",
      "year_2013      -0.1563      1.982     -0.079      0.937      -4.059       3.746\n",
      "year_2014      -0.6283      1.940     -0.324      0.746      -4.449       3.192\n",
      "year_2015      -0.5154      1.944     -0.265      0.791      -4.344       3.313\n",
      "year_2016      -0.9589      1.950     -0.492      0.623      -4.799       2.881\n",
      "year_2017      -1.1544      1.952     -0.592      0.555      -4.997       2.689\n",
      "year_2018      -0.4361      1.935     -0.225      0.822      -4.247       3.375\n",
      "year_2019      -0.7414      1.926     -0.385      0.701      -4.533       3.051\n",
      "year_2020      -0.4850      1.932     -0.251      0.802      -4.290       3.320\n",
      "year_2021      -0.5231      1.927     -0.271      0.786      -4.318       3.272\n",
      "year_2022      -0.8973      1.931     -0.465      0.643      -4.699       2.905\n",
      "year_2023      -0.3732      1.929     -0.193      0.847      -4.171       3.425\n",
      "W_year_2009    -0.0058      0.081     -0.072      0.942      -0.165       0.153\n",
      "W_year_2010     0.0431      0.078      0.551      0.582      -0.111       0.197\n",
      "W_year_2012    -0.0088      0.080     -0.110      0.913      -0.166       0.149\n",
      "W_year_2013     0.0120      0.081      0.148      0.883      -0.148       0.171\n",
      "W_year_2014     0.0291      0.079      0.370      0.712      -0.126       0.184\n",
      "W_year_2015     0.0384      0.078      0.492      0.623      -0.115       0.192\n",
      "W_year_2016     0.0510      0.079      0.648      0.518      -0.104       0.206\n",
      "W_year_2017     0.0659      0.079      0.833      0.405      -0.090       0.222\n",
      "W_year_2018     0.0413      0.079      0.525      0.600      -0.114       0.196\n",
      "W_year_2019     0.0597      0.078      0.766      0.444      -0.094       0.213\n",
      "W_year_2020     0.0525      0.079      0.668      0.505      -0.102       0.207\n",
      "W_year_2021     0.0454      0.078      0.583      0.561      -0.108       0.199\n",
      "W_year_2022     0.0736      0.078      0.942      0.347      -0.080       0.228\n",
      "W_year_2023     0.0484      0.079      0.616      0.538      -0.106       0.203\n",
      "==============================================================================\n",
      "Omnibus:                        6.555   Durbin-Watson:                   1.264\n",
      "Prob(Omnibus):                  0.038   Jarque-Bera (JB):                6.556\n",
      "Skew:                          -0.290   Prob(JB):                       0.0377\n",
      "Kurtosis:                       3.440   Cond. No.                     4.73e+04\n",
      "==============================================================================\n",
      "\n",
      "Notes:\n",
      "[1] Standard Errors assume that the covariance matrix of the errors is correctly specified.\n",
      "[2] The condition number is large, 4.73e+04. This might indicate that there are\n",
      "strong multicollinearity or other numerical problems.\n"
     ]
    }
   ],
   "source": [
    "import statsmodels.api as sm\n",
    "\n",
    "X = df_log[features]\n",
    "X = sm.add_constant(X)\n",
    "y = df_log[\"log_salary_next\"]\n",
    "\n",
    "valid_idx = X.notnull().all(axis=1) & y.notnull()\n",
    "X_valid = X.loc[valid_idx].astype(float)\n",
    "y_valid = y.loc[valid_idx].astype(float)\n",
    "\n",
    "model = sm.OLS(y_valid, X_valid).fit()\n",
    "print(model.summary())"
   ]
  },
  {
   "cell_type": "code",
   "execution_count": null,
   "id": "1c861646-f8ae-4345-ad7b-4c0979f577cd",
   "metadata": {},
   "outputs": [],
   "source": []
  }
 ],
 "metadata": {
  "kernelspec": {
   "display_name": "Python 3 (ipykernel)",
   "language": "python",
   "name": "python3"
  },
  "language_info": {
   "codemirror_mode": {
    "name": "ipython",
    "version": 3
   },
   "file_extension": ".py",
   "mimetype": "text/x-python",
   "name": "python",
   "nbconvert_exporter": "python",
   "pygments_lexer": "ipython3",
   "version": "3.9.21"
  }
 },
 "nbformat": 4,
 "nbformat_minor": 5
}
